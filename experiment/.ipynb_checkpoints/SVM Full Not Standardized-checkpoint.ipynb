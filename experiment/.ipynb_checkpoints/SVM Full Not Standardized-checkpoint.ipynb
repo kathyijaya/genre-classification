{
 "cells": [
  {
   "cell_type": "code",
   "execution_count": 1,
   "id": "b5aa7dbe",
   "metadata": {},
   "outputs": [
    {
     "name": "stdout",
     "output_type": "stream",
     "text": [
      "Loading Genre_Classification system from path /mnt/d/UNIV NOTES/Y4S1/DSA4199/genre_classification\n"
     ]
    },
    {
     "name": "stderr",
     "output_type": "stream",
     "text": [
      "2022-11-10 10:11:43.260189: W tensorflow/stream_executor/platform/default/dso_loader.cc:64] Could not load dynamic library 'libcudart.so.11.0'; dlerror: libcudart.so.11.0: cannot open shared object file: No such file or directory\n",
      "2022-11-10 10:11:43.260284: I tensorflow/stream_executor/cuda/cudart_stub.cc:29] Ignore above cudart dlerror if you do not have a GPU set up on your machine.\n"
     ]
    }
   ],
   "source": [
    "%matplotlib inline\n",
    "\n",
    "import os\n",
    "import sys\n",
    "genre_class_path = os.path.abspath(os.path.join(os.getcwd(), os.pardir))\n",
    "print(\"Loading Genre_Classification system from path\", genre_class_path)\n",
    "sys.path.append(genre_class_path)\n",
    "\n",
    "import numpy as np\n",
    "import pandas as pd\n",
    "import tensorflow as tf\n",
    "import json\n",
    "import random"
   ]
  },
  {
   "cell_type": "code",
   "execution_count": 2,
   "id": "0ac028d4",
   "metadata": {},
   "outputs": [
    {
     "name": "stderr",
     "output_type": "stream",
     "text": [
      "[nltk_data] Downloading package averaged_perceptron_tagger to\n",
      "[nltk_data]     /home/kathyij74/nltk_data...\n",
      "[nltk_data]   Package averaged_perceptron_tagger is already up-to-\n",
      "[nltk_data]       date!\n"
     ]
    },
    {
     "data": {
      "text/plain": [
       "True"
      ]
     },
     "execution_count": 2,
     "metadata": {},
     "output_type": "execute_result"
    }
   ],
   "source": [
    "from nltk import download\n",
    "from sklearn import svm\n",
    "from sklearn.metrics import accuracy_score\n",
    "\n",
    "download('averaged_perceptron_tagger')"
   ]
  },
  {
   "cell_type": "code",
   "execution_count": 3,
   "id": "93293b29",
   "metadata": {},
   "outputs": [],
   "source": [
    "dataset_wkspc = os.path.join(genre_class_path, 'workspace', 'gb_input')\n",
    "data_path = os.path.join(dataset_wkspc, 'full_stem_corpus.csv')\n",
    "\n",
    "full_df = pd.read_csv(data_path)"
   ]
  },
  {
   "cell_type": "code",
   "execution_count": 4,
   "id": "9bebfdb3",
   "metadata": {},
   "outputs": [],
   "source": [
    "dataset_wkspc = os.path.join(genre_class_path, 'workspace', 'gb_input')\n",
    "data_path = os.path.join(dataset_wkspc, 'data_index.json')\n",
    "\n",
    "with open(data_path) as f:\n",
    "    data_json = json.load(f)"
   ]
  },
  {
   "cell_type": "code",
   "execution_count": 5,
   "id": "340dfd2c",
   "metadata": {},
   "outputs": [],
   "source": [
    "index = []\n",
    "for entry in data_json:\n",
    "    index.append(entry['index'])"
   ]
  },
  {
   "cell_type": "code",
   "execution_count": 6,
   "id": "6f8d0aef",
   "metadata": {},
   "outputs": [
    {
     "data": {
      "text/plain": [
       "['10002',\n",
       " '10005',\n",
       " '10008',\n",
       " '10046',\n",
       " '10067',\n",
       " '10094',\n",
       " '10109',\n",
       " '10124',\n",
       " '1014',\n",
       " '10234']"
      ]
     },
     "execution_count": 6,
     "metadata": {},
     "output_type": "execute_result"
    }
   ],
   "source": [
    "index[:10]"
   ]
  },
  {
   "cell_type": "code",
   "execution_count": 7,
   "id": "236bd5a4",
   "metadata": {},
   "outputs": [],
   "source": [
    "full_df.index = index"
   ]
  },
  {
   "cell_type": "code",
   "execution_count": 10,
   "id": "1ab5a8c0",
   "metadata": {},
   "outputs": [
    {
     "data": {
      "text/html": [
       "<div>\n",
       "<style scoped>\n",
       "    .dataframe tbody tr th:only-of-type {\n",
       "        vertical-align: middle;\n",
       "    }\n",
       "\n",
       "    .dataframe tbody tr th {\n",
       "        vertical-align: top;\n",
       "    }\n",
       "\n",
       "    .dataframe thead th {\n",
       "        text-align: right;\n",
       "    }\n",
       "</style>\n",
       "<table border=\"1\" class=\"dataframe\">\n",
       "  <thead>\n",
       "    <tr style=\"text-align: right;\">\n",
       "      <th></th>\n",
       "      <th>abandon</th>\n",
       "      <th>abid</th>\n",
       "      <th>abil</th>\n",
       "      <th>abl</th>\n",
       "      <th>aboard</th>\n",
       "      <th>abod</th>\n",
       "      <th>abomin</th>\n",
       "      <th>about</th>\n",
       "      <th>abov</th>\n",
       "      <th>abreast</th>\n",
       "      <th>...</th>\n",
       "      <th>youngest</th>\n",
       "      <th>youngster</th>\n",
       "      <th>your</th>\n",
       "      <th>yourself</th>\n",
       "      <th>yourselv</th>\n",
       "      <th>youth</th>\n",
       "      <th>youv</th>\n",
       "      <th>youyou</th>\n",
       "      <th>zip</th>\n",
       "      <th>subjects</th>\n",
       "    </tr>\n",
       "  </thead>\n",
       "  <tbody>\n",
       "    <tr>\n",
       "      <th>10002</th>\n",
       "      <td>0</td>\n",
       "      <td>1</td>\n",
       "      <td>2</td>\n",
       "      <td>28</td>\n",
       "      <td>0</td>\n",
       "      <td>1</td>\n",
       "      <td>3</td>\n",
       "      <td>103</td>\n",
       "      <td>35</td>\n",
       "      <td>0</td>\n",
       "      <td>...</td>\n",
       "      <td>0</td>\n",
       "      <td>0</td>\n",
       "      <td>11</td>\n",
       "      <td>0</td>\n",
       "      <td>0</td>\n",
       "      <td>0</td>\n",
       "      <td>1</td>\n",
       "      <td>0</td>\n",
       "      <td>2</td>\n",
       "      <td>5</td>\n",
       "    </tr>\n",
       "    <tr>\n",
       "      <th>10005</th>\n",
       "      <td>1</td>\n",
       "      <td>1</td>\n",
       "      <td>4</td>\n",
       "      <td>27</td>\n",
       "      <td>0</td>\n",
       "      <td>1</td>\n",
       "      <td>0</td>\n",
       "      <td>136</td>\n",
       "      <td>12</td>\n",
       "      <td>0</td>\n",
       "      <td>...</td>\n",
       "      <td>3</td>\n",
       "      <td>0</td>\n",
       "      <td>94</td>\n",
       "      <td>2</td>\n",
       "      <td>0</td>\n",
       "      <td>8</td>\n",
       "      <td>0</td>\n",
       "      <td>0</td>\n",
       "      <td>2</td>\n",
       "      <td>5</td>\n",
       "    </tr>\n",
       "    <tr>\n",
       "      <th>10008</th>\n",
       "      <td>6</td>\n",
       "      <td>1</td>\n",
       "      <td>0</td>\n",
       "      <td>7</td>\n",
       "      <td>60</td>\n",
       "      <td>0</td>\n",
       "      <td>0</td>\n",
       "      <td>128</td>\n",
       "      <td>21</td>\n",
       "      <td>2</td>\n",
       "      <td>...</td>\n",
       "      <td>0</td>\n",
       "      <td>0</td>\n",
       "      <td>134</td>\n",
       "      <td>18</td>\n",
       "      <td>2</td>\n",
       "      <td>3</td>\n",
       "      <td>15</td>\n",
       "      <td>0</td>\n",
       "      <td>2</td>\n",
       "      <td>5</td>\n",
       "    </tr>\n",
       "    <tr>\n",
       "      <th>10046</th>\n",
       "      <td>0</td>\n",
       "      <td>3</td>\n",
       "      <td>0</td>\n",
       "      <td>3</td>\n",
       "      <td>3</td>\n",
       "      <td>2</td>\n",
       "      <td>2</td>\n",
       "      <td>133</td>\n",
       "      <td>29</td>\n",
       "      <td>1</td>\n",
       "      <td>...</td>\n",
       "      <td>1</td>\n",
       "      <td>0</td>\n",
       "      <td>249</td>\n",
       "      <td>14</td>\n",
       "      <td>0</td>\n",
       "      <td>36</td>\n",
       "      <td>10</td>\n",
       "      <td>0</td>\n",
       "      <td>2</td>\n",
       "      <td>3</td>\n",
       "    </tr>\n",
       "    <tr>\n",
       "      <th>10067</th>\n",
       "      <td>1</td>\n",
       "      <td>1</td>\n",
       "      <td>1</td>\n",
       "      <td>22</td>\n",
       "      <td>7</td>\n",
       "      <td>0</td>\n",
       "      <td>1</td>\n",
       "      <td>166</td>\n",
       "      <td>26</td>\n",
       "      <td>1</td>\n",
       "      <td>...</td>\n",
       "      <td>0</td>\n",
       "      <td>0</td>\n",
       "      <td>136</td>\n",
       "      <td>17</td>\n",
       "      <td>0</td>\n",
       "      <td>3</td>\n",
       "      <td>8</td>\n",
       "      <td>0</td>\n",
       "      <td>2</td>\n",
       "      <td>2</td>\n",
       "    </tr>\n",
       "  </tbody>\n",
       "</table>\n",
       "<p>5 rows × 4845 columns</p>\n",
       "</div>"
      ],
      "text/plain": [
       "       abandon  abid  abil  abl  aboard  abod  abomin  about  abov  abreast  \\\n",
       "10002        0     1     2   28       0     1       3    103    35        0   \n",
       "10005        1     1     4   27       0     1       0    136    12        0   \n",
       "10008        6     1     0    7      60     0       0    128    21        2   \n",
       "10046        0     3     0    3       3     2       2    133    29        1   \n",
       "10067        1     1     1   22       7     0       1    166    26        1   \n",
       "\n",
       "       ...  youngest  youngster  your  yourself  yourselv  youth  youv  \\\n",
       "10002  ...         0          0    11         0         0      0     1   \n",
       "10005  ...         3          0    94         2         0      8     0   \n",
       "10008  ...         0          0   134        18         2      3    15   \n",
       "10046  ...         1          0   249        14         0     36    10   \n",
       "10067  ...         0          0   136        17         0      3     8   \n",
       "\n",
       "       youyou  zip  subjects  \n",
       "10002       0    2         5  \n",
       "10005       0    2         5  \n",
       "10008       0    2         5  \n",
       "10046       0    2         3  \n",
       "10067       0    2         2  \n",
       "\n",
       "[5 rows x 4845 columns]"
      ]
     },
     "execution_count": 10,
     "metadata": {},
     "output_type": "execute_result"
    }
   ],
   "source": [
    "full_df.head()"
   ]
  },
  {
   "cell_type": "code",
   "execution_count": 9,
   "id": "5de14dcc",
   "metadata": {},
   "outputs": [
    {
     "data": {
      "text/plain": [
       "5    1742\n",
       "1     523\n",
       "2     469\n",
       "4     427\n",
       "6     374\n",
       "3     354\n",
       "Name: subjects, dtype: int64"
      ]
     },
     "execution_count": 9,
     "metadata": {},
     "output_type": "execute_result"
    }
   ],
   "source": [
    "full_df['subjects'].value_counts()"
   ]
  },
  {
   "cell_type": "code",
   "execution_count": 12,
   "id": "d3fb06f4",
   "metadata": {},
   "outputs": [
    {
     "name": "stdout",
     "output_type": "stream",
     "text": [
      "[2619, 456, 102, 3037, 1126, 1003, 914, 571, 3016, 419, 2771, 3033, 3654, 2233, 356, 2418, 1728, 130, 122, 383]\n",
      "[0, 5, 7, 9, 12, 15, 17, 19, 20, 21, 27, 30, 35, 36, 37, 40, 42, 43, 44, 45]\n",
      "2722\n",
      "1167\n"
     ]
    }
   ],
   "source": [
    "random.seed(42)\n",
    "\n",
    "train = random.sample(range(0, len(full_df)), int(len(full_df)*0.7))\n",
    "test = [x for x in range(0, len(full_df)) if x not in train]\n",
    "\n",
    "print(train[:20])\n",
    "print(test[:20])\n",
    "print(len(train))\n",
    "print(len(test))"
   ]
  },
  {
   "cell_type": "code",
   "execution_count": 37,
   "id": "080076c7",
   "metadata": {},
   "outputs": [
    {
     "name": "stdout",
     "output_type": "stream",
     "text": [
      "(2722, 4845)\n",
      "(1167, 4845)\n"
     ]
    }
   ],
   "source": [
    "train_df = full_df.iloc[train,]\n",
    "test_df = full_df.iloc[test,]\n",
    "\n",
    "print(train_df.shape)\n",
    "print(test_df.shape)"
   ]
  },
  {
   "cell_type": "code",
   "execution_count": 14,
   "id": "c6932fb1",
   "metadata": {},
   "outputs": [
    {
     "data": {
      "text/html": [
       "<div>\n",
       "<style scoped>\n",
       "    .dataframe tbody tr th:only-of-type {\n",
       "        vertical-align: middle;\n",
       "    }\n",
       "\n",
       "    .dataframe tbody tr th {\n",
       "        vertical-align: top;\n",
       "    }\n",
       "\n",
       "    .dataframe thead th {\n",
       "        text-align: right;\n",
       "    }\n",
       "</style>\n",
       "<table border=\"1\" class=\"dataframe\">\n",
       "  <thead>\n",
       "    <tr style=\"text-align: right;\">\n",
       "      <th></th>\n",
       "      <th>abandon</th>\n",
       "      <th>abid</th>\n",
       "      <th>abil</th>\n",
       "      <th>abl</th>\n",
       "      <th>aboard</th>\n",
       "      <th>abod</th>\n",
       "      <th>abomin</th>\n",
       "      <th>about</th>\n",
       "      <th>abov</th>\n",
       "      <th>abreast</th>\n",
       "      <th>...</th>\n",
       "      <th>youngest</th>\n",
       "      <th>youngster</th>\n",
       "      <th>your</th>\n",
       "      <th>yourself</th>\n",
       "      <th>yourselv</th>\n",
       "      <th>youth</th>\n",
       "      <th>youv</th>\n",
       "      <th>youyou</th>\n",
       "      <th>zip</th>\n",
       "      <th>subjects</th>\n",
       "    </tr>\n",
       "  </thead>\n",
       "  <tbody>\n",
       "    <tr>\n",
       "      <th>6407</th>\n",
       "      <td>10</td>\n",
       "      <td>21</td>\n",
       "      <td>0</td>\n",
       "      <td>23</td>\n",
       "      <td>0</td>\n",
       "      <td>5</td>\n",
       "      <td>3</td>\n",
       "      <td>119</td>\n",
       "      <td>25</td>\n",
       "      <td>0</td>\n",
       "      <td>...</td>\n",
       "      <td>4</td>\n",
       "      <td>6</td>\n",
       "      <td>877</td>\n",
       "      <td>57</td>\n",
       "      <td>8</td>\n",
       "      <td>185</td>\n",
       "      <td>0</td>\n",
       "      <td>1</td>\n",
       "      <td>1</td>\n",
       "      <td>3</td>\n",
       "    </tr>\n",
       "    <tr>\n",
       "      <th>20719</th>\n",
       "      <td>1</td>\n",
       "      <td>1</td>\n",
       "      <td>4</td>\n",
       "      <td>18</td>\n",
       "      <td>2</td>\n",
       "      <td>0</td>\n",
       "      <td>1</td>\n",
       "      <td>127</td>\n",
       "      <td>17</td>\n",
       "      <td>0</td>\n",
       "      <td>...</td>\n",
       "      <td>2</td>\n",
       "      <td>0</td>\n",
       "      <td>291</td>\n",
       "      <td>21</td>\n",
       "      <td>1</td>\n",
       "      <td>14</td>\n",
       "      <td>30</td>\n",
       "      <td>0</td>\n",
       "      <td>1</td>\n",
       "      <td>4</td>\n",
       "    </tr>\n",
       "    <tr>\n",
       "      <th>12725</th>\n",
       "      <td>2</td>\n",
       "      <td>5</td>\n",
       "      <td>4</td>\n",
       "      <td>4</td>\n",
       "      <td>0</td>\n",
       "      <td>1</td>\n",
       "      <td>1</td>\n",
       "      <td>38</td>\n",
       "      <td>22</td>\n",
       "      <td>1</td>\n",
       "      <td>...</td>\n",
       "      <td>0</td>\n",
       "      <td>0</td>\n",
       "      <td>69</td>\n",
       "      <td>5</td>\n",
       "      <td>1</td>\n",
       "      <td>21</td>\n",
       "      <td>0</td>\n",
       "      <td>0</td>\n",
       "      <td>1</td>\n",
       "      <td>3</td>\n",
       "    </tr>\n",
       "    <tr>\n",
       "      <th>24104</th>\n",
       "      <td>0</td>\n",
       "      <td>1</td>\n",
       "      <td>0</td>\n",
       "      <td>2</td>\n",
       "      <td>1</td>\n",
       "      <td>0</td>\n",
       "      <td>0</td>\n",
       "      <td>30</td>\n",
       "      <td>5</td>\n",
       "      <td>0</td>\n",
       "      <td>...</td>\n",
       "      <td>0</td>\n",
       "      <td>0</td>\n",
       "      <td>16</td>\n",
       "      <td>0</td>\n",
       "      <td>1</td>\n",
       "      <td>0</td>\n",
       "      <td>5</td>\n",
       "      <td>0</td>\n",
       "      <td>2</td>\n",
       "      <td>5</td>\n",
       "    </tr>\n",
       "    <tr>\n",
       "      <th>30004</th>\n",
       "      <td>1</td>\n",
       "      <td>1</td>\n",
       "      <td>0</td>\n",
       "      <td>2</td>\n",
       "      <td>0</td>\n",
       "      <td>0</td>\n",
       "      <td>0</td>\n",
       "      <td>17</td>\n",
       "      <td>0</td>\n",
       "      <td>0</td>\n",
       "      <td>...</td>\n",
       "      <td>0</td>\n",
       "      <td>0</td>\n",
       "      <td>13</td>\n",
       "      <td>0</td>\n",
       "      <td>0</td>\n",
       "      <td>0</td>\n",
       "      <td>0</td>\n",
       "      <td>0</td>\n",
       "      <td>1</td>\n",
       "      <td>5</td>\n",
       "    </tr>\n",
       "  </tbody>\n",
       "</table>\n",
       "<p>5 rows × 4845 columns</p>\n",
       "</div>"
      ],
      "text/plain": [
       "       abandon  abid  abil  abl  aboard  abod  abomin  about  abov  abreast  \\\n",
       "6407        10    21     0   23       0     5       3    119    25        0   \n",
       "20719        1     1     4   18       2     0       1    127    17        0   \n",
       "12725        2     5     4    4       0     1       1     38    22        1   \n",
       "24104        0     1     0    2       1     0       0     30     5        0   \n",
       "30004        1     1     0    2       0     0       0     17     0        0   \n",
       "\n",
       "       ...  youngest  youngster  your  yourself  yourselv  youth  youv  \\\n",
       "6407   ...         4          6   877        57         8    185     0   \n",
       "20719  ...         2          0   291        21         1     14    30   \n",
       "12725  ...         0          0    69         5         1     21     0   \n",
       "24104  ...         0          0    16         0         1      0     5   \n",
       "30004  ...         0          0    13         0         0      0     0   \n",
       "\n",
       "       youyou  zip  subjects  \n",
       "6407        1    1         3  \n",
       "20719       0    1         4  \n",
       "12725       0    1         3  \n",
       "24104       0    2         5  \n",
       "30004       0    1         5  \n",
       "\n",
       "[5 rows x 4845 columns]"
      ]
     },
     "execution_count": 14,
     "metadata": {},
     "output_type": "execute_result"
    }
   ],
   "source": [
    "train_df.head()"
   ]
  },
  {
   "cell_type": "code",
   "execution_count": 15,
   "id": "a150a661",
   "metadata": {},
   "outputs": [
    {
     "data": {
      "text/plain": [
       "5    1231\n",
       "1     378\n",
       "2     318\n",
       "4     296\n",
       "6     258\n",
       "3     241\n",
       "Name: subjects, dtype: int64"
      ]
     },
     "execution_count": 15,
     "metadata": {},
     "output_type": "execute_result"
    }
   ],
   "source": [
    "train_df['subjects'].value_counts()"
   ]
  },
  {
   "cell_type": "code",
   "execution_count": 16,
   "id": "8c643e9a",
   "metadata": {},
   "outputs": [
    {
     "data": {
      "text/html": [
       "<div>\n",
       "<style scoped>\n",
       "    .dataframe tbody tr th:only-of-type {\n",
       "        vertical-align: middle;\n",
       "    }\n",
       "\n",
       "    .dataframe tbody tr th {\n",
       "        vertical-align: top;\n",
       "    }\n",
       "\n",
       "    .dataframe thead th {\n",
       "        text-align: right;\n",
       "    }\n",
       "</style>\n",
       "<table border=\"1\" class=\"dataframe\">\n",
       "  <thead>\n",
       "    <tr style=\"text-align: right;\">\n",
       "      <th></th>\n",
       "      <th>abandon</th>\n",
       "      <th>abid</th>\n",
       "      <th>abil</th>\n",
       "      <th>abl</th>\n",
       "      <th>aboard</th>\n",
       "      <th>abod</th>\n",
       "      <th>abomin</th>\n",
       "      <th>about</th>\n",
       "      <th>abov</th>\n",
       "      <th>abreast</th>\n",
       "      <th>...</th>\n",
       "      <th>youngest</th>\n",
       "      <th>youngster</th>\n",
       "      <th>your</th>\n",
       "      <th>yourself</th>\n",
       "      <th>yourselv</th>\n",
       "      <th>youth</th>\n",
       "      <th>youv</th>\n",
       "      <th>youyou</th>\n",
       "      <th>zip</th>\n",
       "      <th>subjects</th>\n",
       "    </tr>\n",
       "  </thead>\n",
       "  <tbody>\n",
       "    <tr>\n",
       "      <th>10002</th>\n",
       "      <td>0</td>\n",
       "      <td>1</td>\n",
       "      <td>2</td>\n",
       "      <td>28</td>\n",
       "      <td>0</td>\n",
       "      <td>1</td>\n",
       "      <td>3</td>\n",
       "      <td>103</td>\n",
       "      <td>35</td>\n",
       "      <td>0</td>\n",
       "      <td>...</td>\n",
       "      <td>0</td>\n",
       "      <td>0</td>\n",
       "      <td>11</td>\n",
       "      <td>0</td>\n",
       "      <td>0</td>\n",
       "      <td>0</td>\n",
       "      <td>1</td>\n",
       "      <td>0</td>\n",
       "      <td>2</td>\n",
       "      <td>5</td>\n",
       "    </tr>\n",
       "    <tr>\n",
       "      <th>10094</th>\n",
       "      <td>9</td>\n",
       "      <td>3</td>\n",
       "      <td>4</td>\n",
       "      <td>14</td>\n",
       "      <td>0</td>\n",
       "      <td>1</td>\n",
       "      <td>0</td>\n",
       "      <td>127</td>\n",
       "      <td>38</td>\n",
       "      <td>0</td>\n",
       "      <td>...</td>\n",
       "      <td>0</td>\n",
       "      <td>0</td>\n",
       "      <td>142</td>\n",
       "      <td>11</td>\n",
       "      <td>2</td>\n",
       "      <td>8</td>\n",
       "      <td>1</td>\n",
       "      <td>0</td>\n",
       "      <td>2</td>\n",
       "      <td>3</td>\n",
       "    </tr>\n",
       "    <tr>\n",
       "      <th>10124</th>\n",
       "      <td>2</td>\n",
       "      <td>1</td>\n",
       "      <td>0</td>\n",
       "      <td>6</td>\n",
       "      <td>3</td>\n",
       "      <td>0</td>\n",
       "      <td>0</td>\n",
       "      <td>43</td>\n",
       "      <td>4</td>\n",
       "      <td>0</td>\n",
       "      <td>...</td>\n",
       "      <td>0</td>\n",
       "      <td>0</td>\n",
       "      <td>116</td>\n",
       "      <td>9</td>\n",
       "      <td>1</td>\n",
       "      <td>1</td>\n",
       "      <td>9</td>\n",
       "      <td>2</td>\n",
       "      <td>2</td>\n",
       "      <td>6</td>\n",
       "    </tr>\n",
       "    <tr>\n",
       "      <th>10234</th>\n",
       "      <td>3</td>\n",
       "      <td>1</td>\n",
       "      <td>0</td>\n",
       "      <td>2</td>\n",
       "      <td>0</td>\n",
       "      <td>0</td>\n",
       "      <td>2</td>\n",
       "      <td>113</td>\n",
       "      <td>21</td>\n",
       "      <td>0</td>\n",
       "      <td>...</td>\n",
       "      <td>2</td>\n",
       "      <td>1</td>\n",
       "      <td>131</td>\n",
       "      <td>4</td>\n",
       "      <td>0</td>\n",
       "      <td>2</td>\n",
       "      <td>1</td>\n",
       "      <td>2</td>\n",
       "      <td>2</td>\n",
       "      <td>3</td>\n",
       "    </tr>\n",
       "    <tr>\n",
       "      <th>10372</th>\n",
       "      <td>4</td>\n",
       "      <td>1</td>\n",
       "      <td>1</td>\n",
       "      <td>14</td>\n",
       "      <td>0</td>\n",
       "      <td>1</td>\n",
       "      <td>5</td>\n",
       "      <td>147</td>\n",
       "      <td>18</td>\n",
       "      <td>0</td>\n",
       "      <td>...</td>\n",
       "      <td>2</td>\n",
       "      <td>0</td>\n",
       "      <td>222</td>\n",
       "      <td>7</td>\n",
       "      <td>1</td>\n",
       "      <td>11</td>\n",
       "      <td>29</td>\n",
       "      <td>1</td>\n",
       "      <td>2</td>\n",
       "      <td>6</td>\n",
       "    </tr>\n",
       "  </tbody>\n",
       "</table>\n",
       "<p>5 rows × 4845 columns</p>\n",
       "</div>"
      ],
      "text/plain": [
       "       abandon  abid  abil  abl  aboard  abod  abomin  about  abov  abreast  \\\n",
       "10002        0     1     2   28       0     1       3    103    35        0   \n",
       "10094        9     3     4   14       0     1       0    127    38        0   \n",
       "10124        2     1     0    6       3     0       0     43     4        0   \n",
       "10234        3     1     0    2       0     0       2    113    21        0   \n",
       "10372        4     1     1   14       0     1       5    147    18        0   \n",
       "\n",
       "       ...  youngest  youngster  your  yourself  yourselv  youth  youv  \\\n",
       "10002  ...         0          0    11         0         0      0     1   \n",
       "10094  ...         0          0   142        11         2      8     1   \n",
       "10124  ...         0          0   116         9         1      1     9   \n",
       "10234  ...         2          1   131         4         0      2     1   \n",
       "10372  ...         2          0   222         7         1     11    29   \n",
       "\n",
       "       youyou  zip  subjects  \n",
       "10002       0    2         5  \n",
       "10094       0    2         3  \n",
       "10124       2    2         6  \n",
       "10234       2    2         3  \n",
       "10372       1    2         6  \n",
       "\n",
       "[5 rows x 4845 columns]"
      ]
     },
     "execution_count": 16,
     "metadata": {},
     "output_type": "execute_result"
    }
   ],
   "source": [
    "test_df.head()"
   ]
  },
  {
   "cell_type": "code",
   "execution_count": 17,
   "id": "80d2355d",
   "metadata": {},
   "outputs": [
    {
     "data": {
      "text/plain": [
       "5    511\n",
       "2    151\n",
       "1    145\n",
       "4    131\n",
       "6    116\n",
       "3    113\n",
       "Name: subjects, dtype: int64"
      ]
     },
     "execution_count": 17,
     "metadata": {},
     "output_type": "execute_result"
    }
   ],
   "source": [
    "test_df['subjects'].value_counts()"
   ]
  },
  {
   "cell_type": "code",
   "execution_count": 18,
   "id": "2c170af1",
   "metadata": {},
   "outputs": [],
   "source": [
    "body_length = {}\n",
    "for entry in data_json:\n",
    "    body_length[entry['index']] = entry['body_length']"
   ]
  },
  {
   "cell_type": "code",
   "execution_count": 19,
   "id": "7271f05e",
   "metadata": {},
   "outputs": [
    {
     "data": {
      "text/plain": [
       "225019"
      ]
     },
     "execution_count": 19,
     "metadata": {},
     "output_type": "execute_result"
    }
   ],
   "source": [
    "body_length['6407']"
   ]
  },
  {
   "cell_type": "code",
   "execution_count": 38,
   "id": "5d488d9d",
   "metadata": {},
   "outputs": [],
   "source": [
    "# rescale the data by dividing it with row sum then standardize it\n",
    "from sklearn.preprocessing import StandardScaler\n",
    "\n",
    "train_index = train_df.index\n",
    "subjects = train_df.iloc[:, -1:]\n",
    "train_df = train_df.iloc[:, :-1]\n",
    "train_columns = train_df.columns\n",
    "for number in train_index:\n",
    "    train_df.loc[number,:] = train_df.loc[number,:].div(int(body_length[number]))\n",
    "#train_df = train_df.div(train_df.sum(axis=1), axis=0)\n",
    "scaler = StandardScaler()\n",
    "train_df = scaler.fit_transform(train_df)\n",
    "train_df = pd.DataFrame(train_df)\n",
    "train_df.index = train_index\n",
    "train_df.columns = train_columns\n",
    "train_df['subjects'] = subjects"
   ]
  },
  {
   "cell_type": "code",
   "execution_count": 39,
   "id": "27e39de8",
   "metadata": {},
   "outputs": [
    {
     "data": {
      "text/html": [
       "<div>\n",
       "<style scoped>\n",
       "    .dataframe tbody tr th:only-of-type {\n",
       "        vertical-align: middle;\n",
       "    }\n",
       "\n",
       "    .dataframe tbody tr th {\n",
       "        vertical-align: top;\n",
       "    }\n",
       "\n",
       "    .dataframe thead th {\n",
       "        text-align: right;\n",
       "    }\n",
       "</style>\n",
       "<table border=\"1\" class=\"dataframe\">\n",
       "  <thead>\n",
       "    <tr style=\"text-align: right;\">\n",
       "      <th></th>\n",
       "      <th>abandon</th>\n",
       "      <th>abid</th>\n",
       "      <th>abil</th>\n",
       "      <th>abl</th>\n",
       "      <th>aboard</th>\n",
       "      <th>abod</th>\n",
       "      <th>abomin</th>\n",
       "      <th>about</th>\n",
       "      <th>abov</th>\n",
       "      <th>abreast</th>\n",
       "      <th>...</th>\n",
       "      <th>youngest</th>\n",
       "      <th>youngster</th>\n",
       "      <th>your</th>\n",
       "      <th>yourself</th>\n",
       "      <th>yourselv</th>\n",
       "      <th>youth</th>\n",
       "      <th>youv</th>\n",
       "      <th>youyou</th>\n",
       "      <th>zip</th>\n",
       "      <th>subjects</th>\n",
       "    </tr>\n",
       "  </thead>\n",
       "  <tbody>\n",
       "    <tr>\n",
       "      <th>6407</th>\n",
       "      <td>0.255709</td>\n",
       "      <td>0.760368</td>\n",
       "      <td>-0.471151</td>\n",
       "      <td>-0.439339</td>\n",
       "      <td>-0.380716</td>\n",
       "      <td>0.991655</td>\n",
       "      <td>0.399602</td>\n",
       "      <td>-1.992882</td>\n",
       "      <td>-0.471847</td>\n",
       "      <td>-0.332112</td>\n",
       "      <td>...</td>\n",
       "      <td>0.373562</td>\n",
       "      <td>0.256056</td>\n",
       "      <td>1.707217</td>\n",
       "      <td>1.124189</td>\n",
       "      <td>1.008071</td>\n",
       "      <td>4.218950</td>\n",
       "      <td>-0.826338</td>\n",
       "      <td>-0.113553</td>\n",
       "      <td>-0.678388</td>\n",
       "      <td>3</td>\n",
       "    </tr>\n",
       "    <tr>\n",
       "      <th>20719</th>\n",
       "      <td>-0.416760</td>\n",
       "      <td>-0.818370</td>\n",
       "      <td>0.333281</td>\n",
       "      <td>0.124492</td>\n",
       "      <td>-0.180272</td>\n",
       "      <td>-0.394199</td>\n",
       "      <td>0.237932</td>\n",
       "      <td>-0.750757</td>\n",
       "      <td>-0.121871</td>\n",
       "      <td>-0.332112</td>\n",
       "      <td>...</td>\n",
       "      <td>0.458730</td>\n",
       "      <td>-0.257094</td>\n",
       "      <td>0.730908</td>\n",
       "      <td>0.773004</td>\n",
       "      <td>-0.031910</td>\n",
       "      <td>0.365663</td>\n",
       "      <td>1.060831</td>\n",
       "      <td>-0.361389</td>\n",
       "      <td>-0.598450</td>\n",
       "      <td>4</td>\n",
       "    </tr>\n",
       "    <tr>\n",
       "      <th>12725</th>\n",
       "      <td>-0.280080</td>\n",
       "      <td>-0.198572</td>\n",
       "      <td>0.207127</td>\n",
       "      <td>-0.915104</td>\n",
       "      <td>-0.380716</td>\n",
       "      <td>0.139752</td>\n",
       "      <td>0.156946</td>\n",
       "      <td>-2.325222</td>\n",
       "      <td>-0.032331</td>\n",
       "      <td>0.243418</td>\n",
       "      <td>...</td>\n",
       "      <td>-0.224662</td>\n",
       "      <td>-0.257094</td>\n",
       "      <td>-1.717131</td>\n",
       "      <td>-0.719919</td>\n",
       "      <td>-0.097108</td>\n",
       "      <td>0.578930</td>\n",
       "      <td>-0.826338</td>\n",
       "      <td>-0.361389</td>\n",
       "      <td>-0.620744</td>\n",
       "      <td>3</td>\n",
       "    </tr>\n",
       "    <tr>\n",
       "      <th>24104</th>\n",
       "      <td>-0.615899</td>\n",
       "      <td>-0.074568</td>\n",
       "      <td>-0.471151</td>\n",
       "      <td>-0.464089</td>\n",
       "      <td>0.106292</td>\n",
       "      <td>-0.394199</td>\n",
       "      <td>-0.278481</td>\n",
       "      <td>-0.439400</td>\n",
       "      <td>0.299662</td>\n",
       "      <td>-0.332112</td>\n",
       "      <td>...</td>\n",
       "      <td>-0.224662</td>\n",
       "      <td>-0.257094</td>\n",
       "      <td>-1.511365</td>\n",
       "      <td>-1.094915</td>\n",
       "      <td>1.572560</td>\n",
       "      <td>-0.439836</td>\n",
       "      <td>0.702044</td>\n",
       "      <td>-0.361389</td>\n",
       "      <td>0.640988</td>\n",
       "      <td>5</td>\n",
       "    </tr>\n",
       "    <tr>\n",
       "      <th>30004</th>\n",
       "      <td>1.912181</td>\n",
       "      <td>1.435616</td>\n",
       "      <td>-0.471151</td>\n",
       "      <td>0.649720</td>\n",
       "      <td>-0.380716</td>\n",
       "      <td>-0.394199</td>\n",
       "      <td>-0.278481</td>\n",
       "      <td>0.721840</td>\n",
       "      <td>-1.104006</td>\n",
       "      <td>-0.332112</td>\n",
       "      <td>...</td>\n",
       "      <td>-0.224662</td>\n",
       "      <td>-0.257094</td>\n",
       "      <td>-0.593572</td>\n",
       "      <td>-1.094915</td>\n",
       "      <td>-0.447652</td>\n",
       "      <td>-0.439836</td>\n",
       "      <td>-0.826338</td>\n",
       "      <td>-0.361389</td>\n",
       "      <td>1.064123</td>\n",
       "      <td>5</td>\n",
       "    </tr>\n",
       "  </tbody>\n",
       "</table>\n",
       "<p>5 rows × 4845 columns</p>\n",
       "</div>"
      ],
      "text/plain": [
       "        abandon      abid      abil       abl    aboard      abod    abomin  \\\n",
       "6407   0.255709  0.760368 -0.471151 -0.439339 -0.380716  0.991655  0.399602   \n",
       "20719 -0.416760 -0.818370  0.333281  0.124492 -0.180272 -0.394199  0.237932   \n",
       "12725 -0.280080 -0.198572  0.207127 -0.915104 -0.380716  0.139752  0.156946   \n",
       "24104 -0.615899 -0.074568 -0.471151 -0.464089  0.106292 -0.394199 -0.278481   \n",
       "30004  1.912181  1.435616 -0.471151  0.649720 -0.380716 -0.394199 -0.278481   \n",
       "\n",
       "          about      abov   abreast  ...  youngest  youngster      your  \\\n",
       "6407  -1.992882 -0.471847 -0.332112  ...  0.373562   0.256056  1.707217   \n",
       "20719 -0.750757 -0.121871 -0.332112  ...  0.458730  -0.257094  0.730908   \n",
       "12725 -2.325222 -0.032331  0.243418  ... -0.224662  -0.257094 -1.717131   \n",
       "24104 -0.439400  0.299662 -0.332112  ... -0.224662  -0.257094 -1.511365   \n",
       "30004  0.721840 -1.104006 -0.332112  ... -0.224662  -0.257094 -0.593572   \n",
       "\n",
       "       yourself  yourselv     youth      youv    youyou       zip  subjects  \n",
       "6407   1.124189  1.008071  4.218950 -0.826338 -0.113553 -0.678388         3  \n",
       "20719  0.773004 -0.031910  0.365663  1.060831 -0.361389 -0.598450         4  \n",
       "12725 -0.719919 -0.097108  0.578930 -0.826338 -0.361389 -0.620744         3  \n",
       "24104 -1.094915  1.572560 -0.439836  0.702044 -0.361389  0.640988         5  \n",
       "30004 -1.094915 -0.447652 -0.439836 -0.826338 -0.361389  1.064123         5  \n",
       "\n",
       "[5 rows x 4845 columns]"
      ]
     },
     "execution_count": 39,
     "metadata": {},
     "output_type": "execute_result"
    }
   ],
   "source": [
    "train_df.head()"
   ]
  },
  {
   "cell_type": "code",
   "execution_count": 25,
   "id": "0ec8d738",
   "metadata": {},
   "outputs": [
    {
     "data": {
      "text/html": [
       "<style>#sk-container-id-1 {color: black;background-color: white;}#sk-container-id-1 pre{padding: 0;}#sk-container-id-1 div.sk-toggleable {background-color: white;}#sk-container-id-1 label.sk-toggleable__label {cursor: pointer;display: block;width: 100%;margin-bottom: 0;padding: 0.3em;box-sizing: border-box;text-align: center;}#sk-container-id-1 label.sk-toggleable__label-arrow:before {content: \"▸\";float: left;margin-right: 0.25em;color: #696969;}#sk-container-id-1 label.sk-toggleable__label-arrow:hover:before {color: black;}#sk-container-id-1 div.sk-estimator:hover label.sk-toggleable__label-arrow:before {color: black;}#sk-container-id-1 div.sk-toggleable__content {max-height: 0;max-width: 0;overflow: hidden;text-align: left;background-color: #f0f8ff;}#sk-container-id-1 div.sk-toggleable__content pre {margin: 0.2em;color: black;border-radius: 0.25em;background-color: #f0f8ff;}#sk-container-id-1 input.sk-toggleable__control:checked~div.sk-toggleable__content {max-height: 200px;max-width: 100%;overflow: auto;}#sk-container-id-1 input.sk-toggleable__control:checked~label.sk-toggleable__label-arrow:before {content: \"▾\";}#sk-container-id-1 div.sk-estimator input.sk-toggleable__control:checked~label.sk-toggleable__label {background-color: #d4ebff;}#sk-container-id-1 div.sk-label input.sk-toggleable__control:checked~label.sk-toggleable__label {background-color: #d4ebff;}#sk-container-id-1 input.sk-hidden--visually {border: 0;clip: rect(1px 1px 1px 1px);clip: rect(1px, 1px, 1px, 1px);height: 1px;margin: -1px;overflow: hidden;padding: 0;position: absolute;width: 1px;}#sk-container-id-1 div.sk-estimator {font-family: monospace;background-color: #f0f8ff;border: 1px dotted black;border-radius: 0.25em;box-sizing: border-box;margin-bottom: 0.5em;}#sk-container-id-1 div.sk-estimator:hover {background-color: #d4ebff;}#sk-container-id-1 div.sk-parallel-item::after {content: \"\";width: 100%;border-bottom: 1px solid gray;flex-grow: 1;}#sk-container-id-1 div.sk-label:hover label.sk-toggleable__label {background-color: #d4ebff;}#sk-container-id-1 div.sk-serial::before {content: \"\";position: absolute;border-left: 1px solid gray;box-sizing: border-box;top: 0;bottom: 0;left: 50%;z-index: 0;}#sk-container-id-1 div.sk-serial {display: flex;flex-direction: column;align-items: center;background-color: white;padding-right: 0.2em;padding-left: 0.2em;position: relative;}#sk-container-id-1 div.sk-item {position: relative;z-index: 1;}#sk-container-id-1 div.sk-parallel {display: flex;align-items: stretch;justify-content: center;background-color: white;position: relative;}#sk-container-id-1 div.sk-item::before, #sk-container-id-1 div.sk-parallel-item::before {content: \"\";position: absolute;border-left: 1px solid gray;box-sizing: border-box;top: 0;bottom: 0;left: 50%;z-index: -1;}#sk-container-id-1 div.sk-parallel-item {display: flex;flex-direction: column;z-index: 1;position: relative;background-color: white;}#sk-container-id-1 div.sk-parallel-item:first-child::after {align-self: flex-end;width: 50%;}#sk-container-id-1 div.sk-parallel-item:last-child::after {align-self: flex-start;width: 50%;}#sk-container-id-1 div.sk-parallel-item:only-child::after {width: 0;}#sk-container-id-1 div.sk-dashed-wrapped {border: 1px dashed gray;margin: 0 0.4em 0.5em 0.4em;box-sizing: border-box;padding-bottom: 0.4em;background-color: white;}#sk-container-id-1 div.sk-label label {font-family: monospace;font-weight: bold;display: inline-block;line-height: 1.2em;}#sk-container-id-1 div.sk-label-container {text-align: center;}#sk-container-id-1 div.sk-container {/* jupyter's `normalize.less` sets `[hidden] { display: none; }` but bootstrap.min.css set `[hidden] { display: none !important; }` so we also need the `!important` here to be able to override the default hidden behavior on the sphinx rendered scikit-learn.org. See: https://github.com/scikit-learn/scikit-learn/issues/21755 */display: inline-block !important;position: relative;}#sk-container-id-1 div.sk-text-repr-fallback {display: none;}</style><div id=\"sk-container-id-1\" class=\"sk-top-container\"><div class=\"sk-text-repr-fallback\"><pre>SVC(kernel=&#x27;linear&#x27;)</pre><b>In a Jupyter environment, please rerun this cell to show the HTML representation or trust the notebook. <br />On GitHub, the HTML representation is unable to render, please try loading this page with nbviewer.org.</b></div><div class=\"sk-container\" hidden><div class=\"sk-item\"><div class=\"sk-estimator sk-toggleable\"><input class=\"sk-toggleable__control sk-hidden--visually\" id=\"sk-estimator-id-1\" type=\"checkbox\" checked><label for=\"sk-estimator-id-1\" class=\"sk-toggleable__label sk-toggleable__label-arrow\">SVC</label><div class=\"sk-toggleable__content\"><pre>SVC(kernel=&#x27;linear&#x27;)</pre></div></div></div></div></div>"
      ],
      "text/plain": [
       "SVC(kernel='linear')"
      ]
     },
     "execution_count": 25,
     "metadata": {},
     "output_type": "execute_result"
    }
   ],
   "source": [
    "from sklearn import svm\n",
    "from matplotlib import pyplot as plt\n",
    "\n",
    "X = train_df.iloc[:, :-1].to_numpy()\n",
    "y = train_df.iloc[:, -1:].to_numpy().flatten()\n",
    "\n",
    "clf = svm.SVC(kernel='linear')\n",
    "clf.fit(X, y)"
   ]
  },
  {
   "cell_type": "code",
   "execution_count": 26,
   "id": "42e9fc84",
   "metadata": {},
   "outputs": [
    {
     "data": {
      "text/html": [
       "<style>#sk-container-id-2 {color: black;background-color: white;}#sk-container-id-2 pre{padding: 0;}#sk-container-id-2 div.sk-toggleable {background-color: white;}#sk-container-id-2 label.sk-toggleable__label {cursor: pointer;display: block;width: 100%;margin-bottom: 0;padding: 0.3em;box-sizing: border-box;text-align: center;}#sk-container-id-2 label.sk-toggleable__label-arrow:before {content: \"▸\";float: left;margin-right: 0.25em;color: #696969;}#sk-container-id-2 label.sk-toggleable__label-arrow:hover:before {color: black;}#sk-container-id-2 div.sk-estimator:hover label.sk-toggleable__label-arrow:before {color: black;}#sk-container-id-2 div.sk-toggleable__content {max-height: 0;max-width: 0;overflow: hidden;text-align: left;background-color: #f0f8ff;}#sk-container-id-2 div.sk-toggleable__content pre {margin: 0.2em;color: black;border-radius: 0.25em;background-color: #f0f8ff;}#sk-container-id-2 input.sk-toggleable__control:checked~div.sk-toggleable__content {max-height: 200px;max-width: 100%;overflow: auto;}#sk-container-id-2 input.sk-toggleable__control:checked~label.sk-toggleable__label-arrow:before {content: \"▾\";}#sk-container-id-2 div.sk-estimator input.sk-toggleable__control:checked~label.sk-toggleable__label {background-color: #d4ebff;}#sk-container-id-2 div.sk-label input.sk-toggleable__control:checked~label.sk-toggleable__label {background-color: #d4ebff;}#sk-container-id-2 input.sk-hidden--visually {border: 0;clip: rect(1px 1px 1px 1px);clip: rect(1px, 1px, 1px, 1px);height: 1px;margin: -1px;overflow: hidden;padding: 0;position: absolute;width: 1px;}#sk-container-id-2 div.sk-estimator {font-family: monospace;background-color: #f0f8ff;border: 1px dotted black;border-radius: 0.25em;box-sizing: border-box;margin-bottom: 0.5em;}#sk-container-id-2 div.sk-estimator:hover {background-color: #d4ebff;}#sk-container-id-2 div.sk-parallel-item::after {content: \"\";width: 100%;border-bottom: 1px solid gray;flex-grow: 1;}#sk-container-id-2 div.sk-label:hover label.sk-toggleable__label {background-color: #d4ebff;}#sk-container-id-2 div.sk-serial::before {content: \"\";position: absolute;border-left: 1px solid gray;box-sizing: border-box;top: 0;bottom: 0;left: 50%;z-index: 0;}#sk-container-id-2 div.sk-serial {display: flex;flex-direction: column;align-items: center;background-color: white;padding-right: 0.2em;padding-left: 0.2em;position: relative;}#sk-container-id-2 div.sk-item {position: relative;z-index: 1;}#sk-container-id-2 div.sk-parallel {display: flex;align-items: stretch;justify-content: center;background-color: white;position: relative;}#sk-container-id-2 div.sk-item::before, #sk-container-id-2 div.sk-parallel-item::before {content: \"\";position: absolute;border-left: 1px solid gray;box-sizing: border-box;top: 0;bottom: 0;left: 50%;z-index: -1;}#sk-container-id-2 div.sk-parallel-item {display: flex;flex-direction: column;z-index: 1;position: relative;background-color: white;}#sk-container-id-2 div.sk-parallel-item:first-child::after {align-self: flex-end;width: 50%;}#sk-container-id-2 div.sk-parallel-item:last-child::after {align-self: flex-start;width: 50%;}#sk-container-id-2 div.sk-parallel-item:only-child::after {width: 0;}#sk-container-id-2 div.sk-dashed-wrapped {border: 1px dashed gray;margin: 0 0.4em 0.5em 0.4em;box-sizing: border-box;padding-bottom: 0.4em;background-color: white;}#sk-container-id-2 div.sk-label label {font-family: monospace;font-weight: bold;display: inline-block;line-height: 1.2em;}#sk-container-id-2 div.sk-label-container {text-align: center;}#sk-container-id-2 div.sk-container {/* jupyter's `normalize.less` sets `[hidden] { display: none; }` but bootstrap.min.css set `[hidden] { display: none !important; }` so we also need the `!important` here to be able to override the default hidden behavior on the sphinx rendered scikit-learn.org. See: https://github.com/scikit-learn/scikit-learn/issues/21755 */display: inline-block !important;position: relative;}#sk-container-id-2 div.sk-text-repr-fallback {display: none;}</style><div id=\"sk-container-id-2\" class=\"sk-top-container\"><div class=\"sk-text-repr-fallback\"><pre>LinearSVC(loss=&#x27;hinge&#x27;, max_iter=100000)</pre><b>In a Jupyter environment, please rerun this cell to show the HTML representation or trust the notebook. <br />On GitHub, the HTML representation is unable to render, please try loading this page with nbviewer.org.</b></div><div class=\"sk-container\" hidden><div class=\"sk-item\"><div class=\"sk-estimator sk-toggleable\"><input class=\"sk-toggleable__control sk-hidden--visually\" id=\"sk-estimator-id-2\" type=\"checkbox\" checked><label for=\"sk-estimator-id-2\" class=\"sk-toggleable__label sk-toggleable__label-arrow\">LinearSVC</label><div class=\"sk-toggleable__content\"><pre>LinearSVC(loss=&#x27;hinge&#x27;, max_iter=100000)</pre></div></div></div></div></div>"
      ],
      "text/plain": [
       "LinearSVC(loss='hinge', max_iter=100000)"
      ]
     },
     "execution_count": 26,
     "metadata": {},
     "output_type": "execute_result"
    }
   ],
   "source": [
    "clf2 = svm.LinearSVC(loss='hinge', max_iter=100000)\n",
    "clf2.fit(X, y)"
   ]
  },
  {
   "cell_type": "code",
   "execution_count": 27,
   "id": "667ed11d",
   "metadata": {},
   "outputs": [
    {
     "data": {
      "text/html": [
       "<style>#sk-container-id-3 {color: black;background-color: white;}#sk-container-id-3 pre{padding: 0;}#sk-container-id-3 div.sk-toggleable {background-color: white;}#sk-container-id-3 label.sk-toggleable__label {cursor: pointer;display: block;width: 100%;margin-bottom: 0;padding: 0.3em;box-sizing: border-box;text-align: center;}#sk-container-id-3 label.sk-toggleable__label-arrow:before {content: \"▸\";float: left;margin-right: 0.25em;color: #696969;}#sk-container-id-3 label.sk-toggleable__label-arrow:hover:before {color: black;}#sk-container-id-3 div.sk-estimator:hover label.sk-toggleable__label-arrow:before {color: black;}#sk-container-id-3 div.sk-toggleable__content {max-height: 0;max-width: 0;overflow: hidden;text-align: left;background-color: #f0f8ff;}#sk-container-id-3 div.sk-toggleable__content pre {margin: 0.2em;color: black;border-radius: 0.25em;background-color: #f0f8ff;}#sk-container-id-3 input.sk-toggleable__control:checked~div.sk-toggleable__content {max-height: 200px;max-width: 100%;overflow: auto;}#sk-container-id-3 input.sk-toggleable__control:checked~label.sk-toggleable__label-arrow:before {content: \"▾\";}#sk-container-id-3 div.sk-estimator input.sk-toggleable__control:checked~label.sk-toggleable__label {background-color: #d4ebff;}#sk-container-id-3 div.sk-label input.sk-toggleable__control:checked~label.sk-toggleable__label {background-color: #d4ebff;}#sk-container-id-3 input.sk-hidden--visually {border: 0;clip: rect(1px 1px 1px 1px);clip: rect(1px, 1px, 1px, 1px);height: 1px;margin: -1px;overflow: hidden;padding: 0;position: absolute;width: 1px;}#sk-container-id-3 div.sk-estimator {font-family: monospace;background-color: #f0f8ff;border: 1px dotted black;border-radius: 0.25em;box-sizing: border-box;margin-bottom: 0.5em;}#sk-container-id-3 div.sk-estimator:hover {background-color: #d4ebff;}#sk-container-id-3 div.sk-parallel-item::after {content: \"\";width: 100%;border-bottom: 1px solid gray;flex-grow: 1;}#sk-container-id-3 div.sk-label:hover label.sk-toggleable__label {background-color: #d4ebff;}#sk-container-id-3 div.sk-serial::before {content: \"\";position: absolute;border-left: 1px solid gray;box-sizing: border-box;top: 0;bottom: 0;left: 50%;z-index: 0;}#sk-container-id-3 div.sk-serial {display: flex;flex-direction: column;align-items: center;background-color: white;padding-right: 0.2em;padding-left: 0.2em;position: relative;}#sk-container-id-3 div.sk-item {position: relative;z-index: 1;}#sk-container-id-3 div.sk-parallel {display: flex;align-items: stretch;justify-content: center;background-color: white;position: relative;}#sk-container-id-3 div.sk-item::before, #sk-container-id-3 div.sk-parallel-item::before {content: \"\";position: absolute;border-left: 1px solid gray;box-sizing: border-box;top: 0;bottom: 0;left: 50%;z-index: -1;}#sk-container-id-3 div.sk-parallel-item {display: flex;flex-direction: column;z-index: 1;position: relative;background-color: white;}#sk-container-id-3 div.sk-parallel-item:first-child::after {align-self: flex-end;width: 50%;}#sk-container-id-3 div.sk-parallel-item:last-child::after {align-self: flex-start;width: 50%;}#sk-container-id-3 div.sk-parallel-item:only-child::after {width: 0;}#sk-container-id-3 div.sk-dashed-wrapped {border: 1px dashed gray;margin: 0 0.4em 0.5em 0.4em;box-sizing: border-box;padding-bottom: 0.4em;background-color: white;}#sk-container-id-3 div.sk-label label {font-family: monospace;font-weight: bold;display: inline-block;line-height: 1.2em;}#sk-container-id-3 div.sk-label-container {text-align: center;}#sk-container-id-3 div.sk-container {/* jupyter's `normalize.less` sets `[hidden] { display: none; }` but bootstrap.min.css set `[hidden] { display: none !important; }` so we also need the `!important` here to be able to override the default hidden behavior on the sphinx rendered scikit-learn.org. See: https://github.com/scikit-learn/scikit-learn/issues/21755 */display: inline-block !important;position: relative;}#sk-container-id-3 div.sk-text-repr-fallback {display: none;}</style><div id=\"sk-container-id-3\" class=\"sk-top-container\"><div class=\"sk-text-repr-fallback\"><pre>SVC(class_weight=&#x27;balanced&#x27;, kernel=&#x27;linear&#x27;)</pre><b>In a Jupyter environment, please rerun this cell to show the HTML representation or trust the notebook. <br />On GitHub, the HTML representation is unable to render, please try loading this page with nbviewer.org.</b></div><div class=\"sk-container\" hidden><div class=\"sk-item\"><div class=\"sk-estimator sk-toggleable\"><input class=\"sk-toggleable__control sk-hidden--visually\" id=\"sk-estimator-id-3\" type=\"checkbox\" checked><label for=\"sk-estimator-id-3\" class=\"sk-toggleable__label sk-toggleable__label-arrow\">SVC</label><div class=\"sk-toggleable__content\"><pre>SVC(class_weight=&#x27;balanced&#x27;, kernel=&#x27;linear&#x27;)</pre></div></div></div></div></div>"
      ],
      "text/plain": [
       "SVC(class_weight='balanced', kernel='linear')"
      ]
     },
     "execution_count": 27,
     "metadata": {},
     "output_type": "execute_result"
    }
   ],
   "source": [
    "clf3 = svm.SVC(kernel='linear', class_weight='balanced')\n",
    "clf3.fit(X, y)"
   ]
  },
  {
   "cell_type": "code",
   "execution_count": 28,
   "id": "24e9ff36",
   "metadata": {},
   "outputs": [
    {
     "data": {
      "text/html": [
       "<style>#sk-container-id-4 {color: black;background-color: white;}#sk-container-id-4 pre{padding: 0;}#sk-container-id-4 div.sk-toggleable {background-color: white;}#sk-container-id-4 label.sk-toggleable__label {cursor: pointer;display: block;width: 100%;margin-bottom: 0;padding: 0.3em;box-sizing: border-box;text-align: center;}#sk-container-id-4 label.sk-toggleable__label-arrow:before {content: \"▸\";float: left;margin-right: 0.25em;color: #696969;}#sk-container-id-4 label.sk-toggleable__label-arrow:hover:before {color: black;}#sk-container-id-4 div.sk-estimator:hover label.sk-toggleable__label-arrow:before {color: black;}#sk-container-id-4 div.sk-toggleable__content {max-height: 0;max-width: 0;overflow: hidden;text-align: left;background-color: #f0f8ff;}#sk-container-id-4 div.sk-toggleable__content pre {margin: 0.2em;color: black;border-radius: 0.25em;background-color: #f0f8ff;}#sk-container-id-4 input.sk-toggleable__control:checked~div.sk-toggleable__content {max-height: 200px;max-width: 100%;overflow: auto;}#sk-container-id-4 input.sk-toggleable__control:checked~label.sk-toggleable__label-arrow:before {content: \"▾\";}#sk-container-id-4 div.sk-estimator input.sk-toggleable__control:checked~label.sk-toggleable__label {background-color: #d4ebff;}#sk-container-id-4 div.sk-label input.sk-toggleable__control:checked~label.sk-toggleable__label {background-color: #d4ebff;}#sk-container-id-4 input.sk-hidden--visually {border: 0;clip: rect(1px 1px 1px 1px);clip: rect(1px, 1px, 1px, 1px);height: 1px;margin: -1px;overflow: hidden;padding: 0;position: absolute;width: 1px;}#sk-container-id-4 div.sk-estimator {font-family: monospace;background-color: #f0f8ff;border: 1px dotted black;border-radius: 0.25em;box-sizing: border-box;margin-bottom: 0.5em;}#sk-container-id-4 div.sk-estimator:hover {background-color: #d4ebff;}#sk-container-id-4 div.sk-parallel-item::after {content: \"\";width: 100%;border-bottom: 1px solid gray;flex-grow: 1;}#sk-container-id-4 div.sk-label:hover label.sk-toggleable__label {background-color: #d4ebff;}#sk-container-id-4 div.sk-serial::before {content: \"\";position: absolute;border-left: 1px solid gray;box-sizing: border-box;top: 0;bottom: 0;left: 50%;z-index: 0;}#sk-container-id-4 div.sk-serial {display: flex;flex-direction: column;align-items: center;background-color: white;padding-right: 0.2em;padding-left: 0.2em;position: relative;}#sk-container-id-4 div.sk-item {position: relative;z-index: 1;}#sk-container-id-4 div.sk-parallel {display: flex;align-items: stretch;justify-content: center;background-color: white;position: relative;}#sk-container-id-4 div.sk-item::before, #sk-container-id-4 div.sk-parallel-item::before {content: \"\";position: absolute;border-left: 1px solid gray;box-sizing: border-box;top: 0;bottom: 0;left: 50%;z-index: -1;}#sk-container-id-4 div.sk-parallel-item {display: flex;flex-direction: column;z-index: 1;position: relative;background-color: white;}#sk-container-id-4 div.sk-parallel-item:first-child::after {align-self: flex-end;width: 50%;}#sk-container-id-4 div.sk-parallel-item:last-child::after {align-self: flex-start;width: 50%;}#sk-container-id-4 div.sk-parallel-item:only-child::after {width: 0;}#sk-container-id-4 div.sk-dashed-wrapped {border: 1px dashed gray;margin: 0 0.4em 0.5em 0.4em;box-sizing: border-box;padding-bottom: 0.4em;background-color: white;}#sk-container-id-4 div.sk-label label {font-family: monospace;font-weight: bold;display: inline-block;line-height: 1.2em;}#sk-container-id-4 div.sk-label-container {text-align: center;}#sk-container-id-4 div.sk-container {/* jupyter's `normalize.less` sets `[hidden] { display: none; }` but bootstrap.min.css set `[hidden] { display: none !important; }` so we also need the `!important` here to be able to override the default hidden behavior on the sphinx rendered scikit-learn.org. See: https://github.com/scikit-learn/scikit-learn/issues/21755 */display: inline-block !important;position: relative;}#sk-container-id-4 div.sk-text-repr-fallback {display: none;}</style><div id=\"sk-container-id-4\" class=\"sk-top-container\"><div class=\"sk-text-repr-fallback\"><pre>LinearSVC(class_weight=&#x27;balanced&#x27;, loss=&#x27;hinge&#x27;, max_iter=100000)</pre><b>In a Jupyter environment, please rerun this cell to show the HTML representation or trust the notebook. <br />On GitHub, the HTML representation is unable to render, please try loading this page with nbviewer.org.</b></div><div class=\"sk-container\" hidden><div class=\"sk-item\"><div class=\"sk-estimator sk-toggleable\"><input class=\"sk-toggleable__control sk-hidden--visually\" id=\"sk-estimator-id-4\" type=\"checkbox\" checked><label for=\"sk-estimator-id-4\" class=\"sk-toggleable__label sk-toggleable__label-arrow\">LinearSVC</label><div class=\"sk-toggleable__content\"><pre>LinearSVC(class_weight=&#x27;balanced&#x27;, loss=&#x27;hinge&#x27;, max_iter=100000)</pre></div></div></div></div></div>"
      ],
      "text/plain": [
       "LinearSVC(class_weight='balanced', loss='hinge', max_iter=100000)"
      ]
     },
     "execution_count": 28,
     "metadata": {},
     "output_type": "execute_result"
    }
   ],
   "source": [
    "clf4 = svm.LinearSVC(loss='hinge', class_weight='balanced', max_iter=100000)\n",
    "clf4.fit(X, y)"
   ]
  },
  {
   "cell_type": "code",
   "execution_count": 71,
   "id": "c14116bc",
   "metadata": {
    "scrolled": true
   },
   "outputs": [
    {
     "data": {
      "image/png": "[encoded data removed]",
      "text/plain": [
       "<Figure size 432x288 with 1 Axes>"
      ]
     },
     "metadata": {
      "needs_background": "light"
     },
     "output_type": "display_data"
    }
   ],
   "source": [
    "# check feature importance\n",
    "\n",
    "def f_importances(coef, names):\n",
    "    imp = coef\n",
    "    imp, names = zip(*sorted(zip(imp, names)))\n",
    "    plt.barh(range(10), imp[-10:], align='center')\n",
    "    plt.yticks(range(10), names[-10:])\n",
    "    plt.show()\n",
    "    \n",
    "f_importances(clf.coef_[0], train_df.iloc[:, :-1].columns)"
   ]
  },
  {
   "cell_type": "code",
   "execution_count": 72,
   "id": "539e8ea4",
   "metadata": {},
   "outputs": [
    {
     "data": {
      "image/png": "[encoded data removed]",
      "text/plain": [
       "<Figure size 432x288 with 1 Axes>"
      ]
     },
     "metadata": {
      "needs_background": "light"
     },
     "output_type": "display_data"
    }
   ],
   "source": [
    "# check feature importance\n",
    "\n",
    "def f_importances(coef, names):\n",
    "    imp = coef\n",
    "    imp, names = zip(*sorted(zip(imp, names)))\n",
    "    plt.barh(range(10), imp[:10], align='center')\n",
    "    plt.yticks(range(10), names[:10])\n",
    "    plt.show()\n",
    "    \n",
    "f_importances(clf.coef_[0], train_df.iloc[:, :-1].columns)"
   ]
  },
  {
   "cell_type": "code",
   "execution_count": 33,
   "id": "3d9683c4",
   "metadata": {},
   "outputs": [
    {
     "data": {
      "text/plain": [
       "(6, 4844)"
      ]
     },
     "execution_count": 33,
     "metadata": {},
     "output_type": "execute_result"
    }
   ],
   "source": [
    "clf2.coef_.shape"
   ]
  },
  {
   "cell_type": "code",
   "execution_count": 41,
   "id": "daf9a15c",
   "metadata": {},
   "outputs": [],
   "source": [
    "# preprocess test data\n",
    "test_index = test_df.index\n",
    "subjects = test_df.iloc[:, -1:]\n",
    "test_df = test_df.iloc[:, :-1]\n",
    "test_columns = test_df.columns\n",
    "for number in test_index:\n",
    "    test_df.loc[number,:] = test_df.loc[number,:].div(int(body_length[number]))\n",
    "test_df = scaler.transform(test_df)\n",
    "test_df = pd.DataFrame(test_df)\n",
    "test_df.index = test_index\n",
    "test_df.columns = test_columns\n",
    "test_df['subjects'] = subjects"
   ]
  },
  {
   "cell_type": "code",
   "execution_count": 42,
   "id": "28ec25b7",
   "metadata": {},
   "outputs": [
    {
     "data": {
      "text/html": [
       "<div>\n",
       "<style scoped>\n",
       "    .dataframe tbody tr th:only-of-type {\n",
       "        vertical-align: middle;\n",
       "    }\n",
       "\n",
       "    .dataframe tbody tr th {\n",
       "        vertical-align: top;\n",
       "    }\n",
       "\n",
       "    .dataframe thead th {\n",
       "        text-align: right;\n",
       "    }\n",
       "</style>\n",
       "<table border=\"1\" class=\"dataframe\">\n",
       "  <thead>\n",
       "    <tr style=\"text-align: right;\">\n",
       "      <th></th>\n",
       "      <th>abandon</th>\n",
       "      <th>abid</th>\n",
       "      <th>abil</th>\n",
       "      <th>abl</th>\n",
       "      <th>aboard</th>\n",
       "      <th>abod</th>\n",
       "      <th>abomin</th>\n",
       "      <th>about</th>\n",
       "      <th>abov</th>\n",
       "      <th>abreast</th>\n",
       "      <th>...</th>\n",
       "      <th>youngest</th>\n",
       "      <th>youngster</th>\n",
       "      <th>your</th>\n",
       "      <th>yourself</th>\n",
       "      <th>yourselv</th>\n",
       "      <th>youth</th>\n",
       "      <th>youv</th>\n",
       "      <th>youyou</th>\n",
       "      <th>zip</th>\n",
       "      <th>subjects</th>\n",
       "    </tr>\n",
       "  </thead>\n",
       "  <tbody>\n",
       "    <tr>\n",
       "      <th>10002</th>\n",
       "      <td>-0.615899</td>\n",
       "      <td>-0.722380</td>\n",
       "      <td>0.131390</td>\n",
       "      <td>1.826353</td>\n",
       "      <td>-0.380716</td>\n",
       "      <td>0.554461</td>\n",
       "      <td>2.042363</td>\n",
       "      <td>-0.298120</td>\n",
       "      <td>1.925119</td>\n",
       "      <td>-0.332112</td>\n",
       "      <td>...</td>\n",
       "      <td>-0.224662</td>\n",
       "      <td>-0.257094</td>\n",
       "      <td>-2.155600</td>\n",
       "      <td>-1.094915</td>\n",
       "      <td>-0.447652</td>\n",
       "      <td>-0.439836</td>\n",
       "      <td>-0.732102</td>\n",
       "      <td>-0.361389</td>\n",
       "      <td>-0.314682</td>\n",
       "      <td>5</td>\n",
       "    </tr>\n",
       "    <tr>\n",
       "      <th>10094</th>\n",
       "      <td>1.137161</td>\n",
       "      <td>-0.445554</td>\n",
       "      <td>0.315689</td>\n",
       "      <td>-0.181558</td>\n",
       "      <td>-0.380716</td>\n",
       "      <td>0.225214</td>\n",
       "      <td>-0.278481</td>\n",
       "      <td>-0.796807</td>\n",
       "      <td>1.043343</td>\n",
       "      <td>-0.332112</td>\n",
       "      <td>...</td>\n",
       "      <td>-0.224662</td>\n",
       "      <td>-0.257094</td>\n",
       "      <td>-0.868433</td>\n",
       "      <td>-0.137879</td>\n",
       "      <td>0.365649</td>\n",
       "      <td>0.010383</td>\n",
       "      <td>-0.764808</td>\n",
       "      <td>-0.361389</td>\n",
       "      <td>-0.462507</td>\n",
       "      <td>3</td>\n",
       "    </tr>\n",
       "    <tr>\n",
       "      <th>10124</th>\n",
       "      <td>0.070861</td>\n",
       "      <td>-0.678771</td>\n",
       "      <td>-0.471151</td>\n",
       "      <td>-0.419502</td>\n",
       "      <td>0.137730</td>\n",
       "      <td>-0.394199</td>\n",
       "      <td>-0.278481</td>\n",
       "      <td>-1.627102</td>\n",
       "      <td>-0.705532</td>\n",
       "      <td>-0.332112</td>\n",
       "      <td>...</td>\n",
       "      <td>-0.224662</td>\n",
       "      <td>-0.257094</td>\n",
       "      <td>-0.225707</td>\n",
       "      <td>0.285466</td>\n",
       "      <td>0.269221</td>\n",
       "      <td>-0.340626</td>\n",
       "      <td>0.149887</td>\n",
       "      <td>1.591368</td>\n",
       "      <td>-0.250349</td>\n",
       "      <td>6</td>\n",
       "    </tr>\n",
       "    <tr>\n",
       "      <th>10234</th>\n",
       "      <td>0.037137</td>\n",
       "      <td>-0.800427</td>\n",
       "      <td>-0.471151</td>\n",
       "      <td>-0.999433</td>\n",
       "      <td>-0.380716</td>\n",
       "      <td>-0.394199</td>\n",
       "      <td>0.850499</td>\n",
       "      <td>-0.808458</td>\n",
       "      <td>0.222166</td>\n",
       "      <td>-0.332112</td>\n",
       "      <td>...</td>\n",
       "      <td>0.522351</td>\n",
       "      <td>-0.043501</td>\n",
       "      <td>-0.823209</td>\n",
       "      <td>-0.705998</td>\n",
       "      <td>-0.447652</td>\n",
       "      <td>-0.314052</td>\n",
       "      <td>-0.757576</td>\n",
       "      <td>0.876520</td>\n",
       "      <td>-0.429820</td>\n",
       "      <td>3</td>\n",
       "    </tr>\n",
       "    <tr>\n",
       "      <th>10372</th>\n",
       "      <td>0.078201</td>\n",
       "      <td>-0.843160</td>\n",
       "      <td>-0.295910</td>\n",
       "      <td>-0.287781</td>\n",
       "      <td>-0.380716</td>\n",
       "      <td>0.157609</td>\n",
       "      <td>1.971467</td>\n",
       "      <td>-0.732649</td>\n",
       "      <td>-0.197857</td>\n",
       "      <td>-0.332112</td>\n",
       "      <td>...</td>\n",
       "      <td>0.370828</td>\n",
       "      <td>-0.257094</td>\n",
       "      <td>-0.294851</td>\n",
       "      <td>-0.552363</td>\n",
       "      <td>-0.085385</td>\n",
       "      <td>0.111650</td>\n",
       "      <td>0.763279</td>\n",
       "      <td>0.132018</td>\n",
       "      <td>-0.492860</td>\n",
       "      <td>6</td>\n",
       "    </tr>\n",
       "  </tbody>\n",
       "</table>\n",
       "<p>5 rows × 4845 columns</p>\n",
       "</div>"
      ],
      "text/plain": [
       "        abandon      abid      abil       abl    aboard      abod    abomin  \\\n",
       "10002 -0.615899 -0.722380  0.131390  1.826353 -0.380716  0.554461  2.042363   \n",
       "10094  1.137161 -0.445554  0.315689 -0.181558 -0.380716  0.225214 -0.278481   \n",
       "10124  0.070861 -0.678771 -0.471151 -0.419502  0.137730 -0.394199 -0.278481   \n",
       "10234  0.037137 -0.800427 -0.471151 -0.999433 -0.380716 -0.394199  0.850499   \n",
       "10372  0.078201 -0.843160 -0.295910 -0.287781 -0.380716  0.157609  1.971467   \n",
       "\n",
       "          about      abov   abreast  ...  youngest  youngster      your  \\\n",
       "10002 -0.298120  1.925119 -0.332112  ... -0.224662  -0.257094 -2.155600   \n",
       "10094 -0.796807  1.043343 -0.332112  ... -0.224662  -0.257094 -0.868433   \n",
       "10124 -1.627102 -0.705532 -0.332112  ... -0.224662  -0.257094 -0.225707   \n",
       "10234 -0.808458  0.222166 -0.332112  ...  0.522351  -0.043501 -0.823209   \n",
       "10372 -0.732649 -0.197857 -0.332112  ...  0.370828  -0.257094 -0.294851   \n",
       "\n",
       "       yourself  yourselv     youth      youv    youyou       zip  subjects  \n",
       "10002 -1.094915 -0.447652 -0.439836 -0.732102 -0.361389 -0.314682         5  \n",
       "10094 -0.137879  0.365649  0.010383 -0.764808 -0.361389 -0.462507         3  \n",
       "10124  0.285466  0.269221 -0.340626  0.149887  1.591368 -0.250349         6  \n",
       "10234 -0.705998 -0.447652 -0.314052 -0.757576  0.876520 -0.429820         3  \n",
       "10372 -0.552363 -0.085385  0.111650  0.763279  0.132018 -0.492860         6  \n",
       "\n",
       "[5 rows x 4845 columns]"
      ]
     },
     "execution_count": 42,
     "metadata": {},
     "output_type": "execute_result"
    }
   ],
   "source": [
    "test_df.head()"
   ]
  },
  {
   "cell_type": "code",
   "execution_count": 43,
   "id": "1e15fd64",
   "metadata": {},
   "outputs": [],
   "source": [
    "# make prediction\n",
    "\n",
    "X_test = test_df.iloc[:, :-1].to_numpy()\n",
    "y_test = test_df.iloc[:, -1:].to_numpy().flatten()\n",
    "\n",
    "pred = clf.predict(X_test)"
   ]
  },
  {
   "cell_type": "code",
   "execution_count": 44,
   "id": "45bbac71",
   "metadata": {},
   "outputs": [
    {
     "data": {
      "text/plain": [
       "array([5, 3, 1, ..., 2, 2, 4])"
      ]
     },
     "execution_count": 44,
     "metadata": {},
     "output_type": "execute_result"
    }
   ],
   "source": [
    "pred"
   ]
  },
  {
   "cell_type": "code",
   "execution_count": 45,
   "id": "d5f0a264",
   "metadata": {},
   "outputs": [],
   "source": [
    "# confusion matrix\n",
    "from sklearn import metrics\n",
    "import matplotlib.pyplot as plt\n",
    "# import seaborn as sns\n",
    "\n",
    "cm = metrics.confusion_matrix(y_test, pred)\n",
    "cm_df = pd.DataFrame(cm, index = [1,2,3,4,5,6], columns = [1,2,3,4,5,6])\n",
    "#plt.figure()\n",
    "#sns.heatmap(cm_df, annot=True)\n",
    "#plt.title('Confusion Matrix')\n",
    "#plt.ylabel('Actual Values')\n",
    "#plt.xlabel('Predicted Values')\n",
    "#plt.show()"
   ]
  },
  {
   "cell_type": "code",
   "execution_count": 46,
   "id": "c97de39c",
   "metadata": {
    "scrolled": true
   },
   "outputs": [
    {
     "data": {
      "text/plain": [
       "array([[109,   6,   9,   9,   3,   9],\n",
       "       [ 10, 129,   1,   9,   2,   0],\n",
       "       [ 16,   2,  81,   7,   2,   5],\n",
       "       [ 12,   9,   9,  91,   5,   5],\n",
       "       [  2,   3,   4,   3, 499,   0],\n",
       "       [  5,   1,   0,   4,   0, 106]])"
      ]
     },
     "execution_count": 46,
     "metadata": {},
     "output_type": "execute_result"
    }
   ],
   "source": [
    "cm"
   ]
  },
  {
   "cell_type": "code",
   "execution_count": 47,
   "id": "1aeb10e3",
   "metadata": {},
   "outputs": [
    {
     "data": {
      "text/plain": [
       "array([0.75172414, 0.85430464, 0.71681416, 0.69465649, 0.97651663,\n",
       "       0.9137931 ])"
      ]
     },
     "execution_count": 47,
     "metadata": {},
     "output_type": "execute_result"
    }
   ],
   "source": [
    "cm.diagonal()/cm.sum(axis=1)"
   ]
  },
  {
   "cell_type": "code",
   "execution_count": 48,
   "id": "75edd28e",
   "metadata": {},
   "outputs": [
    {
     "name": "stdout",
     "output_type": "stream",
     "text": [
      "                               precision    recall  f1-score   support\n",
      "\n",
      "            Adventure stories      0.708     0.752     0.729       145\n",
      "Detective and mystery stories      0.860     0.854     0.857       151\n",
      "           Historical fiction      0.779     0.717     0.747       113\n",
      "                 Love stories      0.740     0.695     0.717       131\n",
      "              Science fiction      0.977     0.977     0.977       511\n",
      "              Western stories      0.848     0.914     0.880       116\n",
      "\n",
      "                     accuracy                          0.870      1167\n",
      "                    macro avg      0.818     0.818     0.818      1167\n",
      "                 weighted avg      0.870     0.870     0.869      1167\n",
      "\n"
     ]
    }
   ],
   "source": [
    "from sklearn.metrics import classification_report\n",
    "\n",
    "print(classification_report(y_test, pred, target_names=['Adventure stories','Detective and mystery stories','Historical fiction',\n",
    "                                                        'Love stories','Science fiction','Western stories'], digits=3))"
   ]
  },
  {
   "cell_type": "code",
   "execution_count": null,
   "id": "f6b8f0ef",
   "metadata": {},
   "outputs": [],
   "source": []
  },
  {
   "cell_type": "code",
   "execution_count": 49,
   "id": "b2d7a4ae",
   "metadata": {},
   "outputs": [],
   "source": [
    "# make prediction\n",
    "\n",
    "X_test = test_df.iloc[:, :-1].to_numpy()\n",
    "y_test = test_df.iloc[:, -1:].to_numpy().flatten()\n",
    "\n",
    "pred2 = clf2.predict(X_test)"
   ]
  },
  {
   "cell_type": "code",
   "execution_count": 50,
   "id": "81aa2bca",
   "metadata": {},
   "outputs": [
    {
     "data": {
      "text/plain": [
       "array([3, 3, 2, ..., 2, 2, 2])"
      ]
     },
     "execution_count": 50,
     "metadata": {},
     "output_type": "execute_result"
    }
   ],
   "source": [
    "pred2"
   ]
  },
  {
   "cell_type": "code",
   "execution_count": 51,
   "id": "0634831c",
   "metadata": {},
   "outputs": [],
   "source": [
    "# confusion matrix\n",
    "from sklearn import metrics\n",
    "import matplotlib.pyplot as plt\n",
    "# import seaborn as sns\n",
    "\n",
    "cm2 = metrics.confusion_matrix(y_test, pred2)\n",
    "cm_df2 = pd.DataFrame(cm2, index = [1,2,3,4,5,6], columns = [1,2,3,4,5,6])\n",
    "#plt.figure()\n",
    "#sns.heatmap(cm_df, annot=True)\n",
    "#plt.title('Confusion Matrix')\n",
    "#plt.ylabel('Actual Values')\n",
    "#plt.xlabel('Predicted Values')\n",
    "#plt.show()"
   ]
  },
  {
   "cell_type": "code",
   "execution_count": 52,
   "id": "5b59abe5",
   "metadata": {
    "scrolled": true
   },
   "outputs": [
    {
     "data": {
      "text/plain": [
       "array([[ 93,   8,  21,   8,   4,  11],\n",
       "       [ 10, 127,   7,   5,   0,   2],\n",
       "       [ 17,   1,  76,  12,   2,   5],\n",
       "       [ 15,   9,  16,  76,   5,  10],\n",
       "       [ 17,   3,  20,   3, 466,   2],\n",
       "       [  6,   2,   6,   2,   0, 100]])"
      ]
     },
     "execution_count": 52,
     "metadata": {},
     "output_type": "execute_result"
    }
   ],
   "source": [
    "cm2"
   ]
  },
  {
   "cell_type": "code",
   "execution_count": 53,
   "id": "3269211c",
   "metadata": {},
   "outputs": [
    {
     "data": {
      "text/plain": [
       "array([0.64137931, 0.8410596 , 0.67256637, 0.58015267, 0.91193738,\n",
       "       0.86206897])"
      ]
     },
     "execution_count": 53,
     "metadata": {},
     "output_type": "execute_result"
    }
   ],
   "source": [
    "cm2.diagonal()/cm2.sum(axis=1)"
   ]
  },
  {
   "cell_type": "code",
   "execution_count": 54,
   "id": "e407c244",
   "metadata": {},
   "outputs": [
    {
     "name": "stdout",
     "output_type": "stream",
     "text": [
      "                               precision    recall  f1-score   support\n",
      "\n",
      "            Adventure stories      0.589     0.641     0.614       145\n",
      "Detective and mystery stories      0.847     0.841     0.844       151\n",
      "           Historical fiction      0.521     0.673     0.587       113\n",
      "                 Love stories      0.717     0.580     0.641       131\n",
      "              Science fiction      0.977     0.912     0.943       511\n",
      "              Western stories      0.769     0.862     0.813       116\n",
      "\n",
      "                     accuracy                          0.804      1167\n",
      "                    macro avg      0.736     0.752     0.740      1167\n",
      "                 weighted avg      0.818     0.804     0.808      1167\n",
      "\n"
     ]
    }
   ],
   "source": [
    "from sklearn.metrics import classification_report\n",
    "\n",
    "print(classification_report(y_test, pred2, target_names=['Adventure stories','Detective and mystery stories','Historical fiction',\n",
    "                                                        'Love stories','Science fiction','Western stories'], digits=3))"
   ]
  },
  {
   "cell_type": "code",
   "execution_count": null,
   "id": "0ee7379b",
   "metadata": {},
   "outputs": [],
   "source": []
  },
  {
   "cell_type": "code",
   "execution_count": 55,
   "id": "68d57638",
   "metadata": {},
   "outputs": [],
   "source": [
    "# make prediction\n",
    "\n",
    "X_test = test_df.iloc[:, :-1].to_numpy()\n",
    "y_test = test_df.iloc[:, -1:].to_numpy().flatten()\n",
    "\n",
    "pred3 = clf3.predict(X_test)"
   ]
  },
  {
   "cell_type": "code",
   "execution_count": 56,
   "id": "c7fe563a",
   "metadata": {},
   "outputs": [
    {
     "data": {
      "text/plain": [
       "array([5, 3, 1, ..., 2, 2, 4])"
      ]
     },
     "execution_count": 56,
     "metadata": {},
     "output_type": "execute_result"
    }
   ],
   "source": [
    "pred3"
   ]
  },
  {
   "cell_type": "code",
   "execution_count": 57,
   "id": "c1bdd3c7",
   "metadata": {},
   "outputs": [],
   "source": [
    "# confusion matrix\n",
    "from sklearn import metrics\n",
    "import matplotlib.pyplot as plt\n",
    "# import seaborn as sns\n",
    "\n",
    "cm3 = metrics.confusion_matrix(y_test, pred3)\n",
    "cm_df3 = pd.DataFrame(cm3, index = [1,2,3,4,5,6], columns = [1,2,3,4,5,6])\n",
    "#plt.figure()\n",
    "#sns.heatmap(cm_df, annot=True)\n",
    "#plt.title('Confusion Matrix')\n",
    "#plt.ylabel('Actual Values')\n",
    "#plt.xlabel('Predicted Values')\n",
    "#plt.show()"
   ]
  },
  {
   "cell_type": "code",
   "execution_count": 58,
   "id": "0e1ba643",
   "metadata": {
    "scrolled": true
   },
   "outputs": [
    {
     "data": {
      "text/plain": [
       "array([[109,   6,   9,   9,   3,   9],\n",
       "       [ 10, 129,   1,   9,   2,   0],\n",
       "       [ 16,   2,  81,   7,   2,   5],\n",
       "       [ 12,   9,   9,  91,   5,   5],\n",
       "       [  2,   3,   4,   3, 499,   0],\n",
       "       [  5,   1,   0,   4,   0, 106]])"
      ]
     },
     "execution_count": 58,
     "metadata": {},
     "output_type": "execute_result"
    }
   ],
   "source": [
    "cm3"
   ]
  },
  {
   "cell_type": "code",
   "execution_count": 59,
   "id": "df1a204a",
   "metadata": {},
   "outputs": [
    {
     "data": {
      "text/plain": [
       "array([0.75172414, 0.85430464, 0.71681416, 0.69465649, 0.97651663,\n",
       "       0.9137931 ])"
      ]
     },
     "execution_count": 59,
     "metadata": {},
     "output_type": "execute_result"
    }
   ],
   "source": [
    "cm3.diagonal()/cm3.sum(axis=1)"
   ]
  },
  {
   "cell_type": "code",
   "execution_count": 60,
   "id": "3864af5d",
   "metadata": {},
   "outputs": [
    {
     "name": "stdout",
     "output_type": "stream",
     "text": [
      "                               precision    recall  f1-score   support\n",
      "\n",
      "            Adventure stories      0.708     0.752     0.729       145\n",
      "Detective and mystery stories      0.860     0.854     0.857       151\n",
      "           Historical fiction      0.779     0.717     0.747       113\n",
      "                 Love stories      0.740     0.695     0.717       131\n",
      "              Science fiction      0.977     0.977     0.977       511\n",
      "              Western stories      0.848     0.914     0.880       116\n",
      "\n",
      "                     accuracy                          0.870      1167\n",
      "                    macro avg      0.818     0.818     0.818      1167\n",
      "                 weighted avg      0.870     0.870     0.869      1167\n",
      "\n"
     ]
    }
   ],
   "source": [
    "from sklearn.metrics import classification_report\n",
    "\n",
    "print(classification_report(y_test, pred3, target_names=['Adventure stories','Detective and mystery stories','Historical fiction',\n",
    "                                                        'Love stories','Science fiction','Western stories'], digits=3))"
   ]
  },
  {
   "cell_type": "code",
   "execution_count": null,
   "id": "5513f1e9",
   "metadata": {},
   "outputs": [],
   "source": []
  },
  {
   "cell_type": "code",
   "execution_count": null,
   "id": "b36a089c",
   "metadata": {},
   "outputs": [],
   "source": []
  },
  {
   "cell_type": "code",
   "execution_count": 61,
   "id": "5aa61584",
   "metadata": {},
   "outputs": [],
   "source": [
    "# make prediction\n",
    "\n",
    "X_test = test_df.iloc[:, :-1].to_numpy()\n",
    "y_test = test_df.iloc[:, -1:].to_numpy().flatten()\n",
    "\n",
    "pred4 = clf4.predict(X_test)"
   ]
  },
  {
   "cell_type": "code",
   "execution_count": 62,
   "id": "9031e42b",
   "metadata": {},
   "outputs": [
    {
     "data": {
      "text/plain": [
       "array([3, 3, 2, ..., 2, 2, 2])"
      ]
     },
     "execution_count": 62,
     "metadata": {},
     "output_type": "execute_result"
    }
   ],
   "source": [
    "pred4"
   ]
  },
  {
   "cell_type": "code",
   "execution_count": 63,
   "id": "ed94461c",
   "metadata": {},
   "outputs": [],
   "source": [
    "# confusion matrix\n",
    "from sklearn import metrics\n",
    "import matplotlib.pyplot as plt\n",
    "# import seaborn as sns\n",
    "\n",
    "cm4 = metrics.confusion_matrix(y_test, pred4)\n",
    "cm_df4 = pd.DataFrame(cm4, index = [1,2,3,4,5,6], columns = [1,2,3,4,5,6])\n",
    "#plt.figure()\n",
    "#sns.heatmap(cm_df, annot=True)\n",
    "#plt.title('Confusion Matrix')\n",
    "#plt.ylabel('Actual Values')\n",
    "#plt.xlabel('Predicted Values')\n",
    "#plt.show()"
   ]
  },
  {
   "cell_type": "code",
   "execution_count": 64,
   "id": "f673821b",
   "metadata": {
    "scrolled": true
   },
   "outputs": [
    {
     "data": {
      "text/plain": [
       "array([[ 93,   8,  21,   8,   4,  11],\n",
       "       [ 10, 127,   7,   5,   0,   2],\n",
       "       [ 17,   1,  76,  12,   2,   5],\n",
       "       [ 15,   9,  16,  76,   5,  10],\n",
       "       [ 17,   3,  20,   3, 466,   2],\n",
       "       [  6,   2,   6,   2,   0, 100]])"
      ]
     },
     "execution_count": 64,
     "metadata": {},
     "output_type": "execute_result"
    }
   ],
   "source": [
    "cm4"
   ]
  },
  {
   "cell_type": "code",
   "execution_count": 65,
   "id": "2d7a3ac5",
   "metadata": {},
   "outputs": [
    {
     "data": {
      "text/plain": [
       "array([0.64137931, 0.8410596 , 0.67256637, 0.58015267, 0.91193738,\n",
       "       0.86206897])"
      ]
     },
     "execution_count": 65,
     "metadata": {},
     "output_type": "execute_result"
    }
   ],
   "source": [
    "cm4.diagonal()/cm4.sum(axis=1)"
   ]
  },
  {
   "cell_type": "code",
   "execution_count": 66,
   "id": "210e417e",
   "metadata": {},
   "outputs": [
    {
     "name": "stdout",
     "output_type": "stream",
     "text": [
      "                               precision    recall  f1-score   support\n",
      "\n",
      "            Adventure stories      0.589     0.641     0.614       145\n",
      "Detective and mystery stories      0.847     0.841     0.844       151\n",
      "           Historical fiction      0.521     0.673     0.587       113\n",
      "                 Love stories      0.717     0.580     0.641       131\n",
      "              Science fiction      0.977     0.912     0.943       511\n",
      "              Western stories      0.769     0.862     0.813       116\n",
      "\n",
      "                     accuracy                          0.804      1167\n",
      "                    macro avg      0.736     0.752     0.740      1167\n",
      "                 weighted avg      0.818     0.804     0.808      1167\n",
      "\n"
     ]
    }
   ],
   "source": [
    "from sklearn.metrics import classification_report\n",
    "\n",
    "print(classification_report(y_test, pred4, target_names=['Adventure stories','Detective and mystery stories','Historical fiction',\n",
    "                                                        'Love stories','Science fiction','Western stories'], digits=3))"
   ]
  },
  {
   "cell_type": "code",
   "execution_count": null,
   "id": "6b887c6f",
   "metadata": {},
   "outputs": [],
   "source": []
  },
  {
   "cell_type": "code",
   "execution_count": null,
   "id": "38407010",
   "metadata": {},
   "outputs": [],
   "source": []
  }
 ],
 "metadata": {
  "kernelspec": {
   "display_name": "Python 3 (ipykernel)",
   "language": "python",
   "name": "python3"
  },
  "language_info": {
   "codemirror_mode": {
    "name": "ipython",
    "version": 3
   },
   "file_extension": ".py",
   "mimetype": "text/x-python",
   "name": "python",
   "nbconvert_exporter": "python",
   "pygments_lexer": "ipython3",
   "version": "3.10.4"
  }
 },
 "nbformat": 4,
 "nbformat_minor": 5
}
