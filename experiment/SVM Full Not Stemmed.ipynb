{
 "cells": [
  {
   "cell_type": "code",
   "execution_count": 1,
   "id": "b5aa7dbe",
   "metadata": {},
   "outputs": [
    {
     "name": "stdout",
     "output_type": "stream",
     "text": [
      "Loading Genre_Classification system from path /mnt/d/UNIV NOTES/Y4S1/DSA4199/genre_classification\n"
     ]
    },
    {
     "name": "stderr",
     "output_type": "stream",
     "text": [
      "2022-11-17 15:18:00.895770: W tensorflow/stream_executor/platform/default/dso_loader.cc:64] Could not load dynamic library 'libcudart.so.11.0'; dlerror: libcudart.so.11.0: cannot open shared object file: No such file or directory\n",
      "2022-11-17 15:18:00.895844: I tensorflow/stream_executor/cuda/cudart_stub.cc:29] Ignore above cudart dlerror if you do not have a GPU set up on your machine.\n"
     ]
    }
   ],
   "source": [
    "%matplotlib inline\n",
    "\n",
    "import os\n",
    "import sys\n",
    "genre_class_path = os.path.abspath(os.path.join(os.getcwd(), os.pardir))\n",
    "print(\"Loading Genre_Classification system from path\", genre_class_path)\n",
    "sys.path.append(genre_class_path)\n",
    "\n",
    "import numpy as np\n",
    "import pandas as pd\n",
    "import tensorflow as tf\n",
    "import json\n",
    "import random\n",
    "import pickle"
   ]
  },
  {
   "cell_type": "code",
   "execution_count": 2,
   "id": "0ac028d4",
   "metadata": {},
   "outputs": [
    {
     "name": "stderr",
     "output_type": "stream",
     "text": [
      "[nltk_data] Downloading package averaged_perceptron_tagger to\n",
      "[nltk_data]     /home/kathyij74/nltk_data...\n",
      "[nltk_data]   Package averaged_perceptron_tagger is already up-to-\n",
      "[nltk_data]       date!\n"
     ]
    },
    {
     "data": {
      "text/plain": [
       "True"
      ]
     },
     "execution_count": 2,
     "metadata": {},
     "output_type": "execute_result"
    }
   ],
   "source": [
    "from nltk import download\n",
    "from sklearn import svm\n",
    "from sklearn.metrics import accuracy_score\n",
    "\n",
    "download('averaged_perceptron_tagger')"
   ]
  },
  {
   "cell_type": "code",
   "execution_count": 3,
   "id": "93293b29",
   "metadata": {},
   "outputs": [],
   "source": [
    "dataset_wkspc = os.path.join(genre_class_path, 'workspace', 'gb_input')\n",
    "data_path = os.path.join(dataset_wkspc, 'full_corpus.csv')\n",
    "\n",
    "full_df = pd.read_csv(data_path)"
   ]
  },
  {
   "cell_type": "code",
   "execution_count": 4,
   "id": "9bebfdb3",
   "metadata": {},
   "outputs": [],
   "source": [
    "data_path = os.path.join(dataset_wkspc, 'data_index.json')\n",
    "\n",
    "with open(data_path) as f:\n",
    "    data_json = json.load(f)"
   ]
  },
  {
   "cell_type": "code",
   "execution_count": 5,
   "id": "340dfd2c",
   "metadata": {},
   "outputs": [],
   "source": [
    "index = []\n",
    "for entry in data_json:\n",
    "    index.append(entry['index'])"
   ]
  },
  {
   "cell_type": "code",
   "execution_count": 6,
   "id": "6f8d0aef",
   "metadata": {},
   "outputs": [
    {
     "data": {
      "text/plain": [
       "['10002',\n",
       " '10005',\n",
       " '10008',\n",
       " '10046',\n",
       " '10067',\n",
       " '10094',\n",
       " '10109',\n",
       " '10124',\n",
       " '1014',\n",
       " '10234']"
      ]
     },
     "execution_count": 6,
     "metadata": {},
     "output_type": "execute_result"
    }
   ],
   "source": [
    "index[:10]"
   ]
  },
  {
   "cell_type": "code",
   "execution_count": 7,
   "id": "236bd5a4",
   "metadata": {},
   "outputs": [],
   "source": [
    "full_df.index = index"
   ]
  },
  {
   "cell_type": "code",
   "execution_count": 8,
   "id": "1ab5a8c0",
   "metadata": {},
   "outputs": [
    {
     "data": {
      "text/html": [
       "<div>\n",
       "<style scoped>\n",
       "    .dataframe tbody tr th:only-of-type {\n",
       "        vertical-align: middle;\n",
       "    }\n",
       "\n",
       "    .dataframe tbody tr th {\n",
       "        vertical-align: top;\n",
       "    }\n",
       "\n",
       "    .dataframe thead th {\n",
       "        text-align: right;\n",
       "    }\n",
       "</style>\n",
       "<table border=\"1\" class=\"dataframe\">\n",
       "  <thead>\n",
       "    <tr style=\"text-align: right;\">\n",
       "      <th></th>\n",
       "      <th>abandon</th>\n",
       "      <th>abandoned</th>\n",
       "      <th>abide</th>\n",
       "      <th>ability</th>\n",
       "      <th>able</th>\n",
       "      <th>aboard</th>\n",
       "      <th>abode</th>\n",
       "      <th>about</th>\n",
       "      <th>above</th>\n",
       "      <th>abreast</th>\n",
       "      <th>...</th>\n",
       "      <th>youre</th>\n",
       "      <th>yours</th>\n",
       "      <th>yourself</th>\n",
       "      <th>yourselves</th>\n",
       "      <th>youth</th>\n",
       "      <th>youthful</th>\n",
       "      <th>youve</th>\n",
       "      <th>youyou</th>\n",
       "      <th>zip</th>\n",
       "      <th>genre</th>\n",
       "    </tr>\n",
       "  </thead>\n",
       "  <tbody>\n",
       "    <tr>\n",
       "      <th>10002</th>\n",
       "      <td>0</td>\n",
       "      <td>0</td>\n",
       "      <td>1</td>\n",
       "      <td>2</td>\n",
       "      <td>28</td>\n",
       "      <td>0</td>\n",
       "      <td>1</td>\n",
       "      <td>103</td>\n",
       "      <td>35</td>\n",
       "      <td>0</td>\n",
       "      <td>...</td>\n",
       "      <td>1</td>\n",
       "      <td>0</td>\n",
       "      <td>0</td>\n",
       "      <td>0</td>\n",
       "      <td>0</td>\n",
       "      <td>0</td>\n",
       "      <td>1</td>\n",
       "      <td>0</td>\n",
       "      <td>1</td>\n",
       "      <td>5</td>\n",
       "    </tr>\n",
       "    <tr>\n",
       "      <th>10005</th>\n",
       "      <td>0</td>\n",
       "      <td>1</td>\n",
       "      <td>1</td>\n",
       "      <td>3</td>\n",
       "      <td>27</td>\n",
       "      <td>0</td>\n",
       "      <td>1</td>\n",
       "      <td>136</td>\n",
       "      <td>12</td>\n",
       "      <td>0</td>\n",
       "      <td>...</td>\n",
       "      <td>0</td>\n",
       "      <td>5</td>\n",
       "      <td>2</td>\n",
       "      <td>0</td>\n",
       "      <td>5</td>\n",
       "      <td>1</td>\n",
       "      <td>0</td>\n",
       "      <td>0</td>\n",
       "      <td>1</td>\n",
       "      <td>5</td>\n",
       "    </tr>\n",
       "    <tr>\n",
       "      <th>10008</th>\n",
       "      <td>3</td>\n",
       "      <td>2</td>\n",
       "      <td>1</td>\n",
       "      <td>0</td>\n",
       "      <td>7</td>\n",
       "      <td>60</td>\n",
       "      <td>0</td>\n",
       "      <td>128</td>\n",
       "      <td>21</td>\n",
       "      <td>2</td>\n",
       "      <td>...</td>\n",
       "      <td>20</td>\n",
       "      <td>0</td>\n",
       "      <td>18</td>\n",
       "      <td>2</td>\n",
       "      <td>2</td>\n",
       "      <td>1</td>\n",
       "      <td>15</td>\n",
       "      <td>0</td>\n",
       "      <td>1</td>\n",
       "      <td>5</td>\n",
       "    </tr>\n",
       "    <tr>\n",
       "      <th>10046</th>\n",
       "      <td>0</td>\n",
       "      <td>0</td>\n",
       "      <td>2</td>\n",
       "      <td>0</td>\n",
       "      <td>3</td>\n",
       "      <td>3</td>\n",
       "      <td>2</td>\n",
       "      <td>133</td>\n",
       "      <td>29</td>\n",
       "      <td>1</td>\n",
       "      <td>...</td>\n",
       "      <td>16</td>\n",
       "      <td>13</td>\n",
       "      <td>14</td>\n",
       "      <td>0</td>\n",
       "      <td>33</td>\n",
       "      <td>2</td>\n",
       "      <td>10</td>\n",
       "      <td>0</td>\n",
       "      <td>1</td>\n",
       "      <td>3</td>\n",
       "    </tr>\n",
       "    <tr>\n",
       "      <th>10067</th>\n",
       "      <td>0</td>\n",
       "      <td>1</td>\n",
       "      <td>1</td>\n",
       "      <td>1</td>\n",
       "      <td>22</td>\n",
       "      <td>7</td>\n",
       "      <td>0</td>\n",
       "      <td>166</td>\n",
       "      <td>26</td>\n",
       "      <td>1</td>\n",
       "      <td>...</td>\n",
       "      <td>26</td>\n",
       "      <td>4</td>\n",
       "      <td>17</td>\n",
       "      <td>0</td>\n",
       "      <td>1</td>\n",
       "      <td>0</td>\n",
       "      <td>8</td>\n",
       "      <td>0</td>\n",
       "      <td>1</td>\n",
       "      <td>2</td>\n",
       "    </tr>\n",
       "  </tbody>\n",
       "</table>\n",
       "<p>5 rows × 6660 columns</p>\n",
       "</div>"
      ],
      "text/plain": [
       "       abandon  abandoned  abide  ability  able  aboard  abode  about  above  \\\n",
       "10002        0          0      1        2    28       0      1    103     35   \n",
       "10005        0          1      1        3    27       0      1    136     12   \n",
       "10008        3          2      1        0     7      60      0    128     21   \n",
       "10046        0          0      2        0     3       3      2    133     29   \n",
       "10067        0          1      1        1    22       7      0    166     26   \n",
       "\n",
       "       abreast  ...  youre  yours  yourself  yourselves  youth  youthful  \\\n",
       "10002        0  ...      1      0         0           0      0         0   \n",
       "10005        0  ...      0      5         2           0      5         1   \n",
       "10008        2  ...     20      0        18           2      2         1   \n",
       "10046        1  ...     16     13        14           0     33         2   \n",
       "10067        1  ...     26      4        17           0      1         0   \n",
       "\n",
       "       youve  youyou  zip  genre  \n",
       "10002      1       0    1      5  \n",
       "10005      0       0    1      5  \n",
       "10008     15       0    1      5  \n",
       "10046     10       0    1      3  \n",
       "10067      8       0    1      2  \n",
       "\n",
       "[5 rows x 6660 columns]"
      ]
     },
     "execution_count": 8,
     "metadata": {},
     "output_type": "execute_result"
    }
   ],
   "source": [
    "full_df.head()"
   ]
  },
  {
   "cell_type": "code",
   "execution_count": 9,
   "id": "5de14dcc",
   "metadata": {},
   "outputs": [
    {
     "data": {
      "text/plain": [
       "5    1742\n",
       "1     523\n",
       "2     469\n",
       "4     427\n",
       "6     374\n",
       "3     354\n",
       "Name: genre, dtype: int64"
      ]
     },
     "execution_count": 9,
     "metadata": {},
     "output_type": "execute_result"
    }
   ],
   "source": [
    "full_df['genre'].value_counts()"
   ]
  },
  {
   "cell_type": "code",
   "execution_count": 10,
   "id": "d3fb06f4",
   "metadata": {},
   "outputs": [
    {
     "name": "stdout",
     "output_type": "stream",
     "text": [
      "[2619, 456, 102, 3037, 1126, 1003, 914, 571, 3016, 419, 2771, 3033, 3654, 2233, 356, 2418, 1728, 130, 122, 383]\n",
      "[0, 5, 7, 9, 12, 15, 17, 19, 20, 21, 27, 30, 35, 36, 37, 40, 42, 43, 44, 45]\n",
      "2722\n",
      "1167\n"
     ]
    }
   ],
   "source": [
    "random.seed(42)\n",
    "\n",
    "train = random.sample(range(0, len(full_df)), int(len(full_df)*0.7))\n",
    "test = [x for x in range(0, len(full_df)) if x not in train]\n",
    "\n",
    "print(train[:20])\n",
    "print(test[:20])\n",
    "print(len(train))\n",
    "print(len(test))"
   ]
  },
  {
   "cell_type": "code",
   "execution_count": 11,
   "id": "080076c7",
   "metadata": {},
   "outputs": [
    {
     "name": "stdout",
     "output_type": "stream",
     "text": [
      "(2722, 6660)\n",
      "(1167, 6660)\n"
     ]
    }
   ],
   "source": [
    "train_df = full_df.iloc[train,]\n",
    "test_df = full_df.iloc[test,]\n",
    "\n",
    "print(train_df.shape)\n",
    "print(test_df.shape)"
   ]
  },
  {
   "cell_type": "code",
   "execution_count": 12,
   "id": "c6932fb1",
   "metadata": {},
   "outputs": [
    {
     "data": {
      "text/html": [
       "<div>\n",
       "<style scoped>\n",
       "    .dataframe tbody tr th:only-of-type {\n",
       "        vertical-align: middle;\n",
       "    }\n",
       "\n",
       "    .dataframe tbody tr th {\n",
       "        vertical-align: top;\n",
       "    }\n",
       "\n",
       "    .dataframe thead th {\n",
       "        text-align: right;\n",
       "    }\n",
       "</style>\n",
       "<table border=\"1\" class=\"dataframe\">\n",
       "  <thead>\n",
       "    <tr style=\"text-align: right;\">\n",
       "      <th></th>\n",
       "      <th>abandon</th>\n",
       "      <th>abandoned</th>\n",
       "      <th>abide</th>\n",
       "      <th>ability</th>\n",
       "      <th>able</th>\n",
       "      <th>aboard</th>\n",
       "      <th>abode</th>\n",
       "      <th>about</th>\n",
       "      <th>above</th>\n",
       "      <th>abreast</th>\n",
       "      <th>...</th>\n",
       "      <th>youre</th>\n",
       "      <th>yours</th>\n",
       "      <th>yourself</th>\n",
       "      <th>yourselves</th>\n",
       "      <th>youth</th>\n",
       "      <th>youthful</th>\n",
       "      <th>youve</th>\n",
       "      <th>youyou</th>\n",
       "      <th>zip</th>\n",
       "      <th>genre</th>\n",
       "    </tr>\n",
       "  </thead>\n",
       "  <tbody>\n",
       "    <tr>\n",
       "      <th>6407</th>\n",
       "      <td>4</td>\n",
       "      <td>6</td>\n",
       "      <td>20</td>\n",
       "      <td>0</td>\n",
       "      <td>23</td>\n",
       "      <td>0</td>\n",
       "      <td>5</td>\n",
       "      <td>119</td>\n",
       "      <td>25</td>\n",
       "      <td>0</td>\n",
       "      <td>...</td>\n",
       "      <td>0</td>\n",
       "      <td>18</td>\n",
       "      <td>57</td>\n",
       "      <td>8</td>\n",
       "      <td>153</td>\n",
       "      <td>21</td>\n",
       "      <td>0</td>\n",
       "      <td>1</td>\n",
       "      <td>1</td>\n",
       "      <td>3</td>\n",
       "    </tr>\n",
       "    <tr>\n",
       "      <th>20719</th>\n",
       "      <td>0</td>\n",
       "      <td>1</td>\n",
       "      <td>1</td>\n",
       "      <td>4</td>\n",
       "      <td>18</td>\n",
       "      <td>2</td>\n",
       "      <td>0</td>\n",
       "      <td>127</td>\n",
       "      <td>17</td>\n",
       "      <td>0</td>\n",
       "      <td>...</td>\n",
       "      <td>52</td>\n",
       "      <td>13</td>\n",
       "      <td>21</td>\n",
       "      <td>1</td>\n",
       "      <td>12</td>\n",
       "      <td>1</td>\n",
       "      <td>30</td>\n",
       "      <td>0</td>\n",
       "      <td>1</td>\n",
       "      <td>4</td>\n",
       "    </tr>\n",
       "    <tr>\n",
       "      <th>12725</th>\n",
       "      <td>1</td>\n",
       "      <td>1</td>\n",
       "      <td>3</td>\n",
       "      <td>3</td>\n",
       "      <td>4</td>\n",
       "      <td>0</td>\n",
       "      <td>1</td>\n",
       "      <td>38</td>\n",
       "      <td>22</td>\n",
       "      <td>1</td>\n",
       "      <td>...</td>\n",
       "      <td>0</td>\n",
       "      <td>1</td>\n",
       "      <td>5</td>\n",
       "      <td>1</td>\n",
       "      <td>15</td>\n",
       "      <td>4</td>\n",
       "      <td>0</td>\n",
       "      <td>0</td>\n",
       "      <td>1</td>\n",
       "      <td>3</td>\n",
       "    </tr>\n",
       "    <tr>\n",
       "      <th>24104</th>\n",
       "      <td>0</td>\n",
       "      <td>0</td>\n",
       "      <td>1</td>\n",
       "      <td>0</td>\n",
       "      <td>2</td>\n",
       "      <td>1</td>\n",
       "      <td>0</td>\n",
       "      <td>30</td>\n",
       "      <td>5</td>\n",
       "      <td>0</td>\n",
       "      <td>...</td>\n",
       "      <td>0</td>\n",
       "      <td>0</td>\n",
       "      <td>0</td>\n",
       "      <td>1</td>\n",
       "      <td>0</td>\n",
       "      <td>0</td>\n",
       "      <td>5</td>\n",
       "      <td>0</td>\n",
       "      <td>1</td>\n",
       "      <td>5</td>\n",
       "    </tr>\n",
       "    <tr>\n",
       "      <th>30004</th>\n",
       "      <td>0</td>\n",
       "      <td>0</td>\n",
       "      <td>1</td>\n",
       "      <td>0</td>\n",
       "      <td>2</td>\n",
       "      <td>0</td>\n",
       "      <td>0</td>\n",
       "      <td>17</td>\n",
       "      <td>0</td>\n",
       "      <td>0</td>\n",
       "      <td>...</td>\n",
       "      <td>1</td>\n",
       "      <td>0</td>\n",
       "      <td>0</td>\n",
       "      <td>0</td>\n",
       "      <td>0</td>\n",
       "      <td>0</td>\n",
       "      <td>0</td>\n",
       "      <td>0</td>\n",
       "      <td>1</td>\n",
       "      <td>5</td>\n",
       "    </tr>\n",
       "  </tbody>\n",
       "</table>\n",
       "<p>5 rows × 6660 columns</p>\n",
       "</div>"
      ],
      "text/plain": [
       "       abandon  abandoned  abide  ability  able  aboard  abode  about  above  \\\n",
       "6407         4          6     20        0    23       0      5    119     25   \n",
       "20719        0          1      1        4    18       2      0    127     17   \n",
       "12725        1          1      3        3     4       0      1     38     22   \n",
       "24104        0          0      1        0     2       1      0     30      5   \n",
       "30004        0          0      1        0     2       0      0     17      0   \n",
       "\n",
       "       abreast  ...  youre  yours  yourself  yourselves  youth  youthful  \\\n",
       "6407         0  ...      0     18        57           8    153        21   \n",
       "20719        0  ...     52     13        21           1     12         1   \n",
       "12725        1  ...      0      1         5           1     15         4   \n",
       "24104        0  ...      0      0         0           1      0         0   \n",
       "30004        0  ...      1      0         0           0      0         0   \n",
       "\n",
       "       youve  youyou  zip  genre  \n",
       "6407       0       1    1      3  \n",
       "20719     30       0    1      4  \n",
       "12725      0       0    1      3  \n",
       "24104      5       0    1      5  \n",
       "30004      0       0    1      5  \n",
       "\n",
       "[5 rows x 6660 columns]"
      ]
     },
     "execution_count": 12,
     "metadata": {},
     "output_type": "execute_result"
    }
   ],
   "source": [
    "train_df.head()"
   ]
  },
  {
   "cell_type": "code",
   "execution_count": 13,
   "id": "a150a661",
   "metadata": {},
   "outputs": [
    {
     "data": {
      "text/plain": [
       "5    1231\n",
       "1     378\n",
       "2     318\n",
       "4     296\n",
       "6     258\n",
       "3     241\n",
       "Name: genre, dtype: int64"
      ]
     },
     "execution_count": 13,
     "metadata": {},
     "output_type": "execute_result"
    }
   ],
   "source": [
    "train_df['genre'].value_counts()"
   ]
  },
  {
   "cell_type": "code",
   "execution_count": 14,
   "id": "8c643e9a",
   "metadata": {},
   "outputs": [
    {
     "data": {
      "text/html": [
       "<div>\n",
       "<style scoped>\n",
       "    .dataframe tbody tr th:only-of-type {\n",
       "        vertical-align: middle;\n",
       "    }\n",
       "\n",
       "    .dataframe tbody tr th {\n",
       "        vertical-align: top;\n",
       "    }\n",
       "\n",
       "    .dataframe thead th {\n",
       "        text-align: right;\n",
       "    }\n",
       "</style>\n",
       "<table border=\"1\" class=\"dataframe\">\n",
       "  <thead>\n",
       "    <tr style=\"text-align: right;\">\n",
       "      <th></th>\n",
       "      <th>abandon</th>\n",
       "      <th>abandoned</th>\n",
       "      <th>abide</th>\n",
       "      <th>ability</th>\n",
       "      <th>able</th>\n",
       "      <th>aboard</th>\n",
       "      <th>abode</th>\n",
       "      <th>about</th>\n",
       "      <th>above</th>\n",
       "      <th>abreast</th>\n",
       "      <th>...</th>\n",
       "      <th>youre</th>\n",
       "      <th>yours</th>\n",
       "      <th>yourself</th>\n",
       "      <th>yourselves</th>\n",
       "      <th>youth</th>\n",
       "      <th>youthful</th>\n",
       "      <th>youve</th>\n",
       "      <th>youyou</th>\n",
       "      <th>zip</th>\n",
       "      <th>genre</th>\n",
       "    </tr>\n",
       "  </thead>\n",
       "  <tbody>\n",
       "    <tr>\n",
       "      <th>10002</th>\n",
       "      <td>0</td>\n",
       "      <td>0</td>\n",
       "      <td>1</td>\n",
       "      <td>2</td>\n",
       "      <td>28</td>\n",
       "      <td>0</td>\n",
       "      <td>1</td>\n",
       "      <td>103</td>\n",
       "      <td>35</td>\n",
       "      <td>0</td>\n",
       "      <td>...</td>\n",
       "      <td>1</td>\n",
       "      <td>0</td>\n",
       "      <td>0</td>\n",
       "      <td>0</td>\n",
       "      <td>0</td>\n",
       "      <td>0</td>\n",
       "      <td>1</td>\n",
       "      <td>0</td>\n",
       "      <td>1</td>\n",
       "      <td>5</td>\n",
       "    </tr>\n",
       "    <tr>\n",
       "      <th>10094</th>\n",
       "      <td>2</td>\n",
       "      <td>6</td>\n",
       "      <td>2</td>\n",
       "      <td>2</td>\n",
       "      <td>14</td>\n",
       "      <td>0</td>\n",
       "      <td>1</td>\n",
       "      <td>127</td>\n",
       "      <td>38</td>\n",
       "      <td>0</td>\n",
       "      <td>...</td>\n",
       "      <td>2</td>\n",
       "      <td>3</td>\n",
       "      <td>11</td>\n",
       "      <td>2</td>\n",
       "      <td>8</td>\n",
       "      <td>0</td>\n",
       "      <td>1</td>\n",
       "      <td>0</td>\n",
       "      <td>1</td>\n",
       "      <td>3</td>\n",
       "    </tr>\n",
       "    <tr>\n",
       "      <th>10124</th>\n",
       "      <td>2</td>\n",
       "      <td>0</td>\n",
       "      <td>1</td>\n",
       "      <td>0</td>\n",
       "      <td>6</td>\n",
       "      <td>3</td>\n",
       "      <td>0</td>\n",
       "      <td>43</td>\n",
       "      <td>4</td>\n",
       "      <td>0</td>\n",
       "      <td>...</td>\n",
       "      <td>19</td>\n",
       "      <td>3</td>\n",
       "      <td>9</td>\n",
       "      <td>1</td>\n",
       "      <td>1</td>\n",
       "      <td>0</td>\n",
       "      <td>9</td>\n",
       "      <td>2</td>\n",
       "      <td>1</td>\n",
       "      <td>6</td>\n",
       "    </tr>\n",
       "    <tr>\n",
       "      <th>10234</th>\n",
       "      <td>0</td>\n",
       "      <td>3</td>\n",
       "      <td>1</td>\n",
       "      <td>0</td>\n",
       "      <td>2</td>\n",
       "      <td>0</td>\n",
       "      <td>0</td>\n",
       "      <td>113</td>\n",
       "      <td>21</td>\n",
       "      <td>0</td>\n",
       "      <td>...</td>\n",
       "      <td>9</td>\n",
       "      <td>3</td>\n",
       "      <td>4</td>\n",
       "      <td>0</td>\n",
       "      <td>2</td>\n",
       "      <td>0</td>\n",
       "      <td>1</td>\n",
       "      <td>2</td>\n",
       "      <td>1</td>\n",
       "      <td>3</td>\n",
       "    </tr>\n",
       "    <tr>\n",
       "      <th>10372</th>\n",
       "      <td>2</td>\n",
       "      <td>2</td>\n",
       "      <td>1</td>\n",
       "      <td>1</td>\n",
       "      <td>14</td>\n",
       "      <td>0</td>\n",
       "      <td>1</td>\n",
       "      <td>147</td>\n",
       "      <td>18</td>\n",
       "      <td>0</td>\n",
       "      <td>...</td>\n",
       "      <td>41</td>\n",
       "      <td>19</td>\n",
       "      <td>7</td>\n",
       "      <td>1</td>\n",
       "      <td>10</td>\n",
       "      <td>1</td>\n",
       "      <td>29</td>\n",
       "      <td>1</td>\n",
       "      <td>1</td>\n",
       "      <td>6</td>\n",
       "    </tr>\n",
       "  </tbody>\n",
       "</table>\n",
       "<p>5 rows × 6660 columns</p>\n",
       "</div>"
      ],
      "text/plain": [
       "       abandon  abandoned  abide  ability  able  aboard  abode  about  above  \\\n",
       "10002        0          0      1        2    28       0      1    103     35   \n",
       "10094        2          6      2        2    14       0      1    127     38   \n",
       "10124        2          0      1        0     6       3      0     43      4   \n",
       "10234        0          3      1        0     2       0      0    113     21   \n",
       "10372        2          2      1        1    14       0      1    147     18   \n",
       "\n",
       "       abreast  ...  youre  yours  yourself  yourselves  youth  youthful  \\\n",
       "10002        0  ...      1      0         0           0      0         0   \n",
       "10094        0  ...      2      3        11           2      8         0   \n",
       "10124        0  ...     19      3         9           1      1         0   \n",
       "10234        0  ...      9      3         4           0      2         0   \n",
       "10372        0  ...     41     19         7           1     10         1   \n",
       "\n",
       "       youve  youyou  zip  genre  \n",
       "10002      1       0    1      5  \n",
       "10094      1       0    1      3  \n",
       "10124      9       2    1      6  \n",
       "10234      1       2    1      3  \n",
       "10372     29       1    1      6  \n",
       "\n",
       "[5 rows x 6660 columns]"
      ]
     },
     "execution_count": 14,
     "metadata": {},
     "output_type": "execute_result"
    }
   ],
   "source": [
    "test_df.head()"
   ]
  },
  {
   "cell_type": "code",
   "execution_count": 15,
   "id": "80d2355d",
   "metadata": {},
   "outputs": [
    {
     "data": {
      "text/plain": [
       "5    511\n",
       "2    151\n",
       "1    145\n",
       "4    131\n",
       "6    116\n",
       "3    113\n",
       "Name: genre, dtype: int64"
      ]
     },
     "execution_count": 15,
     "metadata": {},
     "output_type": "execute_result"
    }
   ],
   "source": [
    "test_df['genre'].value_counts()"
   ]
  },
  {
   "cell_type": "code",
   "execution_count": 16,
   "id": "2c170af1",
   "metadata": {},
   "outputs": [],
   "source": [
    "body_length = {}\n",
    "for entry in data_json:\n",
    "    body_length[entry['index']] = entry['body_length']"
   ]
  },
  {
   "cell_type": "code",
   "execution_count": 17,
   "id": "7271f05e",
   "metadata": {},
   "outputs": [
    {
     "data": {
      "text/plain": [
       "225019"
      ]
     },
     "execution_count": 17,
     "metadata": {},
     "output_type": "execute_result"
    }
   ],
   "source": [
    "body_length['6407']"
   ]
  },
  {
   "cell_type": "code",
   "execution_count": 18,
   "id": "4230b063",
   "metadata": {},
   "outputs": [],
   "source": [
    "#pd.DataFrame(train_df.columns).to_csv('full_notstemmed_ns_features.csv')"
   ]
  },
  {
   "cell_type": "code",
   "execution_count": 18,
   "id": "5d488d9d",
   "metadata": {},
   "outputs": [],
   "source": [
    "# rescale the data by dividing it with row sum then standardize it\n",
    "from sklearn.preprocessing import StandardScaler\n",
    "\n",
    "train_index = train_df.index\n",
    "genre = train_df.iloc[:, -1:]\n",
    "train_df = train_df.iloc[:, :-1]\n",
    "train_columns = train_df.columns\n",
    "for number in train_index:\n",
    "    train_df.loc[number,:] = train_df.loc[number,:].div(int(body_length[number]))\n",
    "#train_df = train_df.div(train_df.sum(axis=1), axis=0)\n",
    "scaler = StandardScaler()\n",
    "train_df = scaler.fit_transform(train_df)\n",
    "train_df = pd.DataFrame(train_df)\n",
    "train_df.index = train_index\n",
    "train_df.columns = train_columns\n",
    "train_df['genre'] = genre"
   ]
  },
  {
   "cell_type": "code",
   "execution_count": 19,
   "id": "27e39de8",
   "metadata": {},
   "outputs": [
    {
     "data": {
      "text/html": [
       "<div>\n",
       "<style scoped>\n",
       "    .dataframe tbody tr th:only-of-type {\n",
       "        vertical-align: middle;\n",
       "    }\n",
       "\n",
       "    .dataframe tbody tr th {\n",
       "        vertical-align: top;\n",
       "    }\n",
       "\n",
       "    .dataframe thead th {\n",
       "        text-align: right;\n",
       "    }\n",
       "</style>\n",
       "<table border=\"1\" class=\"dataframe\">\n",
       "  <thead>\n",
       "    <tr style=\"text-align: right;\">\n",
       "      <th></th>\n",
       "      <th>abandon</th>\n",
       "      <th>abandoned</th>\n",
       "      <th>abide</th>\n",
       "      <th>ability</th>\n",
       "      <th>able</th>\n",
       "      <th>aboard</th>\n",
       "      <th>abode</th>\n",
       "      <th>about</th>\n",
       "      <th>above</th>\n",
       "      <th>abreast</th>\n",
       "      <th>...</th>\n",
       "      <th>youre</th>\n",
       "      <th>yours</th>\n",
       "      <th>yourself</th>\n",
       "      <th>yourselves</th>\n",
       "      <th>youth</th>\n",
       "      <th>youthful</th>\n",
       "      <th>youve</th>\n",
       "      <th>youyou</th>\n",
       "      <th>zip</th>\n",
       "      <th>genre</th>\n",
       "    </tr>\n",
       "  </thead>\n",
       "  <tbody>\n",
       "    <tr>\n",
       "      <th>6407</th>\n",
       "      <td>0.421389</td>\n",
       "      <td>0.223040</td>\n",
       "      <td>0.700488</td>\n",
       "      <td>-0.456074</td>\n",
       "      <td>-0.439258</td>\n",
       "      <td>-0.380707</td>\n",
       "      <td>1.068668</td>\n",
       "      <td>-1.992709</td>\n",
       "      <td>-0.471847</td>\n",
       "      <td>-0.332112</td>\n",
       "      <td>...</td>\n",
       "      <td>-0.921239</td>\n",
       "      <td>0.212960</td>\n",
       "      <td>1.124335</td>\n",
       "      <td>1.008071</td>\n",
       "      <td>4.507908</td>\n",
       "      <td>3.277390</td>\n",
       "      <td>-0.826338</td>\n",
       "      <td>-0.113553</td>\n",
       "      <td>-0.681703</td>\n",
       "      <td>3</td>\n",
       "    </tr>\n",
       "    <tr>\n",
       "      <th>20719</th>\n",
       "      <td>-0.404377</td>\n",
       "      <td>-0.232587</td>\n",
       "      <td>-0.792260</td>\n",
       "      <td>0.471062</td>\n",
       "      <td>0.125388</td>\n",
       "      <td>-0.180263</td>\n",
       "      <td>-0.393393</td>\n",
       "      <td>-0.750610</td>\n",
       "      <td>-0.121871</td>\n",
       "      <td>-0.332112</td>\n",
       "      <td>...</td>\n",
       "      <td>0.766617</td>\n",
       "      <td>0.972198</td>\n",
       "      <td>0.773182</td>\n",
       "      <td>-0.031910</td>\n",
       "      <td>0.457570</td>\n",
       "      <td>0.010673</td>\n",
       "      <td>1.060831</td>\n",
       "      <td>-0.361389</td>\n",
       "      <td>-0.597104</td>\n",
       "      <td>4</td>\n",
       "    </tr>\n",
       "    <tr>\n",
       "      <th>12725</th>\n",
       "      <td>-0.006681</td>\n",
       "      <td>-0.276528</td>\n",
       "      <td>-0.497796</td>\n",
       "      <td>0.130230</td>\n",
       "      <td>-0.915713</td>\n",
       "      <td>-0.380707</td>\n",
       "      <td>0.169919</td>\n",
       "      <td>-2.325042</td>\n",
       "      <td>-0.032331</td>\n",
       "      <td>0.243418</td>\n",
       "      <td>...</td>\n",
       "      <td>-0.921239</td>\n",
       "      <td>-0.829950</td>\n",
       "      <td>-0.719602</td>\n",
       "      <td>-0.097108</td>\n",
       "      <td>0.505293</td>\n",
       "      <td>0.956899</td>\n",
       "      <td>-0.826338</td>\n",
       "      <td>-0.361389</td>\n",
       "      <td>-0.620698</td>\n",
       "      <td>3</td>\n",
       "    </tr>\n",
       "    <tr>\n",
       "      <th>24104</th>\n",
       "      <td>-0.404377</td>\n",
       "      <td>-0.512780</td>\n",
       "      <td>-0.049272</td>\n",
       "      <td>-0.456074</td>\n",
       "      <td>-0.464044</td>\n",
       "      <td>0.106301</td>\n",
       "      <td>-0.393393</td>\n",
       "      <td>-0.439260</td>\n",
       "      <td>0.299662</td>\n",
       "      <td>-0.332112</td>\n",
       "      <td>...</td>\n",
       "      <td>-0.921239</td>\n",
       "      <td>-0.954944</td>\n",
       "      <td>-1.094564</td>\n",
       "      <td>1.572560</td>\n",
       "      <td>-0.426683</td>\n",
       "      <td>-0.388123</td>\n",
       "      <td>0.702044</td>\n",
       "      <td>-0.361389</td>\n",
       "      <td>-0.016485</td>\n",
       "      <td>5</td>\n",
       "    </tr>\n",
       "    <tr>\n",
       "      <th>30004</th>\n",
       "      <td>-0.404377</td>\n",
       "      <td>-0.512780</td>\n",
       "      <td>1.459260</td>\n",
       "      <td>-0.456074</td>\n",
       "      <td>0.651376</td>\n",
       "      <td>-0.380707</td>\n",
       "      <td>-0.393393</td>\n",
       "      <td>0.721957</td>\n",
       "      <td>-1.104006</td>\n",
       "      <td>-0.332112</td>\n",
       "      <td>...</td>\n",
       "      <td>-0.509174</td>\n",
       "      <td>-0.954944</td>\n",
       "      <td>-1.094564</td>\n",
       "      <td>-0.447652</td>\n",
       "      <td>-0.426683</td>\n",
       "      <td>-0.388123</td>\n",
       "      <td>-0.826338</td>\n",
       "      <td>-0.361389</td>\n",
       "      <td>1.162382</td>\n",
       "      <td>5</td>\n",
       "    </tr>\n",
       "  </tbody>\n",
       "</table>\n",
       "<p>5 rows × 6660 columns</p>\n",
       "</div>"
      ],
      "text/plain": [
       "        abandon  abandoned     abide   ability      able    aboard     abode  \\\n",
       "6407   0.421389   0.223040  0.700488 -0.456074 -0.439258 -0.380707  1.068668   \n",
       "20719 -0.404377  -0.232587 -0.792260  0.471062  0.125388 -0.180263 -0.393393   \n",
       "12725 -0.006681  -0.276528 -0.497796  0.130230 -0.915713 -0.380707  0.169919   \n",
       "24104 -0.404377  -0.512780 -0.049272 -0.456074 -0.464044  0.106301 -0.393393   \n",
       "30004 -0.404377  -0.512780  1.459260 -0.456074  0.651376 -0.380707 -0.393393   \n",
       "\n",
       "          about     above   abreast  ...     youre     yours  yourself  \\\n",
       "6407  -1.992709 -0.471847 -0.332112  ... -0.921239  0.212960  1.124335   \n",
       "20719 -0.750610 -0.121871 -0.332112  ...  0.766617  0.972198  0.773182   \n",
       "12725 -2.325042 -0.032331  0.243418  ... -0.921239 -0.829950 -0.719602   \n",
       "24104 -0.439260  0.299662 -0.332112  ... -0.921239 -0.954944 -1.094564   \n",
       "30004  0.721957 -1.104006 -0.332112  ... -0.509174 -0.954944 -1.094564   \n",
       "\n",
       "       yourselves     youth  youthful     youve    youyou       zip  genre  \n",
       "6407     1.008071  4.507908  3.277390 -0.826338 -0.113553 -0.681703      3  \n",
       "20719   -0.031910  0.457570  0.010673  1.060831 -0.361389 -0.597104      4  \n",
       "12725   -0.097108  0.505293  0.956899 -0.826338 -0.361389 -0.620698      3  \n",
       "24104    1.572560 -0.426683 -0.388123  0.702044 -0.361389 -0.016485      5  \n",
       "30004   -0.447652 -0.426683 -0.388123 -0.826338 -0.361389  1.162382      5  \n",
       "\n",
       "[5 rows x 6660 columns]"
      ]
     },
     "execution_count": 19,
     "metadata": {},
     "output_type": "execute_result"
    }
   ],
   "source": [
    "train_df.head()"
   ]
  },
  {
   "cell_type": "code",
   "execution_count": 20,
   "id": "0ec8d738",
   "metadata": {},
   "outputs": [
    {
     "data": {
      "text/html": [
       "<style>#sk-container-id-1 {color: black;background-color: white;}#sk-container-id-1 pre{padding: 0;}#sk-container-id-1 div.sk-toggleable {background-color: white;}#sk-container-id-1 label.sk-toggleable__label {cursor: pointer;display: block;width: 100%;margin-bottom: 0;padding: 0.3em;box-sizing: border-box;text-align: center;}#sk-container-id-1 label.sk-toggleable__label-arrow:before {content: \"▸\";float: left;margin-right: 0.25em;color: #696969;}#sk-container-id-1 label.sk-toggleable__label-arrow:hover:before {color: black;}#sk-container-id-1 div.sk-estimator:hover label.sk-toggleable__label-arrow:before {color: black;}#sk-container-id-1 div.sk-toggleable__content {max-height: 0;max-width: 0;overflow: hidden;text-align: left;background-color: #f0f8ff;}#sk-container-id-1 div.sk-toggleable__content pre {margin: 0.2em;color: black;border-radius: 0.25em;background-color: #f0f8ff;}#sk-container-id-1 input.sk-toggleable__control:checked~div.sk-toggleable__content {max-height: 200px;max-width: 100%;overflow: auto;}#sk-container-id-1 input.sk-toggleable__control:checked~label.sk-toggleable__label-arrow:before {content: \"▾\";}#sk-container-id-1 div.sk-estimator input.sk-toggleable__control:checked~label.sk-toggleable__label {background-color: #d4ebff;}#sk-container-id-1 div.sk-label input.sk-toggleable__control:checked~label.sk-toggleable__label {background-color: #d4ebff;}#sk-container-id-1 input.sk-hidden--visually {border: 0;clip: rect(1px 1px 1px 1px);clip: rect(1px, 1px, 1px, 1px);height: 1px;margin: -1px;overflow: hidden;padding: 0;position: absolute;width: 1px;}#sk-container-id-1 div.sk-estimator {font-family: monospace;background-color: #f0f8ff;border: 1px dotted black;border-radius: 0.25em;box-sizing: border-box;margin-bottom: 0.5em;}#sk-container-id-1 div.sk-estimator:hover {background-color: #d4ebff;}#sk-container-id-1 div.sk-parallel-item::after {content: \"\";width: 100%;border-bottom: 1px solid gray;flex-grow: 1;}#sk-container-id-1 div.sk-label:hover label.sk-toggleable__label {background-color: #d4ebff;}#sk-container-id-1 div.sk-serial::before {content: \"\";position: absolute;border-left: 1px solid gray;box-sizing: border-box;top: 0;bottom: 0;left: 50%;z-index: 0;}#sk-container-id-1 div.sk-serial {display: flex;flex-direction: column;align-items: center;background-color: white;padding-right: 0.2em;padding-left: 0.2em;position: relative;}#sk-container-id-1 div.sk-item {position: relative;z-index: 1;}#sk-container-id-1 div.sk-parallel {display: flex;align-items: stretch;justify-content: center;background-color: white;position: relative;}#sk-container-id-1 div.sk-item::before, #sk-container-id-1 div.sk-parallel-item::before {content: \"\";position: absolute;border-left: 1px solid gray;box-sizing: border-box;top: 0;bottom: 0;left: 50%;z-index: -1;}#sk-container-id-1 div.sk-parallel-item {display: flex;flex-direction: column;z-index: 1;position: relative;background-color: white;}#sk-container-id-1 div.sk-parallel-item:first-child::after {align-self: flex-end;width: 50%;}#sk-container-id-1 div.sk-parallel-item:last-child::after {align-self: flex-start;width: 50%;}#sk-container-id-1 div.sk-parallel-item:only-child::after {width: 0;}#sk-container-id-1 div.sk-dashed-wrapped {border: 1px dashed gray;margin: 0 0.4em 0.5em 0.4em;box-sizing: border-box;padding-bottom: 0.4em;background-color: white;}#sk-container-id-1 div.sk-label label {font-family: monospace;font-weight: bold;display: inline-block;line-height: 1.2em;}#sk-container-id-1 div.sk-label-container {text-align: center;}#sk-container-id-1 div.sk-container {/* jupyter's `normalize.less` sets `[hidden] { display: none; }` but bootstrap.min.css set `[hidden] { display: none !important; }` so we also need the `!important` here to be able to override the default hidden behavior on the sphinx rendered scikit-learn.org. See: https://github.com/scikit-learn/scikit-learn/issues/21755 */display: inline-block !important;position: relative;}#sk-container-id-1 div.sk-text-repr-fallback {display: none;}</style><div id=\"sk-container-id-1\" class=\"sk-top-container\"><div class=\"sk-text-repr-fallback\"><pre>SVC(kernel=&#x27;linear&#x27;)</pre><b>In a Jupyter environment, please rerun this cell to show the HTML representation or trust the notebook. <br />On GitHub, the HTML representation is unable to render, please try loading this page with nbviewer.org.</b></div><div class=\"sk-container\" hidden><div class=\"sk-item\"><div class=\"sk-estimator sk-toggleable\"><input class=\"sk-toggleable__control sk-hidden--visually\" id=\"sk-estimator-id-1\" type=\"checkbox\" checked><label for=\"sk-estimator-id-1\" class=\"sk-toggleable__label sk-toggleable__label-arrow\">SVC</label><div class=\"sk-toggleable__content\"><pre>SVC(kernel=&#x27;linear&#x27;)</pre></div></div></div></div></div>"
      ],
      "text/plain": [
       "SVC(kernel='linear')"
      ]
     },
     "execution_count": 20,
     "metadata": {},
     "output_type": "execute_result"
    }
   ],
   "source": [
    "from sklearn import svm\n",
    "from matplotlib import pyplot as plt\n",
    "\n",
    "X = train_df.iloc[:, :-1].to_numpy()\n",
    "y = train_df.iloc[:, -1:].to_numpy().flatten()\n",
    "\n",
    "clf = svm.SVC(kernel='linear')\n",
    "clf.fit(X, y)"
   ]
  },
  {
   "cell_type": "code",
   "execution_count": 21,
   "id": "42e9fc84",
   "metadata": {},
   "outputs": [
    {
     "data": {
      "text/html": [
       "<style>#sk-container-id-2 {color: black;background-color: white;}#sk-container-id-2 pre{padding: 0;}#sk-container-id-2 div.sk-toggleable {background-color: white;}#sk-container-id-2 label.sk-toggleable__label {cursor: pointer;display: block;width: 100%;margin-bottom: 0;padding: 0.3em;box-sizing: border-box;text-align: center;}#sk-container-id-2 label.sk-toggleable__label-arrow:before {content: \"▸\";float: left;margin-right: 0.25em;color: #696969;}#sk-container-id-2 label.sk-toggleable__label-arrow:hover:before {color: black;}#sk-container-id-2 div.sk-estimator:hover label.sk-toggleable__label-arrow:before {color: black;}#sk-container-id-2 div.sk-toggleable__content {max-height: 0;max-width: 0;overflow: hidden;text-align: left;background-color: #f0f8ff;}#sk-container-id-2 div.sk-toggleable__content pre {margin: 0.2em;color: black;border-radius: 0.25em;background-color: #f0f8ff;}#sk-container-id-2 input.sk-toggleable__control:checked~div.sk-toggleable__content {max-height: 200px;max-width: 100%;overflow: auto;}#sk-container-id-2 input.sk-toggleable__control:checked~label.sk-toggleable__label-arrow:before {content: \"▾\";}#sk-container-id-2 div.sk-estimator input.sk-toggleable__control:checked~label.sk-toggleable__label {background-color: #d4ebff;}#sk-container-id-2 div.sk-label input.sk-toggleable__control:checked~label.sk-toggleable__label {background-color: #d4ebff;}#sk-container-id-2 input.sk-hidden--visually {border: 0;clip: rect(1px 1px 1px 1px);clip: rect(1px, 1px, 1px, 1px);height: 1px;margin: -1px;overflow: hidden;padding: 0;position: absolute;width: 1px;}#sk-container-id-2 div.sk-estimator {font-family: monospace;background-color: #f0f8ff;border: 1px dotted black;border-radius: 0.25em;box-sizing: border-box;margin-bottom: 0.5em;}#sk-container-id-2 div.sk-estimator:hover {background-color: #d4ebff;}#sk-container-id-2 div.sk-parallel-item::after {content: \"\";width: 100%;border-bottom: 1px solid gray;flex-grow: 1;}#sk-container-id-2 div.sk-label:hover label.sk-toggleable__label {background-color: #d4ebff;}#sk-container-id-2 div.sk-serial::before {content: \"\";position: absolute;border-left: 1px solid gray;box-sizing: border-box;top: 0;bottom: 0;left: 50%;z-index: 0;}#sk-container-id-2 div.sk-serial {display: flex;flex-direction: column;align-items: center;background-color: white;padding-right: 0.2em;padding-left: 0.2em;position: relative;}#sk-container-id-2 div.sk-item {position: relative;z-index: 1;}#sk-container-id-2 div.sk-parallel {display: flex;align-items: stretch;justify-content: center;background-color: white;position: relative;}#sk-container-id-2 div.sk-item::before, #sk-container-id-2 div.sk-parallel-item::before {content: \"\";position: absolute;border-left: 1px solid gray;box-sizing: border-box;top: 0;bottom: 0;left: 50%;z-index: -1;}#sk-container-id-2 div.sk-parallel-item {display: flex;flex-direction: column;z-index: 1;position: relative;background-color: white;}#sk-container-id-2 div.sk-parallel-item:first-child::after {align-self: flex-end;width: 50%;}#sk-container-id-2 div.sk-parallel-item:last-child::after {align-self: flex-start;width: 50%;}#sk-container-id-2 div.sk-parallel-item:only-child::after {width: 0;}#sk-container-id-2 div.sk-dashed-wrapped {border: 1px dashed gray;margin: 0 0.4em 0.5em 0.4em;box-sizing: border-box;padding-bottom: 0.4em;background-color: white;}#sk-container-id-2 div.sk-label label {font-family: monospace;font-weight: bold;display: inline-block;line-height: 1.2em;}#sk-container-id-2 div.sk-label-container {text-align: center;}#sk-container-id-2 div.sk-container {/* jupyter's `normalize.less` sets `[hidden] { display: none; }` but bootstrap.min.css set `[hidden] { display: none !important; }` so we also need the `!important` here to be able to override the default hidden behavior on the sphinx rendered scikit-learn.org. See: https://github.com/scikit-learn/scikit-learn/issues/21755 */display: inline-block !important;position: relative;}#sk-container-id-2 div.sk-text-repr-fallback {display: none;}</style><div id=\"sk-container-id-2\" class=\"sk-top-container\"><div class=\"sk-text-repr-fallback\"><pre>LinearSVC(loss=&#x27;hinge&#x27;, max_iter=100000)</pre><b>In a Jupyter environment, please rerun this cell to show the HTML representation or trust the notebook. <br />On GitHub, the HTML representation is unable to render, please try loading this page with nbviewer.org.</b></div><div class=\"sk-container\" hidden><div class=\"sk-item\"><div class=\"sk-estimator sk-toggleable\"><input class=\"sk-toggleable__control sk-hidden--visually\" id=\"sk-estimator-id-2\" type=\"checkbox\" checked><label for=\"sk-estimator-id-2\" class=\"sk-toggleable__label sk-toggleable__label-arrow\">LinearSVC</label><div class=\"sk-toggleable__content\"><pre>LinearSVC(loss=&#x27;hinge&#x27;, max_iter=100000)</pre></div></div></div></div></div>"
      ],
      "text/plain": [
       "LinearSVC(loss='hinge', max_iter=100000)"
      ]
     },
     "execution_count": 21,
     "metadata": {},
     "output_type": "execute_result"
    }
   ],
   "source": [
    "clf2 = svm.LinearSVC(loss='hinge', max_iter=100000)\n",
    "clf2.fit(X, y)"
   ]
  },
  {
   "cell_type": "code",
   "execution_count": 22,
   "id": "667ed11d",
   "metadata": {},
   "outputs": [
    {
     "data": {
      "text/html": [
       "<style>#sk-container-id-3 {color: black;background-color: white;}#sk-container-id-3 pre{padding: 0;}#sk-container-id-3 div.sk-toggleable {background-color: white;}#sk-container-id-3 label.sk-toggleable__label {cursor: pointer;display: block;width: 100%;margin-bottom: 0;padding: 0.3em;box-sizing: border-box;text-align: center;}#sk-container-id-3 label.sk-toggleable__label-arrow:before {content: \"▸\";float: left;margin-right: 0.25em;color: #696969;}#sk-container-id-3 label.sk-toggleable__label-arrow:hover:before {color: black;}#sk-container-id-3 div.sk-estimator:hover label.sk-toggleable__label-arrow:before {color: black;}#sk-container-id-3 div.sk-toggleable__content {max-height: 0;max-width: 0;overflow: hidden;text-align: left;background-color: #f0f8ff;}#sk-container-id-3 div.sk-toggleable__content pre {margin: 0.2em;color: black;border-radius: 0.25em;background-color: #f0f8ff;}#sk-container-id-3 input.sk-toggleable__control:checked~div.sk-toggleable__content {max-height: 200px;max-width: 100%;overflow: auto;}#sk-container-id-3 input.sk-toggleable__control:checked~label.sk-toggleable__label-arrow:before {content: \"▾\";}#sk-container-id-3 div.sk-estimator input.sk-toggleable__control:checked~label.sk-toggleable__label {background-color: #d4ebff;}#sk-container-id-3 div.sk-label input.sk-toggleable__control:checked~label.sk-toggleable__label {background-color: #d4ebff;}#sk-container-id-3 input.sk-hidden--visually {border: 0;clip: rect(1px 1px 1px 1px);clip: rect(1px, 1px, 1px, 1px);height: 1px;margin: -1px;overflow: hidden;padding: 0;position: absolute;width: 1px;}#sk-container-id-3 div.sk-estimator {font-family: monospace;background-color: #f0f8ff;border: 1px dotted black;border-radius: 0.25em;box-sizing: border-box;margin-bottom: 0.5em;}#sk-container-id-3 div.sk-estimator:hover {background-color: #d4ebff;}#sk-container-id-3 div.sk-parallel-item::after {content: \"\";width: 100%;border-bottom: 1px solid gray;flex-grow: 1;}#sk-container-id-3 div.sk-label:hover label.sk-toggleable__label {background-color: #d4ebff;}#sk-container-id-3 div.sk-serial::before {content: \"\";position: absolute;border-left: 1px solid gray;box-sizing: border-box;top: 0;bottom: 0;left: 50%;z-index: 0;}#sk-container-id-3 div.sk-serial {display: flex;flex-direction: column;align-items: center;background-color: white;padding-right: 0.2em;padding-left: 0.2em;position: relative;}#sk-container-id-3 div.sk-item {position: relative;z-index: 1;}#sk-container-id-3 div.sk-parallel {display: flex;align-items: stretch;justify-content: center;background-color: white;position: relative;}#sk-container-id-3 div.sk-item::before, #sk-container-id-3 div.sk-parallel-item::before {content: \"\";position: absolute;border-left: 1px solid gray;box-sizing: border-box;top: 0;bottom: 0;left: 50%;z-index: -1;}#sk-container-id-3 div.sk-parallel-item {display: flex;flex-direction: column;z-index: 1;position: relative;background-color: white;}#sk-container-id-3 div.sk-parallel-item:first-child::after {align-self: flex-end;width: 50%;}#sk-container-id-3 div.sk-parallel-item:last-child::after {align-self: flex-start;width: 50%;}#sk-container-id-3 div.sk-parallel-item:only-child::after {width: 0;}#sk-container-id-3 div.sk-dashed-wrapped {border: 1px dashed gray;margin: 0 0.4em 0.5em 0.4em;box-sizing: border-box;padding-bottom: 0.4em;background-color: white;}#sk-container-id-3 div.sk-label label {font-family: monospace;font-weight: bold;display: inline-block;line-height: 1.2em;}#sk-container-id-3 div.sk-label-container {text-align: center;}#sk-container-id-3 div.sk-container {/* jupyter's `normalize.less` sets `[hidden] { display: none; }` but bootstrap.min.css set `[hidden] { display: none !important; }` so we also need the `!important` here to be able to override the default hidden behavior on the sphinx rendered scikit-learn.org. See: https://github.com/scikit-learn/scikit-learn/issues/21755 */display: inline-block !important;position: relative;}#sk-container-id-3 div.sk-text-repr-fallback {display: none;}</style><div id=\"sk-container-id-3\" class=\"sk-top-container\"><div class=\"sk-text-repr-fallback\"><pre>SVC(class_weight=&#x27;balanced&#x27;, kernel=&#x27;linear&#x27;)</pre><b>In a Jupyter environment, please rerun this cell to show the HTML representation or trust the notebook. <br />On GitHub, the HTML representation is unable to render, please try loading this page with nbviewer.org.</b></div><div class=\"sk-container\" hidden><div class=\"sk-item\"><div class=\"sk-estimator sk-toggleable\"><input class=\"sk-toggleable__control sk-hidden--visually\" id=\"sk-estimator-id-3\" type=\"checkbox\" checked><label for=\"sk-estimator-id-3\" class=\"sk-toggleable__label sk-toggleable__label-arrow\">SVC</label><div class=\"sk-toggleable__content\"><pre>SVC(class_weight=&#x27;balanced&#x27;, kernel=&#x27;linear&#x27;)</pre></div></div></div></div></div>"
      ],
      "text/plain": [
       "SVC(class_weight='balanced', kernel='linear')"
      ]
     },
     "execution_count": 22,
     "metadata": {},
     "output_type": "execute_result"
    }
   ],
   "source": [
    "clf3 = svm.SVC(kernel='linear', class_weight='balanced')\n",
    "clf3.fit(X, y)"
   ]
  },
  {
   "cell_type": "code",
   "execution_count": 23,
   "id": "24e9ff36",
   "metadata": {},
   "outputs": [
    {
     "data": {
      "text/html": [
       "<style>#sk-container-id-4 {color: black;background-color: white;}#sk-container-id-4 pre{padding: 0;}#sk-container-id-4 div.sk-toggleable {background-color: white;}#sk-container-id-4 label.sk-toggleable__label {cursor: pointer;display: block;width: 100%;margin-bottom: 0;padding: 0.3em;box-sizing: border-box;text-align: center;}#sk-container-id-4 label.sk-toggleable__label-arrow:before {content: \"▸\";float: left;margin-right: 0.25em;color: #696969;}#sk-container-id-4 label.sk-toggleable__label-arrow:hover:before {color: black;}#sk-container-id-4 div.sk-estimator:hover label.sk-toggleable__label-arrow:before {color: black;}#sk-container-id-4 div.sk-toggleable__content {max-height: 0;max-width: 0;overflow: hidden;text-align: left;background-color: #f0f8ff;}#sk-container-id-4 div.sk-toggleable__content pre {margin: 0.2em;color: black;border-radius: 0.25em;background-color: #f0f8ff;}#sk-container-id-4 input.sk-toggleable__control:checked~div.sk-toggleable__content {max-height: 200px;max-width: 100%;overflow: auto;}#sk-container-id-4 input.sk-toggleable__control:checked~label.sk-toggleable__label-arrow:before {content: \"▾\";}#sk-container-id-4 div.sk-estimator input.sk-toggleable__control:checked~label.sk-toggleable__label {background-color: #d4ebff;}#sk-container-id-4 div.sk-label input.sk-toggleable__control:checked~label.sk-toggleable__label {background-color: #d4ebff;}#sk-container-id-4 input.sk-hidden--visually {border: 0;clip: rect(1px 1px 1px 1px);clip: rect(1px, 1px, 1px, 1px);height: 1px;margin: -1px;overflow: hidden;padding: 0;position: absolute;width: 1px;}#sk-container-id-4 div.sk-estimator {font-family: monospace;background-color: #f0f8ff;border: 1px dotted black;border-radius: 0.25em;box-sizing: border-box;margin-bottom: 0.5em;}#sk-container-id-4 div.sk-estimator:hover {background-color: #d4ebff;}#sk-container-id-4 div.sk-parallel-item::after {content: \"\";width: 100%;border-bottom: 1px solid gray;flex-grow: 1;}#sk-container-id-4 div.sk-label:hover label.sk-toggleable__label {background-color: #d4ebff;}#sk-container-id-4 div.sk-serial::before {content: \"\";position: absolute;border-left: 1px solid gray;box-sizing: border-box;top: 0;bottom: 0;left: 50%;z-index: 0;}#sk-container-id-4 div.sk-serial {display: flex;flex-direction: column;align-items: center;background-color: white;padding-right: 0.2em;padding-left: 0.2em;position: relative;}#sk-container-id-4 div.sk-item {position: relative;z-index: 1;}#sk-container-id-4 div.sk-parallel {display: flex;align-items: stretch;justify-content: center;background-color: white;position: relative;}#sk-container-id-4 div.sk-item::before, #sk-container-id-4 div.sk-parallel-item::before {content: \"\";position: absolute;border-left: 1px solid gray;box-sizing: border-box;top: 0;bottom: 0;left: 50%;z-index: -1;}#sk-container-id-4 div.sk-parallel-item {display: flex;flex-direction: column;z-index: 1;position: relative;background-color: white;}#sk-container-id-4 div.sk-parallel-item:first-child::after {align-self: flex-end;width: 50%;}#sk-container-id-4 div.sk-parallel-item:last-child::after {align-self: flex-start;width: 50%;}#sk-container-id-4 div.sk-parallel-item:only-child::after {width: 0;}#sk-container-id-4 div.sk-dashed-wrapped {border: 1px dashed gray;margin: 0 0.4em 0.5em 0.4em;box-sizing: border-box;padding-bottom: 0.4em;background-color: white;}#sk-container-id-4 div.sk-label label {font-family: monospace;font-weight: bold;display: inline-block;line-height: 1.2em;}#sk-container-id-4 div.sk-label-container {text-align: center;}#sk-container-id-4 div.sk-container {/* jupyter's `normalize.less` sets `[hidden] { display: none; }` but bootstrap.min.css set `[hidden] { display: none !important; }` so we also need the `!important` here to be able to override the default hidden behavior on the sphinx rendered scikit-learn.org. See: https://github.com/scikit-learn/scikit-learn/issues/21755 */display: inline-block !important;position: relative;}#sk-container-id-4 div.sk-text-repr-fallback {display: none;}</style><div id=\"sk-container-id-4\" class=\"sk-top-container\"><div class=\"sk-text-repr-fallback\"><pre>LinearSVC(class_weight=&#x27;balanced&#x27;, loss=&#x27;hinge&#x27;, max_iter=100000)</pre><b>In a Jupyter environment, please rerun this cell to show the HTML representation or trust the notebook. <br />On GitHub, the HTML representation is unable to render, please try loading this page with nbviewer.org.</b></div><div class=\"sk-container\" hidden><div class=\"sk-item\"><div class=\"sk-estimator sk-toggleable\"><input class=\"sk-toggleable__control sk-hidden--visually\" id=\"sk-estimator-id-4\" type=\"checkbox\" checked><label for=\"sk-estimator-id-4\" class=\"sk-toggleable__label sk-toggleable__label-arrow\">LinearSVC</label><div class=\"sk-toggleable__content\"><pre>LinearSVC(class_weight=&#x27;balanced&#x27;, loss=&#x27;hinge&#x27;, max_iter=100000)</pre></div></div></div></div></div>"
      ],
      "text/plain": [
       "LinearSVC(class_weight='balanced', loss='hinge', max_iter=100000)"
      ]
     },
     "execution_count": 23,
     "metadata": {},
     "output_type": "execute_result"
    }
   ],
   "source": [
    "clf4 = svm.LinearSVC(loss='hinge', class_weight='balanced', max_iter=100000)\n",
    "clf4.fit(X, y)"
   ]
  },
  {
   "cell_type": "code",
   "execution_count": 54,
   "id": "774930dc",
   "metadata": {},
   "outputs": [],
   "source": [
    "with open('full_ns_std_svc', 'wb') as file1:\n",
    "    pickle.dump(clf, file1)\n",
    "with open('full_ns_std_lin', 'wb') as file2:\n",
    "    pickle.dump(clf2, file2)\n",
    "with open('full_ns_std_svc_b', 'wb') as file3:\n",
    "    pickle.dump(clf3, file3)\n",
    "with open('full_ns_std_lin_b', 'wb') as file4:\n",
    "    pickle.dump(clf4, file4)"
   ]
  },
  {
   "cell_type": "code",
   "execution_count": 25,
   "id": "c14116bc",
   "metadata": {
    "scrolled": true
   },
   "outputs": [
    {
     "data": {
      "image/png": "[encoded data removed]",
      "text/plain": [
       "<Figure size 432x288 with 1 Axes>"
      ]
     },
     "metadata": {
      "needs_background": "light"
     },
     "output_type": "display_data"
    }
   ],
   "source": [
    "# check feature importance\n",
    "\n",
    "def f_importances(coef, names):\n",
    "    imp = coef\n",
    "    imp, names = zip(*sorted(zip(imp, names)))\n",
    "    plt.barh(range(10), imp[-10:], align='center')\n",
    "    plt.yticks(range(10), names[-10:])\n",
    "    plt.show()\n",
    "    \n",
    "f_importances(clf.coef_[2], train_df.iloc[:, :-1].columns)"
   ]
  },
  {
   "cell_type": "code",
   "execution_count": 26,
   "id": "539e8ea4",
   "metadata": {},
   "outputs": [
    {
     "data": {
      "image/png": "[encoded data removed]",
      "text/plain": [
       "<Figure size 432x288 with 1 Axes>"
      ]
     },
     "metadata": {
      "needs_background": "light"
     },
     "output_type": "display_data"
    }
   ],
   "source": [
    "# check feature importance\n",
    "\n",
    "def f_importances(coef, names):\n",
    "    imp = coef\n",
    "    imp, names = zip(*sorted(zip(imp, names)))\n",
    "    plt.barh(range(10), imp[:10], align='center')\n",
    "    plt.yticks(range(10), names[:10])\n",
    "    plt.show()\n",
    "    \n",
    "f_importances(clf.coef_[2], train_df.iloc[:, :-1].columns)"
   ]
  },
  {
   "cell_type": "code",
   "execution_count": 27,
   "id": "3d9683c4",
   "metadata": {},
   "outputs": [
    {
     "data": {
      "text/plain": [
       "(6, 6659)"
      ]
     },
     "execution_count": 27,
     "metadata": {},
     "output_type": "execute_result"
    }
   ],
   "source": [
    "clf2.coef_.shape"
   ]
  },
  {
   "cell_type": "code",
   "execution_count": 28,
   "id": "daf9a15c",
   "metadata": {},
   "outputs": [],
   "source": [
    "# preprocess test data\n",
    "test_index = test_df.index\n",
    "genre = test_df.iloc[:, -1:]\n",
    "test_df = test_df.iloc[:, :-1]\n",
    "test_columns = test_df.columns\n",
    "for number in test_index:\n",
    "    test_df.loc[number,:] = test_df.loc[number,:].div(int(body_length[number]))\n",
    "test_df = scaler.transform(test_df)\n",
    "test_df = pd.DataFrame(test_df)\n",
    "test_df.index = test_index\n",
    "test_df.columns = test_columns\n",
    "test_df['genre'] = genre"
   ]
  },
  {
   "cell_type": "code",
   "execution_count": 29,
   "id": "28ec25b7",
   "metadata": {},
   "outputs": [
    {
     "data": {
      "text/html": [
       "<div>\n",
       "<style scoped>\n",
       "    .dataframe tbody tr th:only-of-type {\n",
       "        vertical-align: middle;\n",
       "    }\n",
       "\n",
       "    .dataframe tbody tr th {\n",
       "        vertical-align: top;\n",
       "    }\n",
       "\n",
       "    .dataframe thead th {\n",
       "        text-align: right;\n",
       "    }\n",
       "</style>\n",
       "<table border=\"1\" class=\"dataframe\">\n",
       "  <thead>\n",
       "    <tr style=\"text-align: right;\">\n",
       "      <th></th>\n",
       "      <th>abandon</th>\n",
       "      <th>abandoned</th>\n",
       "      <th>abide</th>\n",
       "      <th>ability</th>\n",
       "      <th>able</th>\n",
       "      <th>aboard</th>\n",
       "      <th>abode</th>\n",
       "      <th>about</th>\n",
       "      <th>above</th>\n",
       "      <th>abreast</th>\n",
       "      <th>...</th>\n",
       "      <th>youre</th>\n",
       "      <th>yours</th>\n",
       "      <th>yourself</th>\n",
       "      <th>yourselves</th>\n",
       "      <th>youth</th>\n",
       "      <th>youthful</th>\n",
       "      <th>youve</th>\n",
       "      <th>youyou</th>\n",
       "      <th>zip</th>\n",
       "      <th>genre</th>\n",
       "    </tr>\n",
       "  </thead>\n",
       "  <tbody>\n",
       "    <tr>\n",
       "      <th>10002</th>\n",
       "      <td>-0.404377</td>\n",
       "      <td>-0.512780</td>\n",
       "      <td>-0.696375</td>\n",
       "      <td>0.238376</td>\n",
       "      <td>1.829712</td>\n",
       "      <td>-0.380707</td>\n",
       "      <td>0.607433</td>\n",
       "      <td>-0.297983</td>\n",
       "      <td>1.925119</td>\n",
       "      <td>-0.332112</td>\n",
       "      <td>...</td>\n",
       "      <td>-0.872614</td>\n",
       "      <td>-0.954944</td>\n",
       "      <td>-1.094564</td>\n",
       "      <td>-0.447652</td>\n",
       "      <td>-0.426683</td>\n",
       "      <td>-0.388123</td>\n",
       "      <td>-0.732102</td>\n",
       "      <td>-0.361389</td>\n",
       "      <td>-0.522174</td>\n",
       "      <td>5</td>\n",
       "    </tr>\n",
       "    <tr>\n",
       "      <th>10094</th>\n",
       "      <td>0.518321</td>\n",
       "      <td>1.131609</td>\n",
       "      <td>-0.608161</td>\n",
       "      <td>-0.002644</td>\n",
       "      <td>-0.181105</td>\n",
       "      <td>-0.380707</td>\n",
       "      <td>0.260081</td>\n",
       "      <td>-0.796659</td>\n",
       "      <td>1.043343</td>\n",
       "      <td>-0.332112</td>\n",
       "      <td>...</td>\n",
       "      <td>-0.857741</td>\n",
       "      <td>-0.519944</td>\n",
       "      <td>-0.137616</td>\n",
       "      <td>0.365649</td>\n",
       "      <td>0.149927</td>\n",
       "      <td>-0.388123</td>\n",
       "      <td>-0.764808</td>\n",
       "      <td>-0.361389</td>\n",
       "      <td>-0.600394</td>\n",
       "      <td>3</td>\n",
       "    </tr>\n",
       "    <tr>\n",
       "      <th>10124</th>\n",
       "      <td>1.222222</td>\n",
       "      <td>-0.512780</td>\n",
       "      <td>-0.652814</td>\n",
       "      <td>-0.456074</td>\n",
       "      <td>-0.419393</td>\n",
       "      <td>0.137738</td>\n",
       "      <td>-0.393393</td>\n",
       "      <td>-1.626937</td>\n",
       "      <td>-0.705532</td>\n",
       "      <td>-0.332112</td>\n",
       "      <td>...</td>\n",
       "      <td>0.142178</td>\n",
       "      <td>-0.188095</td>\n",
       "      <td>0.285690</td>\n",
       "      <td>0.269221</td>\n",
       "      <td>-0.299622</td>\n",
       "      <td>-0.388123</td>\n",
       "      <td>0.149887</td>\n",
       "      <td>1.591368</td>\n",
       "      <td>-0.488132</td>\n",
       "      <td>6</td>\n",
       "    </tr>\n",
       "    <tr>\n",
       "      <th>10234</th>\n",
       "      <td>-0.404377</td>\n",
       "      <td>0.406052</td>\n",
       "      <td>-0.774337</td>\n",
       "      <td>-0.456074</td>\n",
       "      <td>-1.000163</td>\n",
       "      <td>-0.380707</td>\n",
       "      <td>-0.393393</td>\n",
       "      <td>-0.808310</td>\n",
       "      <td>0.222166</td>\n",
       "      <td>-0.332112</td>\n",
       "      <td>...</td>\n",
       "      <td>-0.601914</td>\n",
       "      <td>-0.468816</td>\n",
       "      <td>-0.705683</td>\n",
       "      <td>-0.447652</td>\n",
       "      <td>-0.265588</td>\n",
       "      <td>-0.388123</td>\n",
       "      <td>-0.757576</td>\n",
       "      <td>0.876520</td>\n",
       "      <td>-0.583098</td>\n",
       "      <td>3</td>\n",
       "    </tr>\n",
       "    <tr>\n",
       "      <th>10372</th>\n",
       "      <td>0.417615</td>\n",
       "      <td>-0.024475</td>\n",
       "      <td>-0.817023</td>\n",
       "      <td>-0.254103</td>\n",
       "      <td>-0.287482</td>\n",
       "      <td>-0.380707</td>\n",
       "      <td>0.188759</td>\n",
       "      <td>-0.732503</td>\n",
       "      <td>-0.197857</td>\n",
       "      <td>-0.332112</td>\n",
       "      <td>...</td>\n",
       "      <td>0.238395</td>\n",
       "      <td>1.499363</td>\n",
       "      <td>-0.552062</td>\n",
       "      <td>-0.085385</td>\n",
       "      <td>0.215414</td>\n",
       "      <td>-0.040622</td>\n",
       "      <td>0.763279</td>\n",
       "      <td>0.132018</td>\n",
       "      <td>-0.616456</td>\n",
       "      <td>6</td>\n",
       "    </tr>\n",
       "  </tbody>\n",
       "</table>\n",
       "<p>5 rows × 6660 columns</p>\n",
       "</div>"
      ],
      "text/plain": [
       "        abandon  abandoned     abide   ability      able    aboard     abode  \\\n",
       "10002 -0.404377  -0.512780 -0.696375  0.238376  1.829712 -0.380707  0.607433   \n",
       "10094  0.518321   1.131609 -0.608161 -0.002644 -0.181105 -0.380707  0.260081   \n",
       "10124  1.222222  -0.512780 -0.652814 -0.456074 -0.419393  0.137738 -0.393393   \n",
       "10234 -0.404377   0.406052 -0.774337 -0.456074 -1.000163 -0.380707 -0.393393   \n",
       "10372  0.417615  -0.024475 -0.817023 -0.254103 -0.287482 -0.380707  0.188759   \n",
       "\n",
       "          about     above   abreast  ...     youre     yours  yourself  \\\n",
       "10002 -0.297983  1.925119 -0.332112  ... -0.872614 -0.954944 -1.094564   \n",
       "10094 -0.796659  1.043343 -0.332112  ... -0.857741 -0.519944 -0.137616   \n",
       "10124 -1.626937 -0.705532 -0.332112  ...  0.142178 -0.188095  0.285690   \n",
       "10234 -0.808310  0.222166 -0.332112  ... -0.601914 -0.468816 -0.705683   \n",
       "10372 -0.732503 -0.197857 -0.332112  ...  0.238395  1.499363 -0.552062   \n",
       "\n",
       "       yourselves     youth  youthful     youve    youyou       zip  genre  \n",
       "10002   -0.447652 -0.426683 -0.388123 -0.732102 -0.361389 -0.522174      5  \n",
       "10094    0.365649  0.149927 -0.388123 -0.764808 -0.361389 -0.600394      3  \n",
       "10124    0.269221 -0.299622 -0.388123  0.149887  1.591368 -0.488132      6  \n",
       "10234   -0.447652 -0.265588 -0.388123 -0.757576  0.876520 -0.583098      3  \n",
       "10372   -0.085385  0.215414 -0.040622  0.763279  0.132018 -0.616456      6  \n",
       "\n",
       "[5 rows x 6660 columns]"
      ]
     },
     "execution_count": 29,
     "metadata": {},
     "output_type": "execute_result"
    }
   ],
   "source": [
    "test_df.head()"
   ]
  },
  {
   "cell_type": "code",
   "execution_count": 30,
   "id": "1e15fd64",
   "metadata": {},
   "outputs": [],
   "source": [
    "# make prediction\n",
    "\n",
    "X_test = test_df.iloc[:, :-1].to_numpy()\n",
    "y_test = test_df.iloc[:, -1:].to_numpy().flatten()\n",
    "\n",
    "pred = clf.predict(X_test)"
   ]
  },
  {
   "cell_type": "code",
   "execution_count": 31,
   "id": "45bbac71",
   "metadata": {},
   "outputs": [
    {
     "data": {
      "text/plain": [
       "array([5, 3, 2, ..., 2, 2, 4])"
      ]
     },
     "execution_count": 31,
     "metadata": {},
     "output_type": "execute_result"
    }
   ],
   "source": [
    "pred"
   ]
  },
  {
   "cell_type": "code",
   "execution_count": 32,
   "id": "d5f0a264",
   "metadata": {},
   "outputs": [],
   "source": [
    "# confusion matrix\n",
    "from sklearn import metrics\n",
    "import matplotlib.pyplot as plt\n",
    "# import seaborn as sns\n",
    "\n",
    "cm = metrics.confusion_matrix(y_test, pred)\n",
    "cm_df = pd.DataFrame(cm, index = [1,2,3,4,5,6], columns = [1,2,3,4,5,6])\n",
    "#plt.figure()\n",
    "#sns.heatmap(cm_df, annot=True)\n",
    "#plt.title('Confusion Matrix')\n",
    "#plt.ylabel('Actual Values')\n",
    "#plt.xlabel('Predicted Values')\n",
    "#plt.show()"
   ]
  },
  {
   "cell_type": "code",
   "execution_count": 33,
   "id": "c97de39c",
   "metadata": {
    "scrolled": true
   },
   "outputs": [
    {
     "data": {
      "text/plain": [
       "array([[106,   7,  12,   7,   4,   9],\n",
       "       [ 12, 128,   0,   9,   2,   0],\n",
       "       [ 14,   1,  81,   9,   2,   6],\n",
       "       [  8,   7,   9,  95,   5,   7],\n",
       "       [  3,   1,   4,   3, 500,   0],\n",
       "       [  2,   2,   0,   3,   0, 109]])"
      ]
     },
     "execution_count": 33,
     "metadata": {},
     "output_type": "execute_result"
    }
   ],
   "source": [
    "cm"
   ]
  },
  {
   "cell_type": "code",
   "execution_count": 34,
   "id": "1aeb10e3",
   "metadata": {},
   "outputs": [
    {
     "data": {
      "text/plain": [
       "array([0.73103448, 0.84768212, 0.71681416, 0.72519084, 0.97847358,\n",
       "       0.93965517])"
      ]
     },
     "execution_count": 34,
     "metadata": {},
     "output_type": "execute_result"
    }
   ],
   "source": [
    "cm.diagonal()/cm.sum(axis=1)"
   ]
  },
  {
   "cell_type": "code",
   "execution_count": 35,
   "id": "75edd28e",
   "metadata": {},
   "outputs": [
    {
     "name": "stdout",
     "output_type": "stream",
     "text": [
      "                               precision    recall  f1-score   support\n",
      "\n",
      "            Adventure stories      0.731     0.731     0.731       145\n",
      "Detective and mystery stories      0.877     0.848     0.862       151\n",
      "           Historical fiction      0.764     0.717     0.740       113\n",
      "                 Love stories      0.754     0.725     0.739       131\n",
      "              Science fiction      0.975     0.978     0.977       511\n",
      "              Western stories      0.832     0.940     0.883       116\n",
      "\n",
      "                     accuracy                          0.873      1167\n",
      "                    macro avg      0.822     0.823     0.822      1167\n",
      "                 weighted avg      0.872     0.873     0.872      1167\n",
      "\n"
     ]
    }
   ],
   "source": [
    "from sklearn.metrics import classification_report\n",
    "\n",
    "print(classification_report(y_test, pred, target_names=['Adventure stories','Detective and mystery stories','Historical fiction',\n",
    "                                                        'Love stories','Science fiction','Western stories'], digits=3))"
   ]
  },
  {
   "cell_type": "code",
   "execution_count": null,
   "id": "f6b8f0ef",
   "metadata": {},
   "outputs": [],
   "source": []
  },
  {
   "cell_type": "code",
   "execution_count": 36,
   "id": "b2d7a4ae",
   "metadata": {},
   "outputs": [],
   "source": [
    "# make prediction\n",
    "\n",
    "X_test = test_df.iloc[:, :-1].to_numpy()\n",
    "y_test = test_df.iloc[:, -1:].to_numpy().flatten()\n",
    "\n",
    "pred2 = clf2.predict(X_test)"
   ]
  },
  {
   "cell_type": "code",
   "execution_count": 37,
   "id": "81aa2bca",
   "metadata": {},
   "outputs": [
    {
     "data": {
      "text/plain": [
       "array([5, 3, 1, ..., 2, 2, 4])"
      ]
     },
     "execution_count": 37,
     "metadata": {},
     "output_type": "execute_result"
    }
   ],
   "source": [
    "pred2"
   ]
  },
  {
   "cell_type": "code",
   "execution_count": 38,
   "id": "0634831c",
   "metadata": {},
   "outputs": [],
   "source": [
    "# confusion matrix\n",
    "from sklearn import metrics\n",
    "import matplotlib.pyplot as plt\n",
    "# import seaborn as sns\n",
    "\n",
    "cm2 = metrics.confusion_matrix(y_test, pred2)\n",
    "cm_df2 = pd.DataFrame(cm2, index = [1,2,3,4,5,6], columns = [1,2,3,4,5,6])\n",
    "#plt.figure()\n",
    "#sns.heatmap(cm_df, annot=True)\n",
    "#plt.title('Confusion Matrix')\n",
    "#plt.ylabel('Actual Values')\n",
    "#plt.xlabel('Predicted Values')\n",
    "#plt.show()"
   ]
  },
  {
   "cell_type": "code",
   "execution_count": 39,
   "id": "5b59abe5",
   "metadata": {
    "scrolled": true
   },
   "outputs": [
    {
     "data": {
      "text/plain": [
       "array([[ 96,  12,  17,   9,   1,  10],\n",
       "       [ 11, 128,   4,   7,   0,   1],\n",
       "       [ 15,   0,  81,   9,   1,   7],\n",
       "       [ 14,   6,  18,  85,   1,   7],\n",
       "       [  9,   5,  20,   5, 471,   1],\n",
       "       [  3,   2,   4,   1,   0, 106]])"
      ]
     },
     "execution_count": 39,
     "metadata": {},
     "output_type": "execute_result"
    }
   ],
   "source": [
    "cm2"
   ]
  },
  {
   "cell_type": "code",
   "execution_count": 40,
   "id": "3269211c",
   "metadata": {},
   "outputs": [
    {
     "data": {
      "text/plain": [
       "array([0.66206897, 0.84768212, 0.71681416, 0.64885496, 0.92172211,\n",
       "       0.9137931 ])"
      ]
     },
     "execution_count": 40,
     "metadata": {},
     "output_type": "execute_result"
    }
   ],
   "source": [
    "cm2.diagonal()/cm2.sum(axis=1)"
   ]
  },
  {
   "cell_type": "code",
   "execution_count": 41,
   "id": "e407c244",
   "metadata": {},
   "outputs": [
    {
     "name": "stdout",
     "output_type": "stream",
     "text": [
      "                               precision    recall  f1-score   support\n",
      "\n",
      "            Adventure stories      0.649     0.662     0.655       145\n",
      "Detective and mystery stories      0.837     0.848     0.842       151\n",
      "           Historical fiction      0.562     0.717     0.630       113\n",
      "                 Love stories      0.733     0.649     0.688       131\n",
      "              Science fiction      0.994     0.922     0.956       511\n",
      "              Western stories      0.803     0.914     0.855       116\n",
      "\n",
      "                     accuracy                          0.829      1167\n",
      "                    macro avg      0.763     0.785     0.771      1167\n",
      "                 weighted avg      0.840     0.829     0.832      1167\n",
      "\n"
     ]
    }
   ],
   "source": [
    "from sklearn.metrics import classification_report\n",
    "\n",
    "print(classification_report(y_test, pred2, target_names=['Adventure stories','Detective and mystery stories','Historical fiction',\n",
    "                                                        'Love stories','Science fiction','Western stories'], digits=3))"
   ]
  },
  {
   "cell_type": "code",
   "execution_count": null,
   "id": "0ee7379b",
   "metadata": {},
   "outputs": [],
   "source": []
  },
  {
   "cell_type": "code",
   "execution_count": 42,
   "id": "68d57638",
   "metadata": {},
   "outputs": [],
   "source": [
    "# make prediction\n",
    "\n",
    "X_test = test_df.iloc[:, :-1].to_numpy()\n",
    "y_test = test_df.iloc[:, -1:].to_numpy().flatten()\n",
    "\n",
    "pred3 = clf3.predict(X_test)"
   ]
  },
  {
   "cell_type": "code",
   "execution_count": 43,
   "id": "c7fe563a",
   "metadata": {},
   "outputs": [
    {
     "data": {
      "text/plain": [
       "array([5, 3, 2, ..., 2, 2, 4])"
      ]
     },
     "execution_count": 43,
     "metadata": {},
     "output_type": "execute_result"
    }
   ],
   "source": [
    "pred3"
   ]
  },
  {
   "cell_type": "code",
   "execution_count": 44,
   "id": "c1bdd3c7",
   "metadata": {},
   "outputs": [],
   "source": [
    "# confusion matrix\n",
    "from sklearn import metrics\n",
    "import matplotlib.pyplot as plt\n",
    "# import seaborn as sns\n",
    "\n",
    "cm3 = metrics.confusion_matrix(y_test, pred3)\n",
    "cm_df3 = pd.DataFrame(cm3, index = [1,2,3,4,5,6], columns = [1,2,3,4,5,6])\n",
    "#plt.figure()\n",
    "#sns.heatmap(cm_df, annot=True)\n",
    "#plt.title('Confusion Matrix')\n",
    "#plt.ylabel('Actual Values')\n",
    "#plt.xlabel('Predicted Values')\n",
    "#plt.show()"
   ]
  },
  {
   "cell_type": "code",
   "execution_count": 45,
   "id": "0e1ba643",
   "metadata": {
    "scrolled": true
   },
   "outputs": [
    {
     "data": {
      "text/plain": [
       "array([[106,   7,  12,   7,   4,   9],\n",
       "       [ 12, 128,   0,   9,   2,   0],\n",
       "       [ 14,   1,  81,   9,   2,   6],\n",
       "       [  8,   7,   9,  95,   5,   7],\n",
       "       [  3,   1,   4,   3, 500,   0],\n",
       "       [  2,   2,   0,   3,   0, 109]])"
      ]
     },
     "execution_count": 45,
     "metadata": {},
     "output_type": "execute_result"
    }
   ],
   "source": [
    "cm3"
   ]
  },
  {
   "cell_type": "code",
   "execution_count": 46,
   "id": "df1a204a",
   "metadata": {},
   "outputs": [
    {
     "data": {
      "text/plain": [
       "array([0.73103448, 0.84768212, 0.71681416, 0.72519084, 0.97847358,\n",
       "       0.93965517])"
      ]
     },
     "execution_count": 46,
     "metadata": {},
     "output_type": "execute_result"
    }
   ],
   "source": [
    "cm3.diagonal()/cm3.sum(axis=1)"
   ]
  },
  {
   "cell_type": "code",
   "execution_count": 47,
   "id": "3864af5d",
   "metadata": {},
   "outputs": [
    {
     "name": "stdout",
     "output_type": "stream",
     "text": [
      "                               precision    recall  f1-score   support\n",
      "\n",
      "            Adventure stories      0.731     0.731     0.731       145\n",
      "Detective and mystery stories      0.877     0.848     0.862       151\n",
      "           Historical fiction      0.764     0.717     0.740       113\n",
      "                 Love stories      0.754     0.725     0.739       131\n",
      "              Science fiction      0.975     0.978     0.977       511\n",
      "              Western stories      0.832     0.940     0.883       116\n",
      "\n",
      "                     accuracy                          0.873      1167\n",
      "                    macro avg      0.822     0.823     0.822      1167\n",
      "                 weighted avg      0.872     0.873     0.872      1167\n",
      "\n"
     ]
    }
   ],
   "source": [
    "from sklearn.metrics import classification_report\n",
    "\n",
    "print(classification_report(y_test, pred3, target_names=['Adventure stories','Detective and mystery stories','Historical fiction',\n",
    "                                                        'Love stories','Science fiction','Western stories'], digits=3))"
   ]
  },
  {
   "cell_type": "code",
   "execution_count": null,
   "id": "5513f1e9",
   "metadata": {},
   "outputs": [],
   "source": []
  },
  {
   "cell_type": "code",
   "execution_count": null,
   "id": "b36a089c",
   "metadata": {},
   "outputs": [],
   "source": []
  },
  {
   "cell_type": "code",
   "execution_count": 48,
   "id": "5aa61584",
   "metadata": {},
   "outputs": [],
   "source": [
    "# make prediction\n",
    "\n",
    "X_test = test_df.iloc[:, :-1].to_numpy()\n",
    "y_test = test_df.iloc[:, -1:].to_numpy().flatten()\n",
    "\n",
    "pred4 = clf4.predict(X_test)"
   ]
  },
  {
   "cell_type": "code",
   "execution_count": 49,
   "id": "9031e42b",
   "metadata": {},
   "outputs": [
    {
     "data": {
      "text/plain": [
       "array([5, 3, 1, ..., 2, 2, 4])"
      ]
     },
     "execution_count": 49,
     "metadata": {},
     "output_type": "execute_result"
    }
   ],
   "source": [
    "pred4"
   ]
  },
  {
   "cell_type": "code",
   "execution_count": 50,
   "id": "ed94461c",
   "metadata": {},
   "outputs": [],
   "source": [
    "# confusion matrix\n",
    "from sklearn import metrics\n",
    "import matplotlib.pyplot as plt\n",
    "# import seaborn as sns\n",
    "\n",
    "cm4 = metrics.confusion_matrix(y_test, pred4)\n",
    "cm_df4 = pd.DataFrame(cm4, index = [1,2,3,4,5,6], columns = [1,2,3,4,5,6])\n",
    "#plt.figure()\n",
    "#sns.heatmap(cm_df, annot=True)\n",
    "#plt.title('Confusion Matrix')\n",
    "#plt.ylabel('Actual Values')\n",
    "#plt.xlabel('Predicted Values')\n",
    "#plt.show()"
   ]
  },
  {
   "cell_type": "code",
   "execution_count": 51,
   "id": "f673821b",
   "metadata": {
    "scrolled": true
   },
   "outputs": [
    {
     "data": {
      "text/plain": [
       "array([[ 96,  12,  17,   9,   1,  10],\n",
       "       [ 11, 128,   4,   7,   0,   1],\n",
       "       [ 15,   0,  81,   9,   1,   7],\n",
       "       [ 14,   6,  18,  85,   1,   7],\n",
       "       [  9,   5,  20,   5, 471,   1],\n",
       "       [  3,   2,   4,   1,   0, 106]])"
      ]
     },
     "execution_count": 51,
     "metadata": {},
     "output_type": "execute_result"
    }
   ],
   "source": [
    "cm4"
   ]
  },
  {
   "cell_type": "code",
   "execution_count": 52,
   "id": "2d7a3ac5",
   "metadata": {},
   "outputs": [
    {
     "data": {
      "text/plain": [
       "array([0.66206897, 0.84768212, 0.71681416, 0.64885496, 0.92172211,\n",
       "       0.9137931 ])"
      ]
     },
     "execution_count": 52,
     "metadata": {},
     "output_type": "execute_result"
    }
   ],
   "source": [
    "cm4.diagonal()/cm4.sum(axis=1)"
   ]
  },
  {
   "cell_type": "code",
   "execution_count": 53,
   "id": "210e417e",
   "metadata": {},
   "outputs": [
    {
     "name": "stdout",
     "output_type": "stream",
     "text": [
      "                               precision    recall  f1-score   support\n",
      "\n",
      "            Adventure stories      0.649     0.662     0.655       145\n",
      "Detective and mystery stories      0.837     0.848     0.842       151\n",
      "           Historical fiction      0.562     0.717     0.630       113\n",
      "                 Love stories      0.733     0.649     0.688       131\n",
      "              Science fiction      0.994     0.922     0.956       511\n",
      "              Western stories      0.803     0.914     0.855       116\n",
      "\n",
      "                     accuracy                          0.829      1167\n",
      "                    macro avg      0.763     0.785     0.771      1167\n",
      "                 weighted avg      0.840     0.829     0.832      1167\n",
      "\n"
     ]
    }
   ],
   "source": [
    "from sklearn.metrics import classification_report\n",
    "\n",
    "print(classification_report(y_test, pred4, target_names=['Adventure stories','Detective and mystery stories','Historical fiction',\n",
    "                                                        'Love stories','Science fiction','Western stories'], digits=3))"
   ]
  },
  {
   "cell_type": "code",
   "execution_count": null,
   "id": "6b887c6f",
   "metadata": {},
   "outputs": [],
   "source": []
  },
  {
   "cell_type": "code",
   "execution_count": null,
   "id": "b20d4721",
   "metadata": {},
   "outputs": [],
   "source": []
  }
 ],
 "metadata": {
  "kernelspec": {
   "display_name": "Python 3 (ipykernel)",
   "language": "python",
   "name": "python3"
  },
  "language_info": {
   "codemirror_mode": {
    "name": "ipython",
    "version": 3
   },
   "file_extension": ".py",
   "mimetype": "text/x-python",
   "name": "python",
   "nbconvert_exporter": "python",
   "pygments_lexer": "ipython3",
   "version": "3.10.4"
  }
 },
 "nbformat": 4,
 "nbformat_minor": 5
}
