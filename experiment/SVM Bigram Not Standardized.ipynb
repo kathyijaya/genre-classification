{
 "cells": [
  {
   "cell_type": "code",
   "execution_count": 1,
   "id": "b5aa7dbe",
   "metadata": {},
   "outputs": [
    {
     "name": "stdout",
     "output_type": "stream",
     "text": [
      "Loading Genre_Classification system from path /mnt/d/UNIV NOTES/Y4S1/DSA4199/genre_classification\n"
     ]
    },
    {
     "name": "stderr",
     "output_type": "stream",
     "text": [
      "2022-11-15 16:58:43.773271: W tensorflow/stream_executor/platform/default/dso_loader.cc:64] Could not load dynamic library 'libcudart.so.11.0'; dlerror: libcudart.so.11.0: cannot open shared object file: No such file or directory\n",
      "2022-11-15 16:58:43.774228: I tensorflow/stream_executor/cuda/cudart_stub.cc:29] Ignore above cudart dlerror if you do not have a GPU set up on your machine.\n"
     ]
    }
   ],
   "source": [
    "%matplotlib inline\n",
    "\n",
    "import os\n",
    "import sys\n",
    "genre_class_path = os.path.abspath(os.path.join(os.getcwd(), os.pardir))\n",
    "print(\"Loading Genre_Classification system from path\", genre_class_path)\n",
    "sys.path.append(genre_class_path)\n",
    "\n",
    "import numpy as np\n",
    "import pandas as pd\n",
    "import tensorflow as tf\n",
    "import json\n",
    "import random\n",
    "import pickle"
   ]
  },
  {
   "cell_type": "code",
   "execution_count": 2,
   "id": "0ac028d4",
   "metadata": {},
   "outputs": [
    {
     "name": "stderr",
     "output_type": "stream",
     "text": [
      "[nltk_data] Downloading package averaged_perceptron_tagger to\n",
      "[nltk_data]     /home/kathyij74/nltk_data...\n",
      "[nltk_data]   Package averaged_perceptron_tagger is already up-to-\n",
      "[nltk_data]       date!\n"
     ]
    },
    {
     "data": {
      "text/plain": [
       "True"
      ]
     },
     "execution_count": 2,
     "metadata": {},
     "output_type": "execute_result"
    }
   ],
   "source": [
    "from nltk import download\n",
    "from sklearn import svm\n",
    "from sklearn.metrics import accuracy_score\n",
    "\n",
    "download('averaged_perceptron_tagger')"
   ]
  },
  {
   "cell_type": "code",
   "execution_count": 3,
   "id": "93293b29",
   "metadata": {},
   "outputs": [],
   "source": [
    "dataset_wkspc = os.path.join(genre_class_path, 'workspace', 'gb_input')\n",
    "data_path = os.path.join(dataset_wkspc, 'bigram.csv')\n",
    "\n",
    "bigram_df = pd.read_csv(data_path)\n",
    "bigram_df = bigram_df.iloc[:,1:]"
   ]
  },
  {
   "cell_type": "code",
   "execution_count": 4,
   "id": "9bebfdb3",
   "metadata": {},
   "outputs": [],
   "source": [
    "dataset_wkspc = os.path.join(genre_class_path, 'workspace', 'gb_input')\n",
    "data_path = os.path.join(dataset_wkspc, 'data_index.json')\n",
    "\n",
    "with open(data_path) as f:\n",
    "    data_json = json.load(f)"
   ]
  },
  {
   "cell_type": "code",
   "execution_count": 5,
   "id": "340dfd2c",
   "metadata": {},
   "outputs": [],
   "source": [
    "index = []\n",
    "for entry in data_json:\n",
    "    index.append(entry['index'])"
   ]
  },
  {
   "cell_type": "code",
   "execution_count": 6,
   "id": "6f8d0aef",
   "metadata": {},
   "outputs": [
    {
     "data": {
      "text/plain": [
       "['10002',\n",
       " '10005',\n",
       " '10008',\n",
       " '10046',\n",
       " '10067',\n",
       " '10094',\n",
       " '10109',\n",
       " '10124',\n",
       " '1014',\n",
       " '10234']"
      ]
     },
     "execution_count": 6,
     "metadata": {},
     "output_type": "execute_result"
    }
   ],
   "source": [
    "index[:10]"
   ]
  },
  {
   "cell_type": "code",
   "execution_count": 7,
   "id": "236bd5a4",
   "metadata": {},
   "outputs": [],
   "source": [
    "bigram_df.index = index"
   ]
  },
  {
   "cell_type": "code",
   "execution_count": 8,
   "id": "1ab5a8c0",
   "metadata": {},
   "outputs": [
    {
     "data": {
      "text/html": [
       "<div>\n",
       "<style scoped>\n",
       "    .dataframe tbody tr th:only-of-type {\n",
       "        vertical-align: middle;\n",
       "    }\n",
       "\n",
       "    .dataframe tbody tr th {\n",
       "        vertical-align: top;\n",
       "    }\n",
       "\n",
       "    .dataframe thead th {\n",
       "        text-align: right;\n",
       "    }\n",
       "</style>\n",
       "<table border=\"1\" class=\"dataframe\">\n",
       "  <thead>\n",
       "    <tr style=\"text-align: right;\">\n",
       "      <th></th>\n",
       "      <th>('JJS', 'TO')</th>\n",
       "      <th>('FW', 'MD')</th>\n",
       "      <th>('EX', 'FW')</th>\n",
       "      <th>('DT', 'JJR')</th>\n",
       "      <th>('EX', 'VBG')</th>\n",
       "      <th>('UH', 'PDT')</th>\n",
       "      <th>('JJS', 'NN')</th>\n",
       "      <th>('PDT', 'RP')</th>\n",
       "      <th>('DT', 'RP')</th>\n",
       "      <th>('NNP', 'VBN')</th>\n",
       "      <th>...</th>\n",
       "      <th>('UH', 'RB')</th>\n",
       "      <th>('PRP', 'RBR')</th>\n",
       "      <th>('NN', 'NNPS')</th>\n",
       "      <th>('VBG', 'PRP')</th>\n",
       "      <th>('NN', 'CD')</th>\n",
       "      <th>('VBN', 'CD')</th>\n",
       "      <th>('IN', 'WP')</th>\n",
       "      <th>('RBS', 'VBN')</th>\n",
       "      <th>('RBR', 'TO')</th>\n",
       "      <th>subjects</th>\n",
       "    </tr>\n",
       "  </thead>\n",
       "  <tbody>\n",
       "    <tr>\n",
       "      <th>10002</th>\n",
       "      <td>1</td>\n",
       "      <td>0</td>\n",
       "      <td>0</td>\n",
       "      <td>28</td>\n",
       "      <td>0</td>\n",
       "      <td>0</td>\n",
       "      <td>10</td>\n",
       "      <td>0</td>\n",
       "      <td>0</td>\n",
       "      <td>1</td>\n",
       "      <td>...</td>\n",
       "      <td>0</td>\n",
       "      <td>4</td>\n",
       "      <td>0</td>\n",
       "      <td>59</td>\n",
       "      <td>23</td>\n",
       "      <td>5</td>\n",
       "      <td>14</td>\n",
       "      <td>0</td>\n",
       "      <td>2</td>\n",
       "      <td>5</td>\n",
       "    </tr>\n",
       "    <tr>\n",
       "      <th>10005</th>\n",
       "      <td>2</td>\n",
       "      <td>0</td>\n",
       "      <td>0</td>\n",
       "      <td>60</td>\n",
       "      <td>1</td>\n",
       "      <td>0</td>\n",
       "      <td>49</td>\n",
       "      <td>0</td>\n",
       "      <td>0</td>\n",
       "      <td>1</td>\n",
       "      <td>...</td>\n",
       "      <td>0</td>\n",
       "      <td>5</td>\n",
       "      <td>0</td>\n",
       "      <td>102</td>\n",
       "      <td>28</td>\n",
       "      <td>9</td>\n",
       "      <td>64</td>\n",
       "      <td>1</td>\n",
       "      <td>2</td>\n",
       "      <td>5</td>\n",
       "    </tr>\n",
       "    <tr>\n",
       "      <th>10008</th>\n",
       "      <td>4</td>\n",
       "      <td>0</td>\n",
       "      <td>0</td>\n",
       "      <td>32</td>\n",
       "      <td>1</td>\n",
       "      <td>0</td>\n",
       "      <td>33</td>\n",
       "      <td>0</td>\n",
       "      <td>2</td>\n",
       "      <td>1</td>\n",
       "      <td>...</td>\n",
       "      <td>0</td>\n",
       "      <td>5</td>\n",
       "      <td>0</td>\n",
       "      <td>64</td>\n",
       "      <td>40</td>\n",
       "      <td>7</td>\n",
       "      <td>27</td>\n",
       "      <td>0</td>\n",
       "      <td>2</td>\n",
       "      <td>5</td>\n",
       "    </tr>\n",
       "    <tr>\n",
       "      <th>10046</th>\n",
       "      <td>8</td>\n",
       "      <td>0</td>\n",
       "      <td>0</td>\n",
       "      <td>74</td>\n",
       "      <td>0</td>\n",
       "      <td>0</td>\n",
       "      <td>76</td>\n",
       "      <td>0</td>\n",
       "      <td>0</td>\n",
       "      <td>1</td>\n",
       "      <td>...</td>\n",
       "      <td>0</td>\n",
       "      <td>3</td>\n",
       "      <td>0</td>\n",
       "      <td>66</td>\n",
       "      <td>34</td>\n",
       "      <td>4</td>\n",
       "      <td>46</td>\n",
       "      <td>0</td>\n",
       "      <td>4</td>\n",
       "      <td>3</td>\n",
       "    </tr>\n",
       "    <tr>\n",
       "      <th>10067</th>\n",
       "      <td>0</td>\n",
       "      <td>2</td>\n",
       "      <td>0</td>\n",
       "      <td>29</td>\n",
       "      <td>7</td>\n",
       "      <td>0</td>\n",
       "      <td>46</td>\n",
       "      <td>0</td>\n",
       "      <td>5</td>\n",
       "      <td>1</td>\n",
       "      <td>...</td>\n",
       "      <td>0</td>\n",
       "      <td>6</td>\n",
       "      <td>0</td>\n",
       "      <td>92</td>\n",
       "      <td>28</td>\n",
       "      <td>10</td>\n",
       "      <td>35</td>\n",
       "      <td>1</td>\n",
       "      <td>2</td>\n",
       "      <td>2</td>\n",
       "    </tr>\n",
       "  </tbody>\n",
       "</table>\n",
       "<p>5 rows × 1119 columns</p>\n",
       "</div>"
      ],
      "text/plain": [
       "       ('JJS', 'TO')  ('FW', 'MD')  ('EX', 'FW')  ('DT', 'JJR')  \\\n",
       "10002              1             0             0             28   \n",
       "10005              2             0             0             60   \n",
       "10008              4             0             0             32   \n",
       "10046              8             0             0             74   \n",
       "10067              0             2             0             29   \n",
       "\n",
       "       ('EX', 'VBG')  ('UH', 'PDT')  ('JJS', 'NN')  ('PDT', 'RP')  \\\n",
       "10002              0              0             10              0   \n",
       "10005              1              0             49              0   \n",
       "10008              1              0             33              0   \n",
       "10046              0              0             76              0   \n",
       "10067              7              0             46              0   \n",
       "\n",
       "       ('DT', 'RP')  ('NNP', 'VBN')  ...  ('UH', 'RB')  ('PRP', 'RBR')  \\\n",
       "10002             0               1  ...             0               4   \n",
       "10005             0               1  ...             0               5   \n",
       "10008             2               1  ...             0               5   \n",
       "10046             0               1  ...             0               3   \n",
       "10067             5               1  ...             0               6   \n",
       "\n",
       "       ('NN', 'NNPS')  ('VBG', 'PRP')  ('NN', 'CD')  ('VBN', 'CD')  \\\n",
       "10002               0              59            23              5   \n",
       "10005               0             102            28              9   \n",
       "10008               0              64            40              7   \n",
       "10046               0              66            34              4   \n",
       "10067               0              92            28             10   \n",
       "\n",
       "       ('IN', 'WP')  ('RBS', 'VBN')  ('RBR', 'TO')  subjects  \n",
       "10002            14               0              2         5  \n",
       "10005            64               1              2         5  \n",
       "10008            27               0              2         5  \n",
       "10046            46               0              4         3  \n",
       "10067            35               1              2         2  \n",
       "\n",
       "[5 rows x 1119 columns]"
      ]
     },
     "execution_count": 8,
     "metadata": {},
     "output_type": "execute_result"
    }
   ],
   "source": [
    "bigram_df.head()"
   ]
  },
  {
   "cell_type": "code",
   "execution_count": 9,
   "id": "5de14dcc",
   "metadata": {},
   "outputs": [
    {
     "data": {
      "text/plain": [
       "5    1742\n",
       "1     523\n",
       "2     469\n",
       "4     427\n",
       "6     374\n",
       "3     354\n",
       "Name: subjects, dtype: int64"
      ]
     },
     "execution_count": 9,
     "metadata": {},
     "output_type": "execute_result"
    }
   ],
   "source": [
    "bigram_df['subjects'].value_counts()"
   ]
  },
  {
   "cell_type": "code",
   "execution_count": 10,
   "id": "d3fb06f4",
   "metadata": {},
   "outputs": [
    {
     "name": "stdout",
     "output_type": "stream",
     "text": [
      "[2619, 456, 102, 3037, 1126, 1003, 914, 571, 3016, 419, 2771, 3033, 3654, 2233, 356, 2418, 1728, 130, 122, 383]\n",
      "[0, 5, 7, 9, 12, 15, 17, 19, 20, 21, 27, 30, 35, 36, 37, 40, 42, 43, 44, 45]\n",
      "2722\n",
      "1167\n"
     ]
    }
   ],
   "source": [
    "random.seed(42)\n",
    "\n",
    "train = random.sample(range(0, len(bigram_df)), int(len(bigram_df)*0.7))\n",
    "test = [x for x in range(0, len(bigram_df)) if x not in train]\n",
    "\n",
    "print(train[:20])\n",
    "print(test[:20])\n",
    "print(len(train))\n",
    "print(len(test))"
   ]
  },
  {
   "cell_type": "code",
   "execution_count": 11,
   "id": "080076c7",
   "metadata": {},
   "outputs": [
    {
     "name": "stdout",
     "output_type": "stream",
     "text": [
      "(2722, 1119)\n",
      "(1167, 1119)\n"
     ]
    }
   ],
   "source": [
    "train_df = bigram_df.iloc[train,]\n",
    "test_df = bigram_df.iloc[test,]\n",
    "\n",
    "print(train_df.shape)\n",
    "print(test_df.shape)"
   ]
  },
  {
   "cell_type": "code",
   "execution_count": 12,
   "id": "c6932fb1",
   "metadata": {},
   "outputs": [
    {
     "data": {
      "text/html": [
       "<div>\n",
       "<style scoped>\n",
       "    .dataframe tbody tr th:only-of-type {\n",
       "        vertical-align: middle;\n",
       "    }\n",
       "\n",
       "    .dataframe tbody tr th {\n",
       "        vertical-align: top;\n",
       "    }\n",
       "\n",
       "    .dataframe thead th {\n",
       "        text-align: right;\n",
       "    }\n",
       "</style>\n",
       "<table border=\"1\" class=\"dataframe\">\n",
       "  <thead>\n",
       "    <tr style=\"text-align: right;\">\n",
       "      <th></th>\n",
       "      <th>('JJS', 'TO')</th>\n",
       "      <th>('FW', 'MD')</th>\n",
       "      <th>('EX', 'FW')</th>\n",
       "      <th>('DT', 'JJR')</th>\n",
       "      <th>('EX', 'VBG')</th>\n",
       "      <th>('UH', 'PDT')</th>\n",
       "      <th>('JJS', 'NN')</th>\n",
       "      <th>('PDT', 'RP')</th>\n",
       "      <th>('DT', 'RP')</th>\n",
       "      <th>('NNP', 'VBN')</th>\n",
       "      <th>...</th>\n",
       "      <th>('UH', 'RB')</th>\n",
       "      <th>('PRP', 'RBR')</th>\n",
       "      <th>('NN', 'NNPS')</th>\n",
       "      <th>('VBG', 'PRP')</th>\n",
       "      <th>('NN', 'CD')</th>\n",
       "      <th>('VBN', 'CD')</th>\n",
       "      <th>('IN', 'WP')</th>\n",
       "      <th>('RBS', 'VBN')</th>\n",
       "      <th>('RBR', 'TO')</th>\n",
       "      <th>subjects</th>\n",
       "    </tr>\n",
       "  </thead>\n",
       "  <tbody>\n",
       "    <tr>\n",
       "      <th>6407</th>\n",
       "      <td>15</td>\n",
       "      <td>0</td>\n",
       "      <td>0</td>\n",
       "      <td>149</td>\n",
       "      <td>1</td>\n",
       "      <td>0</td>\n",
       "      <td>181</td>\n",
       "      <td>0</td>\n",
       "      <td>0</td>\n",
       "      <td>1</td>\n",
       "      <td>...</td>\n",
       "      <td>0</td>\n",
       "      <td>11</td>\n",
       "      <td>0</td>\n",
       "      <td>194</td>\n",
       "      <td>28</td>\n",
       "      <td>17</td>\n",
       "      <td>155</td>\n",
       "      <td>2</td>\n",
       "      <td>4</td>\n",
       "      <td>3</td>\n",
       "    </tr>\n",
       "    <tr>\n",
       "      <th>20719</th>\n",
       "      <td>5</td>\n",
       "      <td>1</td>\n",
       "      <td>0</td>\n",
       "      <td>42</td>\n",
       "      <td>1</td>\n",
       "      <td>0</td>\n",
       "      <td>52</td>\n",
       "      <td>0</td>\n",
       "      <td>3</td>\n",
       "      <td>1</td>\n",
       "      <td>...</td>\n",
       "      <td>0</td>\n",
       "      <td>2</td>\n",
       "      <td>1</td>\n",
       "      <td>101</td>\n",
       "      <td>34</td>\n",
       "      <td>10</td>\n",
       "      <td>21</td>\n",
       "      <td>1</td>\n",
       "      <td>2</td>\n",
       "      <td>4</td>\n",
       "    </tr>\n",
       "    <tr>\n",
       "      <th>12725</th>\n",
       "      <td>4</td>\n",
       "      <td>0</td>\n",
       "      <td>0</td>\n",
       "      <td>40</td>\n",
       "      <td>0</td>\n",
       "      <td>0</td>\n",
       "      <td>106</td>\n",
       "      <td>0</td>\n",
       "      <td>0</td>\n",
       "      <td>0</td>\n",
       "      <td>...</td>\n",
       "      <td>0</td>\n",
       "      <td>6</td>\n",
       "      <td>0</td>\n",
       "      <td>107</td>\n",
       "      <td>26</td>\n",
       "      <td>11</td>\n",
       "      <td>51</td>\n",
       "      <td>3</td>\n",
       "      <td>10</td>\n",
       "      <td>3</td>\n",
       "    </tr>\n",
       "    <tr>\n",
       "      <th>24104</th>\n",
       "      <td>0</td>\n",
       "      <td>0</td>\n",
       "      <td>0</td>\n",
       "      <td>6</td>\n",
       "      <td>0</td>\n",
       "      <td>0</td>\n",
       "      <td>4</td>\n",
       "      <td>0</td>\n",
       "      <td>0</td>\n",
       "      <td>0</td>\n",
       "      <td>...</td>\n",
       "      <td>0</td>\n",
       "      <td>1</td>\n",
       "      <td>0</td>\n",
       "      <td>13</td>\n",
       "      <td>19</td>\n",
       "      <td>3</td>\n",
       "      <td>9</td>\n",
       "      <td>0</td>\n",
       "      <td>0</td>\n",
       "      <td>5</td>\n",
       "    </tr>\n",
       "    <tr>\n",
       "      <th>30004</th>\n",
       "      <td>0</td>\n",
       "      <td>0</td>\n",
       "      <td>0</td>\n",
       "      <td>3</td>\n",
       "      <td>0</td>\n",
       "      <td>0</td>\n",
       "      <td>2</td>\n",
       "      <td>0</td>\n",
       "      <td>0</td>\n",
       "      <td>1</td>\n",
       "      <td>...</td>\n",
       "      <td>0</td>\n",
       "      <td>2</td>\n",
       "      <td>0</td>\n",
       "      <td>9</td>\n",
       "      <td>19</td>\n",
       "      <td>2</td>\n",
       "      <td>0</td>\n",
       "      <td>0</td>\n",
       "      <td>1</td>\n",
       "      <td>5</td>\n",
       "    </tr>\n",
       "  </tbody>\n",
       "</table>\n",
       "<p>5 rows × 1119 columns</p>\n",
       "</div>"
      ],
      "text/plain": [
       "       ('JJS', 'TO')  ('FW', 'MD')  ('EX', 'FW')  ('DT', 'JJR')  \\\n",
       "6407              15             0             0            149   \n",
       "20719              5             1             0             42   \n",
       "12725              4             0             0             40   \n",
       "24104              0             0             0              6   \n",
       "30004              0             0             0              3   \n",
       "\n",
       "       ('EX', 'VBG')  ('UH', 'PDT')  ('JJS', 'NN')  ('PDT', 'RP')  \\\n",
       "6407               1              0            181              0   \n",
       "20719              1              0             52              0   \n",
       "12725              0              0            106              0   \n",
       "24104              0              0              4              0   \n",
       "30004              0              0              2              0   \n",
       "\n",
       "       ('DT', 'RP')  ('NNP', 'VBN')  ...  ('UH', 'RB')  ('PRP', 'RBR')  \\\n",
       "6407              0               1  ...             0              11   \n",
       "20719             3               1  ...             0               2   \n",
       "12725             0               0  ...             0               6   \n",
       "24104             0               0  ...             0               1   \n",
       "30004             0               1  ...             0               2   \n",
       "\n",
       "       ('NN', 'NNPS')  ('VBG', 'PRP')  ('NN', 'CD')  ('VBN', 'CD')  \\\n",
       "6407                0             194            28             17   \n",
       "20719               1             101            34             10   \n",
       "12725               0             107            26             11   \n",
       "24104               0              13            19              3   \n",
       "30004               0               9            19              2   \n",
       "\n",
       "       ('IN', 'WP')  ('RBS', 'VBN')  ('RBR', 'TO')  subjects  \n",
       "6407            155               2              4         3  \n",
       "20719            21               1              2         4  \n",
       "12725            51               3             10         3  \n",
       "24104             9               0              0         5  \n",
       "30004             0               0              1         5  \n",
       "\n",
       "[5 rows x 1119 columns]"
      ]
     },
     "execution_count": 12,
     "metadata": {},
     "output_type": "execute_result"
    }
   ],
   "source": [
    "train_df.head()"
   ]
  },
  {
   "cell_type": "code",
   "execution_count": 13,
   "id": "a150a661",
   "metadata": {},
   "outputs": [
    {
     "data": {
      "text/plain": [
       "5    1231\n",
       "1     378\n",
       "2     318\n",
       "4     296\n",
       "6     258\n",
       "3     241\n",
       "Name: subjects, dtype: int64"
      ]
     },
     "execution_count": 13,
     "metadata": {},
     "output_type": "execute_result"
    }
   ],
   "source": [
    "train_df['subjects'].value_counts()"
   ]
  },
  {
   "cell_type": "code",
   "execution_count": 14,
   "id": "8c643e9a",
   "metadata": {},
   "outputs": [
    {
     "data": {
      "text/html": [
       "<div>\n",
       "<style scoped>\n",
       "    .dataframe tbody tr th:only-of-type {\n",
       "        vertical-align: middle;\n",
       "    }\n",
       "\n",
       "    .dataframe tbody tr th {\n",
       "        vertical-align: top;\n",
       "    }\n",
       "\n",
       "    .dataframe thead th {\n",
       "        text-align: right;\n",
       "    }\n",
       "</style>\n",
       "<table border=\"1\" class=\"dataframe\">\n",
       "  <thead>\n",
       "    <tr style=\"text-align: right;\">\n",
       "      <th></th>\n",
       "      <th>('JJS', 'TO')</th>\n",
       "      <th>('FW', 'MD')</th>\n",
       "      <th>('EX', 'FW')</th>\n",
       "      <th>('DT', 'JJR')</th>\n",
       "      <th>('EX', 'VBG')</th>\n",
       "      <th>('UH', 'PDT')</th>\n",
       "      <th>('JJS', 'NN')</th>\n",
       "      <th>('PDT', 'RP')</th>\n",
       "      <th>('DT', 'RP')</th>\n",
       "      <th>('NNP', 'VBN')</th>\n",
       "      <th>...</th>\n",
       "      <th>('UH', 'RB')</th>\n",
       "      <th>('PRP', 'RBR')</th>\n",
       "      <th>('NN', 'NNPS')</th>\n",
       "      <th>('VBG', 'PRP')</th>\n",
       "      <th>('NN', 'CD')</th>\n",
       "      <th>('VBN', 'CD')</th>\n",
       "      <th>('IN', 'WP')</th>\n",
       "      <th>('RBS', 'VBN')</th>\n",
       "      <th>('RBR', 'TO')</th>\n",
       "      <th>subjects</th>\n",
       "    </tr>\n",
       "  </thead>\n",
       "  <tbody>\n",
       "    <tr>\n",
       "      <th>10002</th>\n",
       "      <td>1</td>\n",
       "      <td>0</td>\n",
       "      <td>0</td>\n",
       "      <td>28</td>\n",
       "      <td>0</td>\n",
       "      <td>0</td>\n",
       "      <td>10</td>\n",
       "      <td>0</td>\n",
       "      <td>0</td>\n",
       "      <td>1</td>\n",
       "      <td>...</td>\n",
       "      <td>0</td>\n",
       "      <td>4</td>\n",
       "      <td>0</td>\n",
       "      <td>59</td>\n",
       "      <td>23</td>\n",
       "      <td>5</td>\n",
       "      <td>14</td>\n",
       "      <td>0</td>\n",
       "      <td>2</td>\n",
       "      <td>5</td>\n",
       "    </tr>\n",
       "    <tr>\n",
       "      <th>10094</th>\n",
       "      <td>7</td>\n",
       "      <td>0</td>\n",
       "      <td>0</td>\n",
       "      <td>61</td>\n",
       "      <td>2</td>\n",
       "      <td>0</td>\n",
       "      <td>54</td>\n",
       "      <td>0</td>\n",
       "      <td>2</td>\n",
       "      <td>0</td>\n",
       "      <td>...</td>\n",
       "      <td>0</td>\n",
       "      <td>2</td>\n",
       "      <td>0</td>\n",
       "      <td>98</td>\n",
       "      <td>32</td>\n",
       "      <td>10</td>\n",
       "      <td>36</td>\n",
       "      <td>0</td>\n",
       "      <td>4</td>\n",
       "      <td>3</td>\n",
       "    </tr>\n",
       "    <tr>\n",
       "      <th>10124</th>\n",
       "      <td>2</td>\n",
       "      <td>0</td>\n",
       "      <td>0</td>\n",
       "      <td>19</td>\n",
       "      <td>0</td>\n",
       "      <td>0</td>\n",
       "      <td>25</td>\n",
       "      <td>0</td>\n",
       "      <td>5</td>\n",
       "      <td>0</td>\n",
       "      <td>...</td>\n",
       "      <td>0</td>\n",
       "      <td>0</td>\n",
       "      <td>0</td>\n",
       "      <td>48</td>\n",
       "      <td>25</td>\n",
       "      <td>4</td>\n",
       "      <td>10</td>\n",
       "      <td>1</td>\n",
       "      <td>0</td>\n",
       "      <td>6</td>\n",
       "    </tr>\n",
       "    <tr>\n",
       "      <th>10234</th>\n",
       "      <td>0</td>\n",
       "      <td>1</td>\n",
       "      <td>0</td>\n",
       "      <td>41</td>\n",
       "      <td>0</td>\n",
       "      <td>0</td>\n",
       "      <td>37</td>\n",
       "      <td>0</td>\n",
       "      <td>0</td>\n",
       "      <td>0</td>\n",
       "      <td>...</td>\n",
       "      <td>0</td>\n",
       "      <td>2</td>\n",
       "      <td>0</td>\n",
       "      <td>52</td>\n",
       "      <td>38</td>\n",
       "      <td>3</td>\n",
       "      <td>18</td>\n",
       "      <td>0</td>\n",
       "      <td>3</td>\n",
       "      <td>3</td>\n",
       "    </tr>\n",
       "    <tr>\n",
       "      <th>10372</th>\n",
       "      <td>3</td>\n",
       "      <td>1</td>\n",
       "      <td>0</td>\n",
       "      <td>44</td>\n",
       "      <td>0</td>\n",
       "      <td>0</td>\n",
       "      <td>79</td>\n",
       "      <td>0</td>\n",
       "      <td>2</td>\n",
       "      <td>1</td>\n",
       "      <td>...</td>\n",
       "      <td>0</td>\n",
       "      <td>2</td>\n",
       "      <td>0</td>\n",
       "      <td>71</td>\n",
       "      <td>35</td>\n",
       "      <td>6</td>\n",
       "      <td>36</td>\n",
       "      <td>0</td>\n",
       "      <td>2</td>\n",
       "      <td>6</td>\n",
       "    </tr>\n",
       "  </tbody>\n",
       "</table>\n",
       "<p>5 rows × 1119 columns</p>\n",
       "</div>"
      ],
      "text/plain": [
       "       ('JJS', 'TO')  ('FW', 'MD')  ('EX', 'FW')  ('DT', 'JJR')  \\\n",
       "10002              1             0             0             28   \n",
       "10094              7             0             0             61   \n",
       "10124              2             0             0             19   \n",
       "10234              0             1             0             41   \n",
       "10372              3             1             0             44   \n",
       "\n",
       "       ('EX', 'VBG')  ('UH', 'PDT')  ('JJS', 'NN')  ('PDT', 'RP')  \\\n",
       "10002              0              0             10              0   \n",
       "10094              2              0             54              0   \n",
       "10124              0              0             25              0   \n",
       "10234              0              0             37              0   \n",
       "10372              0              0             79              0   \n",
       "\n",
       "       ('DT', 'RP')  ('NNP', 'VBN')  ...  ('UH', 'RB')  ('PRP', 'RBR')  \\\n",
       "10002             0               1  ...             0               4   \n",
       "10094             2               0  ...             0               2   \n",
       "10124             5               0  ...             0               0   \n",
       "10234             0               0  ...             0               2   \n",
       "10372             2               1  ...             0               2   \n",
       "\n",
       "       ('NN', 'NNPS')  ('VBG', 'PRP')  ('NN', 'CD')  ('VBN', 'CD')  \\\n",
       "10002               0              59            23              5   \n",
       "10094               0              98            32             10   \n",
       "10124               0              48            25              4   \n",
       "10234               0              52            38              3   \n",
       "10372               0              71            35              6   \n",
       "\n",
       "       ('IN', 'WP')  ('RBS', 'VBN')  ('RBR', 'TO')  subjects  \n",
       "10002            14               0              2         5  \n",
       "10094            36               0              4         3  \n",
       "10124            10               1              0         6  \n",
       "10234            18               0              3         3  \n",
       "10372            36               0              2         6  \n",
       "\n",
       "[5 rows x 1119 columns]"
      ]
     },
     "execution_count": 14,
     "metadata": {},
     "output_type": "execute_result"
    }
   ],
   "source": [
    "test_df.head()"
   ]
  },
  {
   "cell_type": "code",
   "execution_count": 15,
   "id": "80d2355d",
   "metadata": {},
   "outputs": [
    {
     "data": {
      "text/plain": [
       "5    511\n",
       "2    151\n",
       "1    145\n",
       "4    131\n",
       "6    116\n",
       "3    113\n",
       "Name: subjects, dtype: int64"
      ]
     },
     "execution_count": 15,
     "metadata": {},
     "output_type": "execute_result"
    }
   ],
   "source": [
    "test_df['subjects'].value_counts()"
   ]
  },
  {
   "cell_type": "code",
   "execution_count": 16,
   "id": "dec7fe5c",
   "metadata": {},
   "outputs": [],
   "source": [
    "features_col = train_df.iloc[:,:-1]\n",
    "sparse = {}\n",
    "for feature in features_col.columns:\n",
    "    sparse[feature] = ((features_col[feature] == 0).sum()/len(features_col))*100\n",
    "non_sparse = [x for x in sparse.keys() if sparse[x] <= 80]"
   ]
  },
  {
   "cell_type": "code",
   "execution_count": 17,
   "id": "faab9541",
   "metadata": {},
   "outputs": [
    {
     "data": {
      "text/html": [
       "<div>\n",
       "<style scoped>\n",
       "    .dataframe tbody tr th:only-of-type {\n",
       "        vertical-align: middle;\n",
       "    }\n",
       "\n",
       "    .dataframe tbody tr th {\n",
       "        vertical-align: top;\n",
       "    }\n",
       "\n",
       "    .dataframe thead th {\n",
       "        text-align: right;\n",
       "    }\n",
       "</style>\n",
       "<table border=\"1\" class=\"dataframe\">\n",
       "  <thead>\n",
       "    <tr style=\"text-align: right;\">\n",
       "      <th></th>\n",
       "      <th>('JJS', 'TO')</th>\n",
       "      <th>('FW', 'MD')</th>\n",
       "      <th>('EX', 'FW')</th>\n",
       "      <th>('DT', 'JJR')</th>\n",
       "      <th>('EX', 'VBG')</th>\n",
       "      <th>('UH', 'PDT')</th>\n",
       "      <th>('JJS', 'NN')</th>\n",
       "      <th>('PDT', 'RP')</th>\n",
       "      <th>('DT', 'RP')</th>\n",
       "      <th>('NNP', 'VBN')</th>\n",
       "      <th>...</th>\n",
       "      <th>('WRB', 'VBZ')</th>\n",
       "      <th>('UH', 'RB')</th>\n",
       "      <th>('PRP', 'RBR')</th>\n",
       "      <th>('NN', 'NNPS')</th>\n",
       "      <th>('VBG', 'PRP')</th>\n",
       "      <th>('NN', 'CD')</th>\n",
       "      <th>('VBN', 'CD')</th>\n",
       "      <th>('IN', 'WP')</th>\n",
       "      <th>('RBS', 'VBN')</th>\n",
       "      <th>('RBR', 'TO')</th>\n",
       "    </tr>\n",
       "  </thead>\n",
       "  <tbody>\n",
       "    <tr>\n",
       "      <th>6407</th>\n",
       "      <td>15</td>\n",
       "      <td>0</td>\n",
       "      <td>0</td>\n",
       "      <td>149</td>\n",
       "      <td>1</td>\n",
       "      <td>0</td>\n",
       "      <td>181</td>\n",
       "      <td>0</td>\n",
       "      <td>0</td>\n",
       "      <td>1</td>\n",
       "      <td>...</td>\n",
       "      <td>20</td>\n",
       "      <td>0</td>\n",
       "      <td>11</td>\n",
       "      <td>0</td>\n",
       "      <td>194</td>\n",
       "      <td>28</td>\n",
       "      <td>17</td>\n",
       "      <td>155</td>\n",
       "      <td>2</td>\n",
       "      <td>4</td>\n",
       "    </tr>\n",
       "    <tr>\n",
       "      <th>20719</th>\n",
       "      <td>5</td>\n",
       "      <td>1</td>\n",
       "      <td>0</td>\n",
       "      <td>42</td>\n",
       "      <td>1</td>\n",
       "      <td>0</td>\n",
       "      <td>52</td>\n",
       "      <td>0</td>\n",
       "      <td>3</td>\n",
       "      <td>1</td>\n",
       "      <td>...</td>\n",
       "      <td>10</td>\n",
       "      <td>0</td>\n",
       "      <td>2</td>\n",
       "      <td>1</td>\n",
       "      <td>101</td>\n",
       "      <td>34</td>\n",
       "      <td>10</td>\n",
       "      <td>21</td>\n",
       "      <td>1</td>\n",
       "      <td>2</td>\n",
       "    </tr>\n",
       "    <tr>\n",
       "      <th>12725</th>\n",
       "      <td>4</td>\n",
       "      <td>0</td>\n",
       "      <td>0</td>\n",
       "      <td>40</td>\n",
       "      <td>0</td>\n",
       "      <td>0</td>\n",
       "      <td>106</td>\n",
       "      <td>0</td>\n",
       "      <td>0</td>\n",
       "      <td>0</td>\n",
       "      <td>...</td>\n",
       "      <td>9</td>\n",
       "      <td>0</td>\n",
       "      <td>6</td>\n",
       "      <td>0</td>\n",
       "      <td>107</td>\n",
       "      <td>26</td>\n",
       "      <td>11</td>\n",
       "      <td>51</td>\n",
       "      <td>3</td>\n",
       "      <td>10</td>\n",
       "    </tr>\n",
       "    <tr>\n",
       "      <th>24104</th>\n",
       "      <td>0</td>\n",
       "      <td>0</td>\n",
       "      <td>0</td>\n",
       "      <td>6</td>\n",
       "      <td>0</td>\n",
       "      <td>0</td>\n",
       "      <td>4</td>\n",
       "      <td>0</td>\n",
       "      <td>0</td>\n",
       "      <td>0</td>\n",
       "      <td>...</td>\n",
       "      <td>1</td>\n",
       "      <td>0</td>\n",
       "      <td>1</td>\n",
       "      <td>0</td>\n",
       "      <td>13</td>\n",
       "      <td>19</td>\n",
       "      <td>3</td>\n",
       "      <td>9</td>\n",
       "      <td>0</td>\n",
       "      <td>0</td>\n",
       "    </tr>\n",
       "    <tr>\n",
       "      <th>30004</th>\n",
       "      <td>0</td>\n",
       "      <td>0</td>\n",
       "      <td>0</td>\n",
       "      <td>3</td>\n",
       "      <td>0</td>\n",
       "      <td>0</td>\n",
       "      <td>2</td>\n",
       "      <td>0</td>\n",
       "      <td>0</td>\n",
       "      <td>1</td>\n",
       "      <td>...</td>\n",
       "      <td>0</td>\n",
       "      <td>0</td>\n",
       "      <td>2</td>\n",
       "      <td>0</td>\n",
       "      <td>9</td>\n",
       "      <td>19</td>\n",
       "      <td>2</td>\n",
       "      <td>0</td>\n",
       "      <td>0</td>\n",
       "      <td>1</td>\n",
       "    </tr>\n",
       "  </tbody>\n",
       "</table>\n",
       "<p>5 rows × 1118 columns</p>\n",
       "</div>"
      ],
      "text/plain": [
       "       ('JJS', 'TO')  ('FW', 'MD')  ('EX', 'FW')  ('DT', 'JJR')  \\\n",
       "6407              15             0             0            149   \n",
       "20719              5             1             0             42   \n",
       "12725              4             0             0             40   \n",
       "24104              0             0             0              6   \n",
       "30004              0             0             0              3   \n",
       "\n",
       "       ('EX', 'VBG')  ('UH', 'PDT')  ('JJS', 'NN')  ('PDT', 'RP')  \\\n",
       "6407               1              0            181              0   \n",
       "20719              1              0             52              0   \n",
       "12725              0              0            106              0   \n",
       "24104              0              0              4              0   \n",
       "30004              0              0              2              0   \n",
       "\n",
       "       ('DT', 'RP')  ('NNP', 'VBN')  ...  ('WRB', 'VBZ')  ('UH', 'RB')  \\\n",
       "6407              0               1  ...              20             0   \n",
       "20719             3               1  ...              10             0   \n",
       "12725             0               0  ...               9             0   \n",
       "24104             0               0  ...               1             0   \n",
       "30004             0               1  ...               0             0   \n",
       "\n",
       "       ('PRP', 'RBR')  ('NN', 'NNPS')  ('VBG', 'PRP')  ('NN', 'CD')  \\\n",
       "6407               11               0             194            28   \n",
       "20719               2               1             101            34   \n",
       "12725               6               0             107            26   \n",
       "24104               1               0              13            19   \n",
       "30004               2               0               9            19   \n",
       "\n",
       "       ('VBN', 'CD')  ('IN', 'WP')  ('RBS', 'VBN')  ('RBR', 'TO')  \n",
       "6407              17           155               2              4  \n",
       "20719             10            21               1              2  \n",
       "12725             11            51               3             10  \n",
       "24104              3             9               0              0  \n",
       "30004              2             0               0              1  \n",
       "\n",
       "[5 rows x 1118 columns]"
      ]
     },
     "execution_count": 17,
     "metadata": {},
     "output_type": "execute_result"
    }
   ],
   "source": [
    "features_col.head()"
   ]
  },
  {
   "cell_type": "code",
   "execution_count": 18,
   "id": "03d4018c",
   "metadata": {},
   "outputs": [],
   "source": [
    "# remove sparse columns aka columns with 0 values more than 80%\n",
    "features_col = train_df.iloc[:, :-1]\n",
    "subjects = train_df.iloc[:, -1:]\n",
    "train_index = train_df.index\n",
    "sparse = {}\n",
    "for feature in features_col.columns:\n",
    "    sparse[feature] = ((features_col[feature] == 0).sum()/len(features_col))*100\n",
    "non_sparse = [x for x in sparse.keys() if sparse[x] <= 80]"
   ]
  },
  {
   "cell_type": "code",
   "execution_count": 19,
   "id": "2c170af1",
   "metadata": {},
   "outputs": [],
   "source": [
    "body_length = {}\n",
    "for entry in data_json:\n",
    "    body_length[entry['index']] = entry['body_length']"
   ]
  },
  {
   "cell_type": "code",
   "execution_count": 20,
   "id": "7271f05e",
   "metadata": {},
   "outputs": [
    {
     "data": {
      "text/plain": [
       "225019"
      ]
     },
     "execution_count": 20,
     "metadata": {},
     "output_type": "execute_result"
    }
   ],
   "source": [
    "body_length['6407']"
   ]
  },
  {
   "cell_type": "code",
   "execution_count": 21,
   "id": "858a7ceb",
   "metadata": {},
   "outputs": [
    {
     "data": {
      "text/plain": [
       "Index(['6407', '20719', '12725', '24104', '30004', '29060', '2789', '22540',\n",
       "       '2344', '20152'],\n",
       "      dtype='object')"
      ]
     },
     "execution_count": 21,
     "metadata": {},
     "output_type": "execute_result"
    }
   ],
   "source": [
    "train_index[:10]"
   ]
  },
  {
   "cell_type": "code",
   "execution_count": 22,
   "id": "5d488d9d",
   "metadata": {},
   "outputs": [],
   "source": [
    "# rescale the data by dividing it with row sum\n",
    "\n",
    "train_df = train_df[non_sparse]\n",
    "for number in train_index:\n",
    "    train_df.loc[number,:] = train_df.loc[number,:].div(int(body_length[number]))\n",
    "train_df['subjects'] = subjects"
   ]
  },
  {
   "cell_type": "code",
   "execution_count": 23,
   "id": "27e39de8",
   "metadata": {},
   "outputs": [
    {
     "data": {
      "text/html": [
       "<div>\n",
       "<style scoped>\n",
       "    .dataframe tbody tr th:only-of-type {\n",
       "        vertical-align: middle;\n",
       "    }\n",
       "\n",
       "    .dataframe tbody tr th {\n",
       "        vertical-align: top;\n",
       "    }\n",
       "\n",
       "    .dataframe thead th {\n",
       "        text-align: right;\n",
       "    }\n",
       "</style>\n",
       "<table border=\"1\" class=\"dataframe\">\n",
       "  <thead>\n",
       "    <tr style=\"text-align: right;\">\n",
       "      <th></th>\n",
       "      <th>('JJS', 'TO')</th>\n",
       "      <th>('DT', 'JJR')</th>\n",
       "      <th>('EX', 'VBG')</th>\n",
       "      <th>('JJS', 'NN')</th>\n",
       "      <th>('DT', 'RP')</th>\n",
       "      <th>('NNP', 'VBN')</th>\n",
       "      <th>('IN', 'WDT')</th>\n",
       "      <th>('CC', 'MD')</th>\n",
       "      <th>('VBZ', 'NNP')</th>\n",
       "      <th>('PRP', 'VBP')</th>\n",
       "      <th>...</th>\n",
       "      <th>('MD', 'VB')</th>\n",
       "      <th>('PRP$', 'JJR')</th>\n",
       "      <th>('WRB', 'VBZ')</th>\n",
       "      <th>('PRP', 'RBR')</th>\n",
       "      <th>('VBG', 'PRP')</th>\n",
       "      <th>('NN', 'CD')</th>\n",
       "      <th>('VBN', 'CD')</th>\n",
       "      <th>('IN', 'WP')</th>\n",
       "      <th>('RBR', 'TO')</th>\n",
       "      <th>subjects</th>\n",
       "    </tr>\n",
       "  </thead>\n",
       "  <tbody>\n",
       "    <tr>\n",
       "      <th>6407</th>\n",
       "      <td>0.000067</td>\n",
       "      <td>0.000662</td>\n",
       "      <td>0.000004</td>\n",
       "      <td>0.000804</td>\n",
       "      <td>0.00000</td>\n",
       "      <td>0.000004</td>\n",
       "      <td>0.001933</td>\n",
       "      <td>0.000493</td>\n",
       "      <td>0.000000</td>\n",
       "      <td>0.004377</td>\n",
       "      <td>...</td>\n",
       "      <td>0.009270</td>\n",
       "      <td>0.000053</td>\n",
       "      <td>0.000089</td>\n",
       "      <td>0.000049</td>\n",
       "      <td>0.000862</td>\n",
       "      <td>0.000124</td>\n",
       "      <td>0.000076</td>\n",
       "      <td>0.000689</td>\n",
       "      <td>0.000018</td>\n",
       "      <td>3</td>\n",
       "    </tr>\n",
       "    <tr>\n",
       "      <th>20719</th>\n",
       "      <td>0.000051</td>\n",
       "      <td>0.000426</td>\n",
       "      <td>0.000010</td>\n",
       "      <td>0.000528</td>\n",
       "      <td>0.00003</td>\n",
       "      <td>0.000010</td>\n",
       "      <td>0.000924</td>\n",
       "      <td>0.000274</td>\n",
       "      <td>0.000020</td>\n",
       "      <td>0.005452</td>\n",
       "      <td>...</td>\n",
       "      <td>0.011331</td>\n",
       "      <td>0.000020</td>\n",
       "      <td>0.000102</td>\n",
       "      <td>0.000020</td>\n",
       "      <td>0.001026</td>\n",
       "      <td>0.000345</td>\n",
       "      <td>0.000102</td>\n",
       "      <td>0.000213</td>\n",
       "      <td>0.000020</td>\n",
       "      <td>4</td>\n",
       "    </tr>\n",
       "    <tr>\n",
       "      <th>12725</th>\n",
       "      <td>0.000034</td>\n",
       "      <td>0.000342</td>\n",
       "      <td>0.000000</td>\n",
       "      <td>0.000907</td>\n",
       "      <td>0.00000</td>\n",
       "      <td>0.000000</td>\n",
       "      <td>0.001481</td>\n",
       "      <td>0.000317</td>\n",
       "      <td>0.000009</td>\n",
       "      <td>0.002157</td>\n",
       "      <td>...</td>\n",
       "      <td>0.008664</td>\n",
       "      <td>0.000103</td>\n",
       "      <td>0.000077</td>\n",
       "      <td>0.000051</td>\n",
       "      <td>0.000916</td>\n",
       "      <td>0.000223</td>\n",
       "      <td>0.000094</td>\n",
       "      <td>0.000437</td>\n",
       "      <td>0.000086</td>\n",
       "      <td>3</td>\n",
       "    </tr>\n",
       "    <tr>\n",
       "      <th>24104</th>\n",
       "      <td>0.000000</td>\n",
       "      <td>0.000296</td>\n",
       "      <td>0.000000</td>\n",
       "      <td>0.000197</td>\n",
       "      <td>0.00000</td>\n",
       "      <td>0.000000</td>\n",
       "      <td>0.000493</td>\n",
       "      <td>0.000345</td>\n",
       "      <td>0.000099</td>\n",
       "      <td>0.007845</td>\n",
       "      <td>...</td>\n",
       "      <td>0.011101</td>\n",
       "      <td>0.000000</td>\n",
       "      <td>0.000049</td>\n",
       "      <td>0.000049</td>\n",
       "      <td>0.000641</td>\n",
       "      <td>0.000937</td>\n",
       "      <td>0.000148</td>\n",
       "      <td>0.000444</td>\n",
       "      <td>0.000000</td>\n",
       "      <td>5</td>\n",
       "    </tr>\n",
       "    <tr>\n",
       "      <th>30004</th>\n",
       "      <td>0.000000</td>\n",
       "      <td>0.000387</td>\n",
       "      <td>0.000000</td>\n",
       "      <td>0.000258</td>\n",
       "      <td>0.00000</td>\n",
       "      <td>0.000129</td>\n",
       "      <td>0.001031</td>\n",
       "      <td>0.000516</td>\n",
       "      <td>0.000129</td>\n",
       "      <td>0.006961</td>\n",
       "      <td>...</td>\n",
       "      <td>0.011343</td>\n",
       "      <td>0.000129</td>\n",
       "      <td>0.000000</td>\n",
       "      <td>0.000258</td>\n",
       "      <td>0.001160</td>\n",
       "      <td>0.002449</td>\n",
       "      <td>0.000258</td>\n",
       "      <td>0.000000</td>\n",
       "      <td>0.000129</td>\n",
       "      <td>5</td>\n",
       "    </tr>\n",
       "  </tbody>\n",
       "</table>\n",
       "<p>5 rows × 698 columns</p>\n",
       "</div>"
      ],
      "text/plain": [
       "       ('JJS', 'TO')  ('DT', 'JJR')  ('EX', 'VBG')  ('JJS', 'NN')  \\\n",
       "6407        0.000067       0.000662       0.000004       0.000804   \n",
       "20719       0.000051       0.000426       0.000010       0.000528   \n",
       "12725       0.000034       0.000342       0.000000       0.000907   \n",
       "24104       0.000000       0.000296       0.000000       0.000197   \n",
       "30004       0.000000       0.000387       0.000000       0.000258   \n",
       "\n",
       "       ('DT', 'RP')  ('NNP', 'VBN')  ('IN', 'WDT')  ('CC', 'MD')  \\\n",
       "6407        0.00000        0.000004       0.001933      0.000493   \n",
       "20719       0.00003        0.000010       0.000924      0.000274   \n",
       "12725       0.00000        0.000000       0.001481      0.000317   \n",
       "24104       0.00000        0.000000       0.000493      0.000345   \n",
       "30004       0.00000        0.000129       0.001031      0.000516   \n",
       "\n",
       "       ('VBZ', 'NNP')  ('PRP', 'VBP')  ...  ('MD', 'VB')  ('PRP$', 'JJR')  \\\n",
       "6407         0.000000        0.004377  ...      0.009270         0.000053   \n",
       "20719        0.000020        0.005452  ...      0.011331         0.000020   \n",
       "12725        0.000009        0.002157  ...      0.008664         0.000103   \n",
       "24104        0.000099        0.007845  ...      0.011101         0.000000   \n",
       "30004        0.000129        0.006961  ...      0.011343         0.000129   \n",
       "\n",
       "       ('WRB', 'VBZ')  ('PRP', 'RBR')  ('VBG', 'PRP')  ('NN', 'CD')  \\\n",
       "6407         0.000089        0.000049        0.000862      0.000124   \n",
       "20719        0.000102        0.000020        0.001026      0.000345   \n",
       "12725        0.000077        0.000051        0.000916      0.000223   \n",
       "24104        0.000049        0.000049        0.000641      0.000937   \n",
       "30004        0.000000        0.000258        0.001160      0.002449   \n",
       "\n",
       "       ('VBN', 'CD')  ('IN', 'WP')  ('RBR', 'TO')  subjects  \n",
       "6407        0.000076      0.000689       0.000018         3  \n",
       "20719       0.000102      0.000213       0.000020         4  \n",
       "12725       0.000094      0.000437       0.000086         3  \n",
       "24104       0.000148      0.000444       0.000000         5  \n",
       "30004       0.000258      0.000000       0.000129         5  \n",
       "\n",
       "[5 rows x 698 columns]"
      ]
     },
     "execution_count": 23,
     "metadata": {},
     "output_type": "execute_result"
    }
   ],
   "source": [
    "train_df.head()"
   ]
  },
  {
   "cell_type": "code",
   "execution_count": 24,
   "id": "0ec8d738",
   "metadata": {},
   "outputs": [
    {
     "data": {
      "text/html": [
       "<style>#sk-container-id-1 {color: black;background-color: white;}#sk-container-id-1 pre{padding: 0;}#sk-container-id-1 div.sk-toggleable {background-color: white;}#sk-container-id-1 label.sk-toggleable__label {cursor: pointer;display: block;width: 100%;margin-bottom: 0;padding: 0.3em;box-sizing: border-box;text-align: center;}#sk-container-id-1 label.sk-toggleable__label-arrow:before {content: \"▸\";float: left;margin-right: 0.25em;color: #696969;}#sk-container-id-1 label.sk-toggleable__label-arrow:hover:before {color: black;}#sk-container-id-1 div.sk-estimator:hover label.sk-toggleable__label-arrow:before {color: black;}#sk-container-id-1 div.sk-toggleable__content {max-height: 0;max-width: 0;overflow: hidden;text-align: left;background-color: #f0f8ff;}#sk-container-id-1 div.sk-toggleable__content pre {margin: 0.2em;color: black;border-radius: 0.25em;background-color: #f0f8ff;}#sk-container-id-1 input.sk-toggleable__control:checked~div.sk-toggleable__content {max-height: 200px;max-width: 100%;overflow: auto;}#sk-container-id-1 input.sk-toggleable__control:checked~label.sk-toggleable__label-arrow:before {content: \"▾\";}#sk-container-id-1 div.sk-estimator input.sk-toggleable__control:checked~label.sk-toggleable__label {background-color: #d4ebff;}#sk-container-id-1 div.sk-label input.sk-toggleable__control:checked~label.sk-toggleable__label {background-color: #d4ebff;}#sk-container-id-1 input.sk-hidden--visually {border: 0;clip: rect(1px 1px 1px 1px);clip: rect(1px, 1px, 1px, 1px);height: 1px;margin: -1px;overflow: hidden;padding: 0;position: absolute;width: 1px;}#sk-container-id-1 div.sk-estimator {font-family: monospace;background-color: #f0f8ff;border: 1px dotted black;border-radius: 0.25em;box-sizing: border-box;margin-bottom: 0.5em;}#sk-container-id-1 div.sk-estimator:hover {background-color: #d4ebff;}#sk-container-id-1 div.sk-parallel-item::after {content: \"\";width: 100%;border-bottom: 1px solid gray;flex-grow: 1;}#sk-container-id-1 div.sk-label:hover label.sk-toggleable__label {background-color: #d4ebff;}#sk-container-id-1 div.sk-serial::before {content: \"\";position: absolute;border-left: 1px solid gray;box-sizing: border-box;top: 0;bottom: 0;left: 50%;z-index: 0;}#sk-container-id-1 div.sk-serial {display: flex;flex-direction: column;align-items: center;background-color: white;padding-right: 0.2em;padding-left: 0.2em;position: relative;}#sk-container-id-1 div.sk-item {position: relative;z-index: 1;}#sk-container-id-1 div.sk-parallel {display: flex;align-items: stretch;justify-content: center;background-color: white;position: relative;}#sk-container-id-1 div.sk-item::before, #sk-container-id-1 div.sk-parallel-item::before {content: \"\";position: absolute;border-left: 1px solid gray;box-sizing: border-box;top: 0;bottom: 0;left: 50%;z-index: -1;}#sk-container-id-1 div.sk-parallel-item {display: flex;flex-direction: column;z-index: 1;position: relative;background-color: white;}#sk-container-id-1 div.sk-parallel-item:first-child::after {align-self: flex-end;width: 50%;}#sk-container-id-1 div.sk-parallel-item:last-child::after {align-self: flex-start;width: 50%;}#sk-container-id-1 div.sk-parallel-item:only-child::after {width: 0;}#sk-container-id-1 div.sk-dashed-wrapped {border: 1px dashed gray;margin: 0 0.4em 0.5em 0.4em;box-sizing: border-box;padding-bottom: 0.4em;background-color: white;}#sk-container-id-1 div.sk-label label {font-family: monospace;font-weight: bold;display: inline-block;line-height: 1.2em;}#sk-container-id-1 div.sk-label-container {text-align: center;}#sk-container-id-1 div.sk-container {/* jupyter's `normalize.less` sets `[hidden] { display: none; }` but bootstrap.min.css set `[hidden] { display: none !important; }` so we also need the `!important` here to be able to override the default hidden behavior on the sphinx rendered scikit-learn.org. See: https://github.com/scikit-learn/scikit-learn/issues/21755 */display: inline-block !important;position: relative;}#sk-container-id-1 div.sk-text-repr-fallback {display: none;}</style><div id=\"sk-container-id-1\" class=\"sk-top-container\"><div class=\"sk-text-repr-fallback\"><pre>SVC(kernel=&#x27;linear&#x27;)</pre><b>In a Jupyter environment, please rerun this cell to show the HTML representation or trust the notebook. <br />On GitHub, the HTML representation is unable to render, please try loading this page with nbviewer.org.</b></div><div class=\"sk-container\" hidden><div class=\"sk-item\"><div class=\"sk-estimator sk-toggleable\"><input class=\"sk-toggleable__control sk-hidden--visually\" id=\"sk-estimator-id-1\" type=\"checkbox\" checked><label for=\"sk-estimator-id-1\" class=\"sk-toggleable__label sk-toggleable__label-arrow\">SVC</label><div class=\"sk-toggleable__content\"><pre>SVC(kernel=&#x27;linear&#x27;)</pre></div></div></div></div></div>"
      ],
      "text/plain": [
       "SVC(kernel='linear')"
      ]
     },
     "execution_count": 24,
     "metadata": {},
     "output_type": "execute_result"
    }
   ],
   "source": [
    "from sklearn import svm\n",
    "from matplotlib import pyplot as plt\n",
    "\n",
    "X = train_df.iloc[:, :-1].to_numpy()\n",
    "y = train_df.iloc[:, -1:].to_numpy().flatten()\n",
    "\n",
    "clf = svm.SVC(kernel='linear')\n",
    "clf.fit(X, y)"
   ]
  },
  {
   "cell_type": "code",
   "execution_count": 25,
   "id": "42e9fc84",
   "metadata": {},
   "outputs": [
    {
     "data": {
      "text/html": [
       "<style>#sk-container-id-2 {color: black;background-color: white;}#sk-container-id-2 pre{padding: 0;}#sk-container-id-2 div.sk-toggleable {background-color: white;}#sk-container-id-2 label.sk-toggleable__label {cursor: pointer;display: block;width: 100%;margin-bottom: 0;padding: 0.3em;box-sizing: border-box;text-align: center;}#sk-container-id-2 label.sk-toggleable__label-arrow:before {content: \"▸\";float: left;margin-right: 0.25em;color: #696969;}#sk-container-id-2 label.sk-toggleable__label-arrow:hover:before {color: black;}#sk-container-id-2 div.sk-estimator:hover label.sk-toggleable__label-arrow:before {color: black;}#sk-container-id-2 div.sk-toggleable__content {max-height: 0;max-width: 0;overflow: hidden;text-align: left;background-color: #f0f8ff;}#sk-container-id-2 div.sk-toggleable__content pre {margin: 0.2em;color: black;border-radius: 0.25em;background-color: #f0f8ff;}#sk-container-id-2 input.sk-toggleable__control:checked~div.sk-toggleable__content {max-height: 200px;max-width: 100%;overflow: auto;}#sk-container-id-2 input.sk-toggleable__control:checked~label.sk-toggleable__label-arrow:before {content: \"▾\";}#sk-container-id-2 div.sk-estimator input.sk-toggleable__control:checked~label.sk-toggleable__label {background-color: #d4ebff;}#sk-container-id-2 div.sk-label input.sk-toggleable__control:checked~label.sk-toggleable__label {background-color: #d4ebff;}#sk-container-id-2 input.sk-hidden--visually {border: 0;clip: rect(1px 1px 1px 1px);clip: rect(1px, 1px, 1px, 1px);height: 1px;margin: -1px;overflow: hidden;padding: 0;position: absolute;width: 1px;}#sk-container-id-2 div.sk-estimator {font-family: monospace;background-color: #f0f8ff;border: 1px dotted black;border-radius: 0.25em;box-sizing: border-box;margin-bottom: 0.5em;}#sk-container-id-2 div.sk-estimator:hover {background-color: #d4ebff;}#sk-container-id-2 div.sk-parallel-item::after {content: \"\";width: 100%;border-bottom: 1px solid gray;flex-grow: 1;}#sk-container-id-2 div.sk-label:hover label.sk-toggleable__label {background-color: #d4ebff;}#sk-container-id-2 div.sk-serial::before {content: \"\";position: absolute;border-left: 1px solid gray;box-sizing: border-box;top: 0;bottom: 0;left: 50%;z-index: 0;}#sk-container-id-2 div.sk-serial {display: flex;flex-direction: column;align-items: center;background-color: white;padding-right: 0.2em;padding-left: 0.2em;position: relative;}#sk-container-id-2 div.sk-item {position: relative;z-index: 1;}#sk-container-id-2 div.sk-parallel {display: flex;align-items: stretch;justify-content: center;background-color: white;position: relative;}#sk-container-id-2 div.sk-item::before, #sk-container-id-2 div.sk-parallel-item::before {content: \"\";position: absolute;border-left: 1px solid gray;box-sizing: border-box;top: 0;bottom: 0;left: 50%;z-index: -1;}#sk-container-id-2 div.sk-parallel-item {display: flex;flex-direction: column;z-index: 1;position: relative;background-color: white;}#sk-container-id-2 div.sk-parallel-item:first-child::after {align-self: flex-end;width: 50%;}#sk-container-id-2 div.sk-parallel-item:last-child::after {align-self: flex-start;width: 50%;}#sk-container-id-2 div.sk-parallel-item:only-child::after {width: 0;}#sk-container-id-2 div.sk-dashed-wrapped {border: 1px dashed gray;margin: 0 0.4em 0.5em 0.4em;box-sizing: border-box;padding-bottom: 0.4em;background-color: white;}#sk-container-id-2 div.sk-label label {font-family: monospace;font-weight: bold;display: inline-block;line-height: 1.2em;}#sk-container-id-2 div.sk-label-container {text-align: center;}#sk-container-id-2 div.sk-container {/* jupyter's `normalize.less` sets `[hidden] { display: none; }` but bootstrap.min.css set `[hidden] { display: none !important; }` so we also need the `!important` here to be able to override the default hidden behavior on the sphinx rendered scikit-learn.org. See: https://github.com/scikit-learn/scikit-learn/issues/21755 */display: inline-block !important;position: relative;}#sk-container-id-2 div.sk-text-repr-fallback {display: none;}</style><div id=\"sk-container-id-2\" class=\"sk-top-container\"><div class=\"sk-text-repr-fallback\"><pre>LinearSVC(loss=&#x27;hinge&#x27;, max_iter=100000)</pre><b>In a Jupyter environment, please rerun this cell to show the HTML representation or trust the notebook. <br />On GitHub, the HTML representation is unable to render, please try loading this page with nbviewer.org.</b></div><div class=\"sk-container\" hidden><div class=\"sk-item\"><div class=\"sk-estimator sk-toggleable\"><input class=\"sk-toggleable__control sk-hidden--visually\" id=\"sk-estimator-id-2\" type=\"checkbox\" checked><label for=\"sk-estimator-id-2\" class=\"sk-toggleable__label sk-toggleable__label-arrow\">LinearSVC</label><div class=\"sk-toggleable__content\"><pre>LinearSVC(loss=&#x27;hinge&#x27;, max_iter=100000)</pre></div></div></div></div></div>"
      ],
      "text/plain": [
       "LinearSVC(loss='hinge', max_iter=100000)"
      ]
     },
     "execution_count": 25,
     "metadata": {},
     "output_type": "execute_result"
    }
   ],
   "source": [
    "clf2 = svm.LinearSVC(loss='hinge', max_iter=100000)\n",
    "clf2.fit(X, y)"
   ]
  },
  {
   "cell_type": "code",
   "execution_count": 26,
   "id": "667ed11d",
   "metadata": {},
   "outputs": [
    {
     "data": {
      "text/html": [
       "<style>#sk-container-id-3 {color: black;background-color: white;}#sk-container-id-3 pre{padding: 0;}#sk-container-id-3 div.sk-toggleable {background-color: white;}#sk-container-id-3 label.sk-toggleable__label {cursor: pointer;display: block;width: 100%;margin-bottom: 0;padding: 0.3em;box-sizing: border-box;text-align: center;}#sk-container-id-3 label.sk-toggleable__label-arrow:before {content: \"▸\";float: left;margin-right: 0.25em;color: #696969;}#sk-container-id-3 label.sk-toggleable__label-arrow:hover:before {color: black;}#sk-container-id-3 div.sk-estimator:hover label.sk-toggleable__label-arrow:before {color: black;}#sk-container-id-3 div.sk-toggleable__content {max-height: 0;max-width: 0;overflow: hidden;text-align: left;background-color: #f0f8ff;}#sk-container-id-3 div.sk-toggleable__content pre {margin: 0.2em;color: black;border-radius: 0.25em;background-color: #f0f8ff;}#sk-container-id-3 input.sk-toggleable__control:checked~div.sk-toggleable__content {max-height: 200px;max-width: 100%;overflow: auto;}#sk-container-id-3 input.sk-toggleable__control:checked~label.sk-toggleable__label-arrow:before {content: \"▾\";}#sk-container-id-3 div.sk-estimator input.sk-toggleable__control:checked~label.sk-toggleable__label {background-color: #d4ebff;}#sk-container-id-3 div.sk-label input.sk-toggleable__control:checked~label.sk-toggleable__label {background-color: #d4ebff;}#sk-container-id-3 input.sk-hidden--visually {border: 0;clip: rect(1px 1px 1px 1px);clip: rect(1px, 1px, 1px, 1px);height: 1px;margin: -1px;overflow: hidden;padding: 0;position: absolute;width: 1px;}#sk-container-id-3 div.sk-estimator {font-family: monospace;background-color: #f0f8ff;border: 1px dotted black;border-radius: 0.25em;box-sizing: border-box;margin-bottom: 0.5em;}#sk-container-id-3 div.sk-estimator:hover {background-color: #d4ebff;}#sk-container-id-3 div.sk-parallel-item::after {content: \"\";width: 100%;border-bottom: 1px solid gray;flex-grow: 1;}#sk-container-id-3 div.sk-label:hover label.sk-toggleable__label {background-color: #d4ebff;}#sk-container-id-3 div.sk-serial::before {content: \"\";position: absolute;border-left: 1px solid gray;box-sizing: border-box;top: 0;bottom: 0;left: 50%;z-index: 0;}#sk-container-id-3 div.sk-serial {display: flex;flex-direction: column;align-items: center;background-color: white;padding-right: 0.2em;padding-left: 0.2em;position: relative;}#sk-container-id-3 div.sk-item {position: relative;z-index: 1;}#sk-container-id-3 div.sk-parallel {display: flex;align-items: stretch;justify-content: center;background-color: white;position: relative;}#sk-container-id-3 div.sk-item::before, #sk-container-id-3 div.sk-parallel-item::before {content: \"\";position: absolute;border-left: 1px solid gray;box-sizing: border-box;top: 0;bottom: 0;left: 50%;z-index: -1;}#sk-container-id-3 div.sk-parallel-item {display: flex;flex-direction: column;z-index: 1;position: relative;background-color: white;}#sk-container-id-3 div.sk-parallel-item:first-child::after {align-self: flex-end;width: 50%;}#sk-container-id-3 div.sk-parallel-item:last-child::after {align-self: flex-start;width: 50%;}#sk-container-id-3 div.sk-parallel-item:only-child::after {width: 0;}#sk-container-id-3 div.sk-dashed-wrapped {border: 1px dashed gray;margin: 0 0.4em 0.5em 0.4em;box-sizing: border-box;padding-bottom: 0.4em;background-color: white;}#sk-container-id-3 div.sk-label label {font-family: monospace;font-weight: bold;display: inline-block;line-height: 1.2em;}#sk-container-id-3 div.sk-label-container {text-align: center;}#sk-container-id-3 div.sk-container {/* jupyter's `normalize.less` sets `[hidden] { display: none; }` but bootstrap.min.css set `[hidden] { display: none !important; }` so we also need the `!important` here to be able to override the default hidden behavior on the sphinx rendered scikit-learn.org. See: https://github.com/scikit-learn/scikit-learn/issues/21755 */display: inline-block !important;position: relative;}#sk-container-id-3 div.sk-text-repr-fallback {display: none;}</style><div id=\"sk-container-id-3\" class=\"sk-top-container\"><div class=\"sk-text-repr-fallback\"><pre>SVC(class_weight=&#x27;balanced&#x27;, kernel=&#x27;linear&#x27;)</pre><b>In a Jupyter environment, please rerun this cell to show the HTML representation or trust the notebook. <br />On GitHub, the HTML representation is unable to render, please try loading this page with nbviewer.org.</b></div><div class=\"sk-container\" hidden><div class=\"sk-item\"><div class=\"sk-estimator sk-toggleable\"><input class=\"sk-toggleable__control sk-hidden--visually\" id=\"sk-estimator-id-3\" type=\"checkbox\" checked><label for=\"sk-estimator-id-3\" class=\"sk-toggleable__label sk-toggleable__label-arrow\">SVC</label><div class=\"sk-toggleable__content\"><pre>SVC(class_weight=&#x27;balanced&#x27;, kernel=&#x27;linear&#x27;)</pre></div></div></div></div></div>"
      ],
      "text/plain": [
       "SVC(class_weight='balanced', kernel='linear')"
      ]
     },
     "execution_count": 26,
     "metadata": {},
     "output_type": "execute_result"
    }
   ],
   "source": [
    "clf3 = svm.SVC(kernel='linear', class_weight='balanced')\n",
    "clf3.fit(X, y)"
   ]
  },
  {
   "cell_type": "code",
   "execution_count": 27,
   "id": "24e9ff36",
   "metadata": {},
   "outputs": [
    {
     "data": {
      "text/html": [
       "<style>#sk-container-id-4 {color: black;background-color: white;}#sk-container-id-4 pre{padding: 0;}#sk-container-id-4 div.sk-toggleable {background-color: white;}#sk-container-id-4 label.sk-toggleable__label {cursor: pointer;display: block;width: 100%;margin-bottom: 0;padding: 0.3em;box-sizing: border-box;text-align: center;}#sk-container-id-4 label.sk-toggleable__label-arrow:before {content: \"▸\";float: left;margin-right: 0.25em;color: #696969;}#sk-container-id-4 label.sk-toggleable__label-arrow:hover:before {color: black;}#sk-container-id-4 div.sk-estimator:hover label.sk-toggleable__label-arrow:before {color: black;}#sk-container-id-4 div.sk-toggleable__content {max-height: 0;max-width: 0;overflow: hidden;text-align: left;background-color: #f0f8ff;}#sk-container-id-4 div.sk-toggleable__content pre {margin: 0.2em;color: black;border-radius: 0.25em;background-color: #f0f8ff;}#sk-container-id-4 input.sk-toggleable__control:checked~div.sk-toggleable__content {max-height: 200px;max-width: 100%;overflow: auto;}#sk-container-id-4 input.sk-toggleable__control:checked~label.sk-toggleable__label-arrow:before {content: \"▾\";}#sk-container-id-4 div.sk-estimator input.sk-toggleable__control:checked~label.sk-toggleable__label {background-color: #d4ebff;}#sk-container-id-4 div.sk-label input.sk-toggleable__control:checked~label.sk-toggleable__label {background-color: #d4ebff;}#sk-container-id-4 input.sk-hidden--visually {border: 0;clip: rect(1px 1px 1px 1px);clip: rect(1px, 1px, 1px, 1px);height: 1px;margin: -1px;overflow: hidden;padding: 0;position: absolute;width: 1px;}#sk-container-id-4 div.sk-estimator {font-family: monospace;background-color: #f0f8ff;border: 1px dotted black;border-radius: 0.25em;box-sizing: border-box;margin-bottom: 0.5em;}#sk-container-id-4 div.sk-estimator:hover {background-color: #d4ebff;}#sk-container-id-4 div.sk-parallel-item::after {content: \"\";width: 100%;border-bottom: 1px solid gray;flex-grow: 1;}#sk-container-id-4 div.sk-label:hover label.sk-toggleable__label {background-color: #d4ebff;}#sk-container-id-4 div.sk-serial::before {content: \"\";position: absolute;border-left: 1px solid gray;box-sizing: border-box;top: 0;bottom: 0;left: 50%;z-index: 0;}#sk-container-id-4 div.sk-serial {display: flex;flex-direction: column;align-items: center;background-color: white;padding-right: 0.2em;padding-left: 0.2em;position: relative;}#sk-container-id-4 div.sk-item {position: relative;z-index: 1;}#sk-container-id-4 div.sk-parallel {display: flex;align-items: stretch;justify-content: center;background-color: white;position: relative;}#sk-container-id-4 div.sk-item::before, #sk-container-id-4 div.sk-parallel-item::before {content: \"\";position: absolute;border-left: 1px solid gray;box-sizing: border-box;top: 0;bottom: 0;left: 50%;z-index: -1;}#sk-container-id-4 div.sk-parallel-item {display: flex;flex-direction: column;z-index: 1;position: relative;background-color: white;}#sk-container-id-4 div.sk-parallel-item:first-child::after {align-self: flex-end;width: 50%;}#sk-container-id-4 div.sk-parallel-item:last-child::after {align-self: flex-start;width: 50%;}#sk-container-id-4 div.sk-parallel-item:only-child::after {width: 0;}#sk-container-id-4 div.sk-dashed-wrapped {border: 1px dashed gray;margin: 0 0.4em 0.5em 0.4em;box-sizing: border-box;padding-bottom: 0.4em;background-color: white;}#sk-container-id-4 div.sk-label label {font-family: monospace;font-weight: bold;display: inline-block;line-height: 1.2em;}#sk-container-id-4 div.sk-label-container {text-align: center;}#sk-container-id-4 div.sk-container {/* jupyter's `normalize.less` sets `[hidden] { display: none; }` but bootstrap.min.css set `[hidden] { display: none !important; }` so we also need the `!important` here to be able to override the default hidden behavior on the sphinx rendered scikit-learn.org. See: https://github.com/scikit-learn/scikit-learn/issues/21755 */display: inline-block !important;position: relative;}#sk-container-id-4 div.sk-text-repr-fallback {display: none;}</style><div id=\"sk-container-id-4\" class=\"sk-top-container\"><div class=\"sk-text-repr-fallback\"><pre>LinearSVC(class_weight=&#x27;balanced&#x27;, loss=&#x27;hinge&#x27;, max_iter=100000)</pre><b>In a Jupyter environment, please rerun this cell to show the HTML representation or trust the notebook. <br />On GitHub, the HTML representation is unable to render, please try loading this page with nbviewer.org.</b></div><div class=\"sk-container\" hidden><div class=\"sk-item\"><div class=\"sk-estimator sk-toggleable\"><input class=\"sk-toggleable__control sk-hidden--visually\" id=\"sk-estimator-id-4\" type=\"checkbox\" checked><label for=\"sk-estimator-id-4\" class=\"sk-toggleable__label sk-toggleable__label-arrow\">LinearSVC</label><div class=\"sk-toggleable__content\"><pre>LinearSVC(class_weight=&#x27;balanced&#x27;, loss=&#x27;hinge&#x27;, max_iter=100000)</pre></div></div></div></div></div>"
      ],
      "text/plain": [
       "LinearSVC(class_weight='balanced', loss='hinge', max_iter=100000)"
      ]
     },
     "execution_count": 27,
     "metadata": {},
     "output_type": "execute_result"
    }
   ],
   "source": [
    "clf4 = svm.LinearSVC(loss='hinge', class_weight='balanced', max_iter=100000)\n",
    "clf4.fit(X, y)"
   ]
  },
  {
   "cell_type": "code",
   "execution_count": 28,
   "id": "c14116bc",
   "metadata": {
    "scrolled": true
   },
   "outputs": [
    {
     "data": {
      "image/png": "[encoded data removed]",
      "text/plain": [
       "<Figure size 432x288 with 1 Axes>"
      ]
     },
     "metadata": {
      "needs_background": "light"
     },
     "output_type": "display_data"
    }
   ],
   "source": [
    "# check feature importance\n",
    "\n",
    "def f_importances(coef, names):\n",
    "    imp = coef\n",
    "    imp, names = zip(*sorted(zip(imp, names)))\n",
    "    plt.barh(range(10), imp[-10:], align='center')\n",
    "    plt.yticks(range(10), names[-10:])\n",
    "    plt.show()\n",
    "    \n",
    "f_importances(clf.coef_[0], non_sparse)"
   ]
  },
  {
   "cell_type": "code",
   "execution_count": 29,
   "id": "539e8ea4",
   "metadata": {},
   "outputs": [
    {
     "data": {
      "image/png": "[encoded data removed]",
      "text/plain": [
       "<Figure size 432x288 with 1 Axes>"
      ]
     },
     "metadata": {
      "needs_background": "light"
     },
     "output_type": "display_data"
    }
   ],
   "source": [
    "# check feature importance\n",
    "\n",
    "def f_importances(coef, names):\n",
    "    imp = coef\n",
    "    imp, names = zip(*sorted(zip(imp, names)))\n",
    "    plt.barh(range(10), imp[:10], align='center')\n",
    "    plt.yticks(range(10), names[:10])\n",
    "    plt.show()\n",
    "    \n",
    "f_importances(clf.coef_[0], non_sparse)"
   ]
  },
  {
   "cell_type": "code",
   "execution_count": 30,
   "id": "3d9683c4",
   "metadata": {},
   "outputs": [
    {
     "data": {
      "text/plain": [
       "(6, 697)"
      ]
     },
     "execution_count": 30,
     "metadata": {},
     "output_type": "execute_result"
    }
   ],
   "source": [
    "clf2.coef_.shape"
   ]
  },
  {
   "cell_type": "code",
   "execution_count": 31,
   "id": "daf9a15c",
   "metadata": {},
   "outputs": [],
   "source": [
    "# preprocess test data\n",
    "test_subjects = test_df['subjects']\n",
    "test_index = test_df.index\n",
    "test_df = test_df[non_sparse]\n",
    "#test_df = test_df.div(test_df.sum(axis=1), axis=0)\n",
    "for number in test_index:\n",
    "    test_df.loc[number,:] = test_df.loc[number,:].div(int(body_length[number]))\n",
    "test_df['subjects'] = test_subjects"
   ]
  },
  {
   "cell_type": "code",
   "execution_count": 32,
   "id": "28ec25b7",
   "metadata": {},
   "outputs": [
    {
     "data": {
      "text/html": [
       "<div>\n",
       "<style scoped>\n",
       "    .dataframe tbody tr th:only-of-type {\n",
       "        vertical-align: middle;\n",
       "    }\n",
       "\n",
       "    .dataframe tbody tr th {\n",
       "        vertical-align: top;\n",
       "    }\n",
       "\n",
       "    .dataframe thead th {\n",
       "        text-align: right;\n",
       "    }\n",
       "</style>\n",
       "<table border=\"1\" class=\"dataframe\">\n",
       "  <thead>\n",
       "    <tr style=\"text-align: right;\">\n",
       "      <th></th>\n",
       "      <th>('JJS', 'TO')</th>\n",
       "      <th>('DT', 'JJR')</th>\n",
       "      <th>('EX', 'VBG')</th>\n",
       "      <th>('JJS', 'NN')</th>\n",
       "      <th>('DT', 'RP')</th>\n",
       "      <th>('NNP', 'VBN')</th>\n",
       "      <th>('IN', 'WDT')</th>\n",
       "      <th>('CC', 'MD')</th>\n",
       "      <th>('VBZ', 'NNP')</th>\n",
       "      <th>('PRP', 'VBP')</th>\n",
       "      <th>...</th>\n",
       "      <th>('MD', 'VB')</th>\n",
       "      <th>('PRP$', 'JJR')</th>\n",
       "      <th>('WRB', 'VBZ')</th>\n",
       "      <th>('PRP', 'RBR')</th>\n",
       "      <th>('VBG', 'PRP')</th>\n",
       "      <th>('NN', 'CD')</th>\n",
       "      <th>('VBN', 'CD')</th>\n",
       "      <th>('IN', 'WP')</th>\n",
       "      <th>('RBR', 'TO')</th>\n",
       "      <th>subjects</th>\n",
       "    </tr>\n",
       "  </thead>\n",
       "  <tbody>\n",
       "    <tr>\n",
       "      <th>10002</th>\n",
       "      <td>0.000015</td>\n",
       "      <td>0.000426</td>\n",
       "      <td>0.00000</td>\n",
       "      <td>0.000152</td>\n",
       "      <td>0.000000</td>\n",
       "      <td>0.000015</td>\n",
       "      <td>0.001339</td>\n",
       "      <td>0.000502</td>\n",
       "      <td>0.000000</td>\n",
       "      <td>0.001186</td>\n",
       "      <td>...</td>\n",
       "      <td>0.006130</td>\n",
       "      <td>0.000046</td>\n",
       "      <td>0.000000</td>\n",
       "      <td>0.000061</td>\n",
       "      <td>0.000897</td>\n",
       "      <td>0.000350</td>\n",
       "      <td>0.000076</td>\n",
       "      <td>0.000213</td>\n",
       "      <td>0.000030</td>\n",
       "      <td>5</td>\n",
       "    </tr>\n",
       "    <tr>\n",
       "      <th>10094</th>\n",
       "      <td>0.000070</td>\n",
       "      <td>0.000606</td>\n",
       "      <td>0.00002</td>\n",
       "      <td>0.000536</td>\n",
       "      <td>0.000020</td>\n",
       "      <td>0.000000</td>\n",
       "      <td>0.000824</td>\n",
       "      <td>0.000516</td>\n",
       "      <td>0.000010</td>\n",
       "      <td>0.003734</td>\n",
       "      <td>...</td>\n",
       "      <td>0.008918</td>\n",
       "      <td>0.000040</td>\n",
       "      <td>0.000129</td>\n",
       "      <td>0.000020</td>\n",
       "      <td>0.000973</td>\n",
       "      <td>0.000318</td>\n",
       "      <td>0.000099</td>\n",
       "      <td>0.000358</td>\n",
       "      <td>0.000040</td>\n",
       "      <td>3</td>\n",
       "    </tr>\n",
       "    <tr>\n",
       "      <th>10124</th>\n",
       "      <td>0.000035</td>\n",
       "      <td>0.000333</td>\n",
       "      <td>0.00000</td>\n",
       "      <td>0.000438</td>\n",
       "      <td>0.000088</td>\n",
       "      <td>0.000000</td>\n",
       "      <td>0.000368</td>\n",
       "      <td>0.000473</td>\n",
       "      <td>0.000018</td>\n",
       "      <td>0.007266</td>\n",
       "      <td>...</td>\n",
       "      <td>0.007984</td>\n",
       "      <td>0.000018</td>\n",
       "      <td>0.000088</td>\n",
       "      <td>0.000000</td>\n",
       "      <td>0.000840</td>\n",
       "      <td>0.000438</td>\n",
       "      <td>0.000070</td>\n",
       "      <td>0.000175</td>\n",
       "      <td>0.000000</td>\n",
       "      <td>6</td>\n",
       "    </tr>\n",
       "    <tr>\n",
       "      <th>10234</th>\n",
       "      <td>0.000000</td>\n",
       "      <td>0.000455</td>\n",
       "      <td>0.00000</td>\n",
       "      <td>0.000411</td>\n",
       "      <td>0.000000</td>\n",
       "      <td>0.000000</td>\n",
       "      <td>0.000477</td>\n",
       "      <td>0.000289</td>\n",
       "      <td>0.000011</td>\n",
       "      <td>0.004784</td>\n",
       "      <td>...</td>\n",
       "      <td>0.007148</td>\n",
       "      <td>0.000011</td>\n",
       "      <td>0.000144</td>\n",
       "      <td>0.000022</td>\n",
       "      <td>0.000577</td>\n",
       "      <td>0.000422</td>\n",
       "      <td>0.000033</td>\n",
       "      <td>0.000200</td>\n",
       "      <td>0.000033</td>\n",
       "      <td>3</td>\n",
       "    </tr>\n",
       "    <tr>\n",
       "      <th>10372</th>\n",
       "      <td>0.000027</td>\n",
       "      <td>0.000389</td>\n",
       "      <td>0.00000</td>\n",
       "      <td>0.000699</td>\n",
       "      <td>0.000018</td>\n",
       "      <td>0.000009</td>\n",
       "      <td>0.000239</td>\n",
       "      <td>0.000212</td>\n",
       "      <td>0.000044</td>\n",
       "      <td>0.005468</td>\n",
       "      <td>...</td>\n",
       "      <td>0.008830</td>\n",
       "      <td>0.000009</td>\n",
       "      <td>0.000106</td>\n",
       "      <td>0.000018</td>\n",
       "      <td>0.000628</td>\n",
       "      <td>0.000310</td>\n",
       "      <td>0.000053</td>\n",
       "      <td>0.000319</td>\n",
       "      <td>0.000018</td>\n",
       "      <td>6</td>\n",
       "    </tr>\n",
       "  </tbody>\n",
       "</table>\n",
       "<p>5 rows × 698 columns</p>\n",
       "</div>"
      ],
      "text/plain": [
       "       ('JJS', 'TO')  ('DT', 'JJR')  ('EX', 'VBG')  ('JJS', 'NN')  \\\n",
       "10002       0.000015       0.000426        0.00000       0.000152   \n",
       "10094       0.000070       0.000606        0.00002       0.000536   \n",
       "10124       0.000035       0.000333        0.00000       0.000438   \n",
       "10234       0.000000       0.000455        0.00000       0.000411   \n",
       "10372       0.000027       0.000389        0.00000       0.000699   \n",
       "\n",
       "       ('DT', 'RP')  ('NNP', 'VBN')  ('IN', 'WDT')  ('CC', 'MD')  \\\n",
       "10002      0.000000        0.000015       0.001339      0.000502   \n",
       "10094      0.000020        0.000000       0.000824      0.000516   \n",
       "10124      0.000088        0.000000       0.000368      0.000473   \n",
       "10234      0.000000        0.000000       0.000477      0.000289   \n",
       "10372      0.000018        0.000009       0.000239      0.000212   \n",
       "\n",
       "       ('VBZ', 'NNP')  ('PRP', 'VBP')  ...  ('MD', 'VB')  ('PRP$', 'JJR')  \\\n",
       "10002        0.000000        0.001186  ...      0.006130         0.000046   \n",
       "10094        0.000010        0.003734  ...      0.008918         0.000040   \n",
       "10124        0.000018        0.007266  ...      0.007984         0.000018   \n",
       "10234        0.000011        0.004784  ...      0.007148         0.000011   \n",
       "10372        0.000044        0.005468  ...      0.008830         0.000009   \n",
       "\n",
       "       ('WRB', 'VBZ')  ('PRP', 'RBR')  ('VBG', 'PRP')  ('NN', 'CD')  \\\n",
       "10002        0.000000        0.000061        0.000897      0.000350   \n",
       "10094        0.000129        0.000020        0.000973      0.000318   \n",
       "10124        0.000088        0.000000        0.000840      0.000438   \n",
       "10234        0.000144        0.000022        0.000577      0.000422   \n",
       "10372        0.000106        0.000018        0.000628      0.000310   \n",
       "\n",
       "       ('VBN', 'CD')  ('IN', 'WP')  ('RBR', 'TO')  subjects  \n",
       "10002       0.000076      0.000213       0.000030         5  \n",
       "10094       0.000099      0.000358       0.000040         3  \n",
       "10124       0.000070      0.000175       0.000000         6  \n",
       "10234       0.000033      0.000200       0.000033         3  \n",
       "10372       0.000053      0.000319       0.000018         6  \n",
       "\n",
       "[5 rows x 698 columns]"
      ]
     },
     "execution_count": 32,
     "metadata": {},
     "output_type": "execute_result"
    }
   ],
   "source": [
    "test_df.head()"
   ]
  },
  {
   "cell_type": "code",
   "execution_count": 33,
   "id": "1e15fd64",
   "metadata": {},
   "outputs": [],
   "source": [
    "# make prediction\n",
    "\n",
    "X_test = test_df.iloc[:, :-1].to_numpy()\n",
    "y_test = test_df.iloc[:, -1:].to_numpy().flatten()\n",
    "\n",
    "pred = clf.predict(X_test)"
   ]
  },
  {
   "cell_type": "code",
   "execution_count": 34,
   "id": "45bbac71",
   "metadata": {},
   "outputs": [
    {
     "data": {
      "text/plain": [
       "array([5, 5, 5, ..., 5, 5, 5])"
      ]
     },
     "execution_count": 34,
     "metadata": {},
     "output_type": "execute_result"
    }
   ],
   "source": [
    "pred"
   ]
  },
  {
   "cell_type": "code",
   "execution_count": 35,
   "id": "d5f0a264",
   "metadata": {},
   "outputs": [],
   "source": [
    "# confusion matrix\n",
    "from sklearn import metrics\n",
    "import matplotlib.pyplot as plt\n",
    "# import seaborn as sns\n",
    "\n",
    "cm = metrics.confusion_matrix(y_test, pred)\n",
    "cm_df = pd.DataFrame(cm, index = [1,2,3,4,5,6], columns = [1,2,3,4,5,6])\n",
    "#plt.figure()\n",
    "#sns.heatmap(cm_df, annot=True)\n",
    "#plt.title('Confusion Matrix')\n",
    "#plt.ylabel('Actual Values')\n",
    "#plt.xlabel('Predicted Values')\n",
    "#plt.show()"
   ]
  },
  {
   "cell_type": "code",
   "execution_count": 36,
   "id": "c97de39c",
   "metadata": {
    "scrolled": true
   },
   "outputs": [
    {
     "data": {
      "text/plain": [
       "array([[  0,   0,   0,   0, 145,   0],\n",
       "       [  0,   0,   0,   0, 151,   0],\n",
       "       [  0,   0,   0,   0, 113,   0],\n",
       "       [  0,   0,   0,   0, 131,   0],\n",
       "       [  0,   0,   0,   0, 511,   0],\n",
       "       [  0,   0,   0,   0, 116,   0]])"
      ]
     },
     "execution_count": 36,
     "metadata": {},
     "output_type": "execute_result"
    }
   ],
   "source": [
    "cm"
   ]
  },
  {
   "cell_type": "code",
   "execution_count": 37,
   "id": "1aeb10e3",
   "metadata": {},
   "outputs": [
    {
     "data": {
      "text/plain": [
       "array([0., 0., 0., 0., 1., 0.])"
      ]
     },
     "execution_count": 37,
     "metadata": {},
     "output_type": "execute_result"
    }
   ],
   "source": [
    "cm.diagonal()/cm.sum(axis=1)"
   ]
  },
  {
   "cell_type": "code",
   "execution_count": 38,
   "id": "75edd28e",
   "metadata": {},
   "outputs": [
    {
     "name": "stdout",
     "output_type": "stream",
     "text": [
      "                               precision    recall  f1-score   support\n",
      "\n",
      "            Adventure stories      0.000     0.000     0.000       145\n",
      "Detective and mystery stories      0.000     0.000     0.000       151\n",
      "           Historical fiction      0.000     0.000     0.000       113\n",
      "                 Love stories      0.000     0.000     0.000       131\n",
      "              Science fiction      0.438     1.000     0.609       511\n",
      "              Western stories      0.000     0.000     0.000       116\n",
      "\n",
      "                     accuracy                          0.438      1167\n",
      "                    macro avg      0.073     0.167     0.102      1167\n",
      "                 weighted avg      0.192     0.438     0.267      1167\n",
      "\n"
     ]
    },
    {
     "name": "stderr",
     "output_type": "stream",
     "text": [
      "/home/kathyij74/.local/lib/python3.10/site-packages/sklearn/metrics/_classification.py:1334: UndefinedMetricWarning: Precision and F-score are ill-defined and being set to 0.0 in labels with no predicted samples. Use `zero_division` parameter to control this behavior.\n",
      "  _warn_prf(average, modifier, msg_start, len(result))\n",
      "/home/kathyij74/.local/lib/python3.10/site-packages/sklearn/metrics/_classification.py:1334: UndefinedMetricWarning: Precision and F-score are ill-defined and being set to 0.0 in labels with no predicted samples. Use `zero_division` parameter to control this behavior.\n",
      "  _warn_prf(average, modifier, msg_start, len(result))\n",
      "/home/kathyij74/.local/lib/python3.10/site-packages/sklearn/metrics/_classification.py:1334: UndefinedMetricWarning: Precision and F-score are ill-defined and being set to 0.0 in labels with no predicted samples. Use `zero_division` parameter to control this behavior.\n",
      "  _warn_prf(average, modifier, msg_start, len(result))\n"
     ]
    }
   ],
   "source": [
    "from sklearn.metrics import classification_report\n",
    "\n",
    "print(classification_report(y_test, pred, target_names=['Adventure stories','Detective and mystery stories','Historical fiction',\n",
    "                                                        'Love stories','Science fiction','Western stories'], digits=3))"
   ]
  },
  {
   "cell_type": "code",
   "execution_count": null,
   "id": "f6b8f0ef",
   "metadata": {},
   "outputs": [],
   "source": []
  },
  {
   "cell_type": "code",
   "execution_count": 39,
   "id": "b2d7a4ae",
   "metadata": {},
   "outputs": [],
   "source": [
    "# make prediction\n",
    "\n",
    "X_test = test_df.iloc[:, :-1].to_numpy()\n",
    "y_test = test_df.iloc[:, -1:].to_numpy().flatten()\n",
    "\n",
    "pred2 = clf2.predict(X_test)"
   ]
  },
  {
   "cell_type": "code",
   "execution_count": 40,
   "id": "81aa2bca",
   "metadata": {},
   "outputs": [
    {
     "data": {
      "text/plain": [
       "array([5, 3, 5, ..., 5, 5, 5])"
      ]
     },
     "execution_count": 40,
     "metadata": {},
     "output_type": "execute_result"
    }
   ],
   "source": [
    "pred2"
   ]
  },
  {
   "cell_type": "code",
   "execution_count": 41,
   "id": "0634831c",
   "metadata": {},
   "outputs": [],
   "source": [
    "# confusion matrix\n",
    "from sklearn import metrics\n",
    "import matplotlib.pyplot as plt\n",
    "# import seaborn as sns\n",
    "\n",
    "cm2 = metrics.confusion_matrix(y_test, pred2)\n",
    "cm_df2 = pd.DataFrame(cm2, index = [1,2,3,4,5,6], columns = [1,2,3,4,5,6])\n",
    "#plt.figure()\n",
    "#sns.heatmap(cm_df, annot=True)\n",
    "#plt.title('Confusion Matrix')\n",
    "#plt.ylabel('Actual Values')\n",
    "#plt.xlabel('Predicted Values')\n",
    "#plt.show()"
   ]
  },
  {
   "cell_type": "code",
   "execution_count": 42,
   "id": "5b59abe5",
   "metadata": {
    "scrolled": true
   },
   "outputs": [
    {
     "data": {
      "text/plain": [
       "array([[  6,   3,   3,   4, 129,   0],\n",
       "       [  0,  12,   1,  15, 123,   0],\n",
       "       [  1,   0,   8,   7,  97,   0],\n",
       "       [  0,   4,   0,  39,  88,   0],\n",
       "       [  1,   1,   0,   2, 507,   0],\n",
       "       [  0,   0,   0,   3, 105,   8]])"
      ]
     },
     "execution_count": 42,
     "metadata": {},
     "output_type": "execute_result"
    }
   ],
   "source": [
    "cm2"
   ]
  },
  {
   "cell_type": "code",
   "execution_count": 43,
   "id": "3269211c",
   "metadata": {},
   "outputs": [
    {
     "data": {
      "text/plain": [
       "array([0.04137931, 0.0794702 , 0.07079646, 0.29770992, 0.99217221,\n",
       "       0.06896552])"
      ]
     },
     "execution_count": 43,
     "metadata": {},
     "output_type": "execute_result"
    }
   ],
   "source": [
    "cm2.diagonal()/cm2.sum(axis=1)"
   ]
  },
  {
   "cell_type": "code",
   "execution_count": 44,
   "id": "e407c244",
   "metadata": {},
   "outputs": [
    {
     "name": "stdout",
     "output_type": "stream",
     "text": [
      "                               precision    recall  f1-score   support\n",
      "\n",
      "            Adventure stories      0.750     0.041     0.078       145\n",
      "Detective and mystery stories      0.600     0.079     0.140       151\n",
      "           Historical fiction      0.667     0.071     0.128       113\n",
      "                 Love stories      0.557     0.298     0.388       131\n",
      "              Science fiction      0.483     0.992     0.650       511\n",
      "              Western stories      1.000     0.069     0.129       116\n",
      "\n",
      "                     accuracy                          0.497      1167\n",
      "                    macro avg      0.676     0.258     0.252      1167\n",
      "                 weighted avg      0.609     0.497     0.381      1167\n",
      "\n"
     ]
    }
   ],
   "source": [
    "from sklearn.metrics import classification_report\n",
    "\n",
    "print(classification_report(y_test, pred2, target_names=['Adventure stories','Detective and mystery stories','Historical fiction',\n",
    "                                                        'Love stories','Science fiction','Western stories'], digits=3))"
   ]
  },
  {
   "cell_type": "code",
   "execution_count": null,
   "id": "0ee7379b",
   "metadata": {},
   "outputs": [],
   "source": []
  },
  {
   "cell_type": "code",
   "execution_count": 45,
   "id": "68d57638",
   "metadata": {},
   "outputs": [],
   "source": [
    "# make prediction\n",
    "\n",
    "X_test = test_df.iloc[:, :-1].to_numpy()\n",
    "y_test = test_df.iloc[:, -1:].to_numpy().flatten()\n",
    "\n",
    "pred3 = clf3.predict(X_test)"
   ]
  },
  {
   "cell_type": "code",
   "execution_count": 46,
   "id": "c7fe563a",
   "metadata": {},
   "outputs": [
    {
     "data": {
      "text/plain": [
       "array([6, 6, 6, ..., 6, 6, 6])"
      ]
     },
     "execution_count": 46,
     "metadata": {},
     "output_type": "execute_result"
    }
   ],
   "source": [
    "pred3"
   ]
  },
  {
   "cell_type": "code",
   "execution_count": 47,
   "id": "c1bdd3c7",
   "metadata": {},
   "outputs": [],
   "source": [
    "# confusion matrix\n",
    "from sklearn import metrics\n",
    "import matplotlib.pyplot as plt\n",
    "# import seaborn as sns\n",
    "\n",
    "cm3 = metrics.confusion_matrix(y_test, pred3)\n",
    "cm_df3 = pd.DataFrame(cm3, index = [1,2,3,4,5,6], columns = [1,2,3,4,5,6])\n",
    "#plt.figure()\n",
    "#sns.heatmap(cm_df, annot=True)\n",
    "#plt.title('Confusion Matrix')\n",
    "#plt.ylabel('Actual Values')\n",
    "#plt.xlabel('Predicted Values')\n",
    "#plt.show()"
   ]
  },
  {
   "cell_type": "code",
   "execution_count": 48,
   "id": "0e1ba643",
   "metadata": {
    "scrolled": true
   },
   "outputs": [
    {
     "data": {
      "text/plain": [
       "array([[  0,   0,   0,   0,   0, 145],\n",
       "       [  0,   0,   0,   0,   0, 151],\n",
       "       [  0,   0,   0,   0,   0, 113],\n",
       "       [  0,   0,   0,   0,   0, 131],\n",
       "       [  0,   0,   0,   0,   0, 511],\n",
       "       [  0,   0,   0,   0,   0, 116]])"
      ]
     },
     "execution_count": 48,
     "metadata": {},
     "output_type": "execute_result"
    }
   ],
   "source": [
    "cm3"
   ]
  },
  {
   "cell_type": "code",
   "execution_count": 49,
   "id": "df1a204a",
   "metadata": {},
   "outputs": [
    {
     "data": {
      "text/plain": [
       "array([0., 0., 0., 0., 0., 1.])"
      ]
     },
     "execution_count": 49,
     "metadata": {},
     "output_type": "execute_result"
    }
   ],
   "source": [
    "cm3.diagonal()/cm3.sum(axis=1)"
   ]
  },
  {
   "cell_type": "code",
   "execution_count": 50,
   "id": "3864af5d",
   "metadata": {},
   "outputs": [
    {
     "name": "stdout",
     "output_type": "stream",
     "text": [
      "                               precision    recall  f1-score   support\n",
      "\n",
      "            Adventure stories      0.000     0.000     0.000       145\n",
      "Detective and mystery stories      0.000     0.000     0.000       151\n",
      "           Historical fiction      0.000     0.000     0.000       113\n",
      "                 Love stories      0.000     0.000     0.000       131\n",
      "              Science fiction      0.000     0.000     0.000       511\n",
      "              Western stories      0.099     1.000     0.181       116\n",
      "\n",
      "                     accuracy                          0.099      1167\n",
      "                    macro avg      0.017     0.167     0.030      1167\n",
      "                 weighted avg      0.010     0.099     0.018      1167\n",
      "\n"
     ]
    },
    {
     "name": "stderr",
     "output_type": "stream",
     "text": [
      "/home/kathyij74/.local/lib/python3.10/site-packages/sklearn/metrics/_classification.py:1334: UndefinedMetricWarning: Precision and F-score are ill-defined and being set to 0.0 in labels with no predicted samples. Use `zero_division` parameter to control this behavior.\n",
      "  _warn_prf(average, modifier, msg_start, len(result))\n",
      "/home/kathyij74/.local/lib/python3.10/site-packages/sklearn/metrics/_classification.py:1334: UndefinedMetricWarning: Precision and F-score are ill-defined and being set to 0.0 in labels with no predicted samples. Use `zero_division` parameter to control this behavior.\n",
      "  _warn_prf(average, modifier, msg_start, len(result))\n",
      "/home/kathyij74/.local/lib/python3.10/site-packages/sklearn/metrics/_classification.py:1334: UndefinedMetricWarning: Precision and F-score are ill-defined and being set to 0.0 in labels with no predicted samples. Use `zero_division` parameter to control this behavior.\n",
      "  _warn_prf(average, modifier, msg_start, len(result))\n"
     ]
    }
   ],
   "source": [
    "from sklearn.metrics import classification_report\n",
    "\n",
    "print(classification_report(y_test, pred3, target_names=['Adventure stories','Detective and mystery stories','Historical fiction',\n",
    "                                                        'Love stories','Science fiction','Western stories'], digits=3))"
   ]
  },
  {
   "cell_type": "code",
   "execution_count": null,
   "id": "5513f1e9",
   "metadata": {},
   "outputs": [],
   "source": []
  },
  {
   "cell_type": "code",
   "execution_count": null,
   "id": "b36a089c",
   "metadata": {},
   "outputs": [],
   "source": []
  },
  {
   "cell_type": "code",
   "execution_count": 51,
   "id": "5aa61584",
   "metadata": {},
   "outputs": [],
   "source": [
    "# make prediction\n",
    "\n",
    "X_test = test_df.iloc[:, :-1].to_numpy()\n",
    "y_test = test_df.iloc[:, -1:].to_numpy().flatten()\n",
    "\n",
    "pred4 = clf4.predict(X_test)"
   ]
  },
  {
   "cell_type": "code",
   "execution_count": 52,
   "id": "9031e42b",
   "metadata": {},
   "outputs": [
    {
     "data": {
      "text/plain": [
       "array([2, 3, 5, ..., 4, 4, 4])"
      ]
     },
     "execution_count": 52,
     "metadata": {},
     "output_type": "execute_result"
    }
   ],
   "source": [
    "pred4"
   ]
  },
  {
   "cell_type": "code",
   "execution_count": 53,
   "id": "ed94461c",
   "metadata": {},
   "outputs": [],
   "source": [
    "# confusion matrix\n",
    "from sklearn import metrics\n",
    "import matplotlib.pyplot as plt\n",
    "# import seaborn as sns\n",
    "\n",
    "cm4 = metrics.confusion_matrix(y_test, pred4)\n",
    "cm_df4 = pd.DataFrame(cm4, index = [1,2,3,4,5,6], columns = [1,2,3,4,5,6])\n",
    "#plt.figure()\n",
    "#sns.heatmap(cm_df, annot=True)\n",
    "#plt.title('Confusion Matrix')\n",
    "#plt.ylabel('Actual Values')\n",
    "#plt.xlabel('Predicted Values')\n",
    "#plt.show()"
   ]
  },
  {
   "cell_type": "code",
   "execution_count": 54,
   "id": "f673821b",
   "metadata": {
    "scrolled": true
   },
   "outputs": [
    {
     "data": {
      "text/plain": [
       "array([[ 17,  14,  35,  20,  50,   9],\n",
       "       [  1,  55,   7,  55,  28,   5],\n",
       "       [  2,   1,  54,  20,  30,   6],\n",
       "       [  0,   3,  10,  79,  33,   6],\n",
       "       [  5,   6,   2,  10, 484,   4],\n",
       "       [  1,   2,   9,  27,  34,  43]])"
      ]
     },
     "execution_count": 54,
     "metadata": {},
     "output_type": "execute_result"
    }
   ],
   "source": [
    "cm4"
   ]
  },
  {
   "cell_type": "code",
   "execution_count": 55,
   "id": "2d7a3ac5",
   "metadata": {},
   "outputs": [
    {
     "data": {
      "text/plain": [
       "array([0.11724138, 0.36423841, 0.47787611, 0.60305344, 0.94716243,\n",
       "       0.37068966])"
      ]
     },
     "execution_count": 55,
     "metadata": {},
     "output_type": "execute_result"
    }
   ],
   "source": [
    "cm4.diagonal()/cm4.sum(axis=1)"
   ]
  },
  {
   "cell_type": "code",
   "execution_count": 56,
   "id": "210e417e",
   "metadata": {},
   "outputs": [
    {
     "name": "stdout",
     "output_type": "stream",
     "text": [
      "                               precision    recall  f1-score   support\n",
      "\n",
      "            Adventure stories      0.654     0.117     0.199       145\n",
      "Detective and mystery stories      0.679     0.364     0.474       151\n",
      "           Historical fiction      0.462     0.478     0.470       113\n",
      "                 Love stories      0.374     0.603     0.462       131\n",
      "              Science fiction      0.734     0.947     0.827       511\n",
      "              Western stories      0.589     0.371     0.455       116\n",
      "\n",
      "                     accuracy                          0.627      1167\n",
      "                    macro avg      0.582     0.480     0.481      1167\n",
      "                 weighted avg      0.636     0.627     0.591      1167\n",
      "\n"
     ]
    }
   ],
   "source": [
    "from sklearn.metrics import classification_report\n",
    "\n",
    "print(classification_report(y_test, pred4, target_names=['Adventure stories','Detective and mystery stories','Historical fiction',\n",
    "                                                        'Love stories','Science fiction','Western stories'], digits=3))"
   ]
  },
  {
   "cell_type": "code",
   "execution_count": null,
   "id": "6b887c6f",
   "metadata": {},
   "outputs": [],
   "source": []
  }
 ],
 "metadata": {
  "kernelspec": {
   "display_name": "Python 3 (ipykernel)",
   "language": "python",
   "name": "python3"
  },
  "language_info": {
   "codemirror_mode": {
    "name": "ipython",
    "version": 3
   },
   "file_extension": ".py",
   "mimetype": "text/x-python",
   "name": "python",
   "nbconvert_exporter": "python",
   "pygments_lexer": "ipython3",
   "version": "3.10.4"
  }
 },
 "nbformat": 4,
 "nbformat_minor": 5
}
