{
 "cells": [
  {
   "cell_type": "code",
   "execution_count": 1,
   "id": "b5aa7dbe",
   "metadata": {},
   "outputs": [
    {
     "name": "stdout",
     "output_type": "stream",
     "text": [
      "Loading Genre_Classification system from path /mnt/d/UNIV NOTES/Y4S1/DSA4199/genre_classification\n"
     ]
    },
    {
     "name": "stderr",
     "output_type": "stream",
     "text": [
      "2022-11-16 00:43:08.132193: W tensorflow/stream_executor/platform/default/dso_loader.cc:64] Could not load dynamic library 'libcudart.so.11.0'; dlerror: libcudart.so.11.0: cannot open shared object file: No such file or directory\n",
      "2022-11-16 00:43:08.132295: I tensorflow/stream_executor/cuda/cudart_stub.cc:29] Ignore above cudart dlerror if you do not have a GPU set up on your machine.\n"
     ]
    }
   ],
   "source": [
    "%matplotlib inline\n",
    "\n",
    "import os\n",
    "import sys\n",
    "genre_class_path = os.path.abspath(os.path.join(os.getcwd(), os.pardir))\n",
    "print(\"Loading Genre_Classification system from path\", genre_class_path)\n",
    "sys.path.append(genre_class_path)\n",
    "\n",
    "import numpy as np\n",
    "import pandas as pd\n",
    "import tensorflow as tf\n",
    "import json\n",
    "import random"
   ]
  },
  {
   "cell_type": "code",
   "execution_count": 2,
   "id": "0ac028d4",
   "metadata": {},
   "outputs": [
    {
     "name": "stderr",
     "output_type": "stream",
     "text": [
      "[nltk_data] Downloading package averaged_perceptron_tagger to\n",
      "[nltk_data]     /home/kathyij74/nltk_data...\n",
      "[nltk_data]   Package averaged_perceptron_tagger is already up-to-\n",
      "[nltk_data]       date!\n"
     ]
    },
    {
     "data": {
      "text/plain": [
       "True"
      ]
     },
     "execution_count": 2,
     "metadata": {},
     "output_type": "execute_result"
    }
   ],
   "source": [
    "from nltk.tokenize import word_tokenize\n",
    "from nltk import pos_tag\n",
    "from nltk import download\n",
    "from nltk.corpus import stopwords\n",
    "from nltk.stem import WordNetLemmatizer\n",
    "from sklearn.preprocessing import LabelEncoder\n",
    "from collections import defaultdict\n",
    "from nltk.corpus import wordnet as wn\n",
    "from sklearn.feature_extraction.text import TfidfVectorizer\n",
    "from sklearn import model_selection, naive_bayes, svm\n",
    "from sklearn.metrics import accuracy_score\n",
    "\n",
    "download('averaged_perceptron_tagger')"
   ]
  },
  {
   "cell_type": "code",
   "execution_count": 3,
   "id": "93293b29",
   "metadata": {},
   "outputs": [],
   "source": [
    "dataset_wkspc = os.path.join(genre_class_path, 'workspace', 'gb_input')\n",
    "data_path = os.path.join(dataset_wkspc, 'unigram.csv')\n",
    "\n",
    "unigram_df = pd.read_csv(data_path)\n",
    "unigram_df = unigram_df.iloc[:,1:]"
   ]
  },
  {
   "cell_type": "code",
   "execution_count": 4,
   "id": "9bebfdb3",
   "metadata": {},
   "outputs": [],
   "source": [
    "dataset_wkspc = os.path.join(genre_class_path, 'workspace', 'gb_input')\n",
    "data_path = os.path.join(dataset_wkspc, 'data_index.json')\n",
    "\n",
    "with open(data_path) as f:\n",
    "    data_json = json.load(f)"
   ]
  },
  {
   "cell_type": "code",
   "execution_count": 5,
   "id": "340dfd2c",
   "metadata": {},
   "outputs": [],
   "source": [
    "index = []\n",
    "for entry in data_json:\n",
    "    index.append(entry['index'])"
   ]
  },
  {
   "cell_type": "code",
   "execution_count": 6,
   "id": "6f8d0aef",
   "metadata": {},
   "outputs": [
    {
     "data": {
      "text/plain": [
       "['10002',\n",
       " '10005',\n",
       " '10008',\n",
       " '10046',\n",
       " '10067',\n",
       " '10094',\n",
       " '10109',\n",
       " '10124',\n",
       " '1014',\n",
       " '10234']"
      ]
     },
     "execution_count": 6,
     "metadata": {},
     "output_type": "execute_result"
    }
   ],
   "source": [
    "index[:10]"
   ]
  },
  {
   "cell_type": "code",
   "execution_count": 7,
   "id": "236bd5a4",
   "metadata": {},
   "outputs": [],
   "source": [
    "unigram_df.index = index"
   ]
  },
  {
   "cell_type": "code",
   "execution_count": 8,
   "id": "1ab5a8c0",
   "metadata": {},
   "outputs": [
    {
     "data": {
      "text/html": [
       "<div>\n",
       "<style scoped>\n",
       "    .dataframe tbody tr th:only-of-type {\n",
       "        vertical-align: middle;\n",
       "    }\n",
       "\n",
       "    .dataframe tbody tr th {\n",
       "        vertical-align: top;\n",
       "    }\n",
       "\n",
       "    .dataframe thead th {\n",
       "        text-align: right;\n",
       "    }\n",
       "</style>\n",
       "<table border=\"1\" class=\"dataframe\">\n",
       "  <thead>\n",
       "    <tr style=\"text-align: right;\">\n",
       "      <th></th>\n",
       "      <th>JJS</th>\n",
       "      <th>VBZ</th>\n",
       "      <th>RBR</th>\n",
       "      <th>MD</th>\n",
       "      <th>CD</th>\n",
       "      <th>WDT</th>\n",
       "      <th>NNS</th>\n",
       "      <th>EX</th>\n",
       "      <th>UH</th>\n",
       "      <th>WRB</th>\n",
       "      <th>...</th>\n",
       "      <th>VBG</th>\n",
       "      <th>WP</th>\n",
       "      <th>IN</th>\n",
       "      <th>JJR</th>\n",
       "      <th>PRP</th>\n",
       "      <th>LS</th>\n",
       "      <th>NNPS</th>\n",
       "      <th>VBN</th>\n",
       "      <th>FW</th>\n",
       "      <th>subjects</th>\n",
       "    </tr>\n",
       "  </thead>\n",
       "  <tbody>\n",
       "    <tr>\n",
       "      <th>10002</th>\n",
       "      <td>48</td>\n",
       "      <td>464</td>\n",
       "      <td>119</td>\n",
       "      <td>551</td>\n",
       "      <td>329</td>\n",
       "      <td>331</td>\n",
       "      <td>1910</td>\n",
       "      <td>185</td>\n",
       "      <td>13</td>\n",
       "      <td>221</td>\n",
       "      <td>...</td>\n",
       "      <td>1191</td>\n",
       "      <td>100</td>\n",
       "      <td>7533</td>\n",
       "      <td>183</td>\n",
       "      <td>2277</td>\n",
       "      <td>0</td>\n",
       "      <td>0</td>\n",
       "      <td>1574</td>\n",
       "      <td>5</td>\n",
       "      <td>5</td>\n",
       "    </tr>\n",
       "    <tr>\n",
       "      <th>10005</th>\n",
       "      <td>145</td>\n",
       "      <td>1070</td>\n",
       "      <td>192</td>\n",
       "      <td>850</td>\n",
       "      <td>673</td>\n",
       "      <td>789</td>\n",
       "      <td>3902</td>\n",
       "      <td>107</td>\n",
       "      <td>9</td>\n",
       "      <td>351</td>\n",
       "      <td>...</td>\n",
       "      <td>1318</td>\n",
       "      <td>405</td>\n",
       "      <td>10756</td>\n",
       "      <td>241</td>\n",
       "      <td>3749</td>\n",
       "      <td>0</td>\n",
       "      <td>3</td>\n",
       "      <td>2463</td>\n",
       "      <td>21</td>\n",
       "      <td>5</td>\n",
       "    </tr>\n",
       "    <tr>\n",
       "      <th>10008</th>\n",
       "      <td>107</td>\n",
       "      <td>839</td>\n",
       "      <td>87</td>\n",
       "      <td>1021</td>\n",
       "      <td>546</td>\n",
       "      <td>272</td>\n",
       "      <td>2938</td>\n",
       "      <td>206</td>\n",
       "      <td>72</td>\n",
       "      <td>386</td>\n",
       "      <td>...</td>\n",
       "      <td>1115</td>\n",
       "      <td>266</td>\n",
       "      <td>8244</td>\n",
       "      <td>144</td>\n",
       "      <td>4699</td>\n",
       "      <td>0</td>\n",
       "      <td>0</td>\n",
       "      <td>1665</td>\n",
       "      <td>31</td>\n",
       "      <td>5</td>\n",
       "    </tr>\n",
       "    <tr>\n",
       "      <th>10046</th>\n",
       "      <td>206</td>\n",
       "      <td>1016</td>\n",
       "      <td>105</td>\n",
       "      <td>1509</td>\n",
       "      <td>610</td>\n",
       "      <td>509</td>\n",
       "      <td>4531</td>\n",
       "      <td>312</td>\n",
       "      <td>21</td>\n",
       "      <td>422</td>\n",
       "      <td>...</td>\n",
       "      <td>1227</td>\n",
       "      <td>529</td>\n",
       "      <td>12125</td>\n",
       "      <td>248</td>\n",
       "      <td>5522</td>\n",
       "      <td>1</td>\n",
       "      <td>5</td>\n",
       "      <td>2357</td>\n",
       "      <td>41</td>\n",
       "      <td>3</td>\n",
       "    </tr>\n",
       "    <tr>\n",
       "      <th>10067</th>\n",
       "      <td>123</td>\n",
       "      <td>1429</td>\n",
       "      <td>107</td>\n",
       "      <td>1333</td>\n",
       "      <td>577</td>\n",
       "      <td>392</td>\n",
       "      <td>2248</td>\n",
       "      <td>254</td>\n",
       "      <td>130</td>\n",
       "      <td>401</td>\n",
       "      <td>...</td>\n",
       "      <td>1152</td>\n",
       "      <td>409</td>\n",
       "      <td>8264</td>\n",
       "      <td>139</td>\n",
       "      <td>5997</td>\n",
       "      <td>0</td>\n",
       "      <td>0</td>\n",
       "      <td>1819</td>\n",
       "      <td>96</td>\n",
       "      <td>2</td>\n",
       "    </tr>\n",
       "  </tbody>\n",
       "</table>\n",
       "<p>5 rows × 36 columns</p>\n",
       "</div>"
      ],
      "text/plain": [
       "       JJS   VBZ  RBR    MD   CD  WDT   NNS   EX   UH  WRB  ...   VBG   WP  \\\n",
       "10002   48   464  119   551  329  331  1910  185   13  221  ...  1191  100   \n",
       "10005  145  1070  192   850  673  789  3902  107    9  351  ...  1318  405   \n",
       "10008  107   839   87  1021  546  272  2938  206   72  386  ...  1115  266   \n",
       "10046  206  1016  105  1509  610  509  4531  312   21  422  ...  1227  529   \n",
       "10067  123  1429  107  1333  577  392  2248  254  130  401  ...  1152  409   \n",
       "\n",
       "          IN  JJR   PRP  LS  NNPS   VBN  FW  subjects  \n",
       "10002   7533  183  2277   0     0  1574   5         5  \n",
       "10005  10756  241  3749   0     3  2463  21         5  \n",
       "10008   8244  144  4699   0     0  1665  31         5  \n",
       "10046  12125  248  5522   1     5  2357  41         3  \n",
       "10067   8264  139  5997   0     0  1819  96         2  \n",
       "\n",
       "[5 rows x 36 columns]"
      ]
     },
     "execution_count": 8,
     "metadata": {},
     "output_type": "execute_result"
    }
   ],
   "source": [
    "unigram_df.head()"
   ]
  },
  {
   "cell_type": "code",
   "execution_count": 9,
   "id": "5de14dcc",
   "metadata": {},
   "outputs": [
    {
     "data": {
      "text/plain": [
       "5    1742\n",
       "1     523\n",
       "2     469\n",
       "4     427\n",
       "6     374\n",
       "3     354\n",
       "Name: subjects, dtype: int64"
      ]
     },
     "execution_count": 9,
     "metadata": {},
     "output_type": "execute_result"
    }
   ],
   "source": [
    "unigram_df['subjects'].value_counts()"
   ]
  },
  {
   "cell_type": "code",
   "execution_count": 10,
   "id": "d3fb06f4",
   "metadata": {},
   "outputs": [
    {
     "name": "stdout",
     "output_type": "stream",
     "text": [
      "[2619, 456, 102, 3037, 1126, 1003, 914, 571, 3016, 419, 2771, 3033, 3654, 2233, 356, 2418, 1728, 130, 122, 383]\n",
      "[0, 5, 7, 9, 12, 15, 17, 19, 20, 21, 27, 30, 35, 36, 37, 40, 42, 43, 44, 45]\n",
      "2722\n",
      "1167\n"
     ]
    }
   ],
   "source": [
    "random.seed(42)\n",
    "\n",
    "train = random.sample(range(0, len(unigram_df)), int(len(unigram_df)*0.7))\n",
    "test = [x for x in range(0, len(unigram_df)) if x not in train]\n",
    "\n",
    "print(train[:20])\n",
    "print(test[:20])\n",
    "print(len(train))\n",
    "print(len(test))"
   ]
  },
  {
   "cell_type": "code",
   "execution_count": 11,
   "id": "080076c7",
   "metadata": {},
   "outputs": [
    {
     "name": "stdout",
     "output_type": "stream",
     "text": [
      "(2722, 36)\n",
      "(1167, 36)\n"
     ]
    }
   ],
   "source": [
    "train_df = unigram_df.iloc[train,]\n",
    "test_df = unigram_df.iloc[test,]\n",
    "\n",
    "print(train_df.shape)\n",
    "print(test_df.shape)"
   ]
  },
  {
   "cell_type": "code",
   "execution_count": 12,
   "id": "c6932fb1",
   "metadata": {},
   "outputs": [
    {
     "data": {
      "text/html": [
       "<div>\n",
       "<style scoped>\n",
       "    .dataframe tbody tr th:only-of-type {\n",
       "        vertical-align: middle;\n",
       "    }\n",
       "\n",
       "    .dataframe tbody tr th {\n",
       "        vertical-align: top;\n",
       "    }\n",
       "\n",
       "    .dataframe thead th {\n",
       "        text-align: right;\n",
       "    }\n",
       "</style>\n",
       "<table border=\"1\" class=\"dataframe\">\n",
       "  <thead>\n",
       "    <tr style=\"text-align: right;\">\n",
       "      <th></th>\n",
       "      <th>JJS</th>\n",
       "      <th>VBZ</th>\n",
       "      <th>RBR</th>\n",
       "      <th>MD</th>\n",
       "      <th>CD</th>\n",
       "      <th>WDT</th>\n",
       "      <th>NNS</th>\n",
       "      <th>EX</th>\n",
       "      <th>UH</th>\n",
       "      <th>WRB</th>\n",
       "      <th>...</th>\n",
       "      <th>VBG</th>\n",
       "      <th>WP</th>\n",
       "      <th>IN</th>\n",
       "      <th>JJR</th>\n",
       "      <th>PRP</th>\n",
       "      <th>LS</th>\n",
       "      <th>NNPS</th>\n",
       "      <th>VBN</th>\n",
       "      <th>FW</th>\n",
       "      <th>subjects</th>\n",
       "    </tr>\n",
       "  </thead>\n",
       "  <tbody>\n",
       "    <tr>\n",
       "      <th>6407</th>\n",
       "      <td>491</td>\n",
       "      <td>2454</td>\n",
       "      <td>324</td>\n",
       "      <td>3133</td>\n",
       "      <td>788</td>\n",
       "      <td>1899</td>\n",
       "      <td>6976</td>\n",
       "      <td>290</td>\n",
       "      <td>99</td>\n",
       "      <td>871</td>\n",
       "      <td>...</td>\n",
       "      <td>2595</td>\n",
       "      <td>1420</td>\n",
       "      <td>24414</td>\n",
       "      <td>552</td>\n",
       "      <td>9756</td>\n",
       "      <td>0</td>\n",
       "      <td>1</td>\n",
       "      <td>5329</td>\n",
       "      <td>143</td>\n",
       "      <td>3</td>\n",
       "    </tr>\n",
       "    <tr>\n",
       "      <th>20719</th>\n",
       "      <td>187</td>\n",
       "      <td>1264</td>\n",
       "      <td>122</td>\n",
       "      <td>1705</td>\n",
       "      <td>568</td>\n",
       "      <td>503</td>\n",
       "      <td>2957</td>\n",
       "      <td>173</td>\n",
       "      <td>116</td>\n",
       "      <td>607</td>\n",
       "      <td>...</td>\n",
       "      <td>1563</td>\n",
       "      <td>389</td>\n",
       "      <td>10167</td>\n",
       "      <td>202</td>\n",
       "      <td>6812</td>\n",
       "      <td>0</td>\n",
       "      <td>1</td>\n",
       "      <td>1961</td>\n",
       "      <td>49</td>\n",
       "      <td>4</td>\n",
       "    </tr>\n",
       "    <tr>\n",
       "      <th>12725</th>\n",
       "      <td>294</td>\n",
       "      <td>855</td>\n",
       "      <td>220</td>\n",
       "      <td>1576</td>\n",
       "      <td>530</td>\n",
       "      <td>673</td>\n",
       "      <td>3607</td>\n",
       "      <td>181</td>\n",
       "      <td>115</td>\n",
       "      <td>441</td>\n",
       "      <td>...</td>\n",
       "      <td>1537</td>\n",
       "      <td>459</td>\n",
       "      <td>12342</td>\n",
       "      <td>284</td>\n",
       "      <td>5261</td>\n",
       "      <td>0</td>\n",
       "      <td>1</td>\n",
       "      <td>3392</td>\n",
       "      <td>45</td>\n",
       "      <td>3</td>\n",
       "    </tr>\n",
       "    <tr>\n",
       "      <th>24104</th>\n",
       "      <td>13</td>\n",
       "      <td>201</td>\n",
       "      <td>18</td>\n",
       "      <td>300</td>\n",
       "      <td>199</td>\n",
       "      <td>79</td>\n",
       "      <td>905</td>\n",
       "      <td>98</td>\n",
       "      <td>7</td>\n",
       "      <td>78</td>\n",
       "      <td>...</td>\n",
       "      <td>289</td>\n",
       "      <td>45</td>\n",
       "      <td>1860</td>\n",
       "      <td>36</td>\n",
       "      <td>1111</td>\n",
       "      <td>0</td>\n",
       "      <td>0</td>\n",
       "      <td>425</td>\n",
       "      <td>8</td>\n",
       "      <td>5</td>\n",
       "    </tr>\n",
       "    <tr>\n",
       "      <th>30004</th>\n",
       "      <td>6</td>\n",
       "      <td>57</td>\n",
       "      <td>10</td>\n",
       "      <td>112</td>\n",
       "      <td>91</td>\n",
       "      <td>24</td>\n",
       "      <td>345</td>\n",
       "      <td>13</td>\n",
       "      <td>4</td>\n",
       "      <td>25</td>\n",
       "      <td>...</td>\n",
       "      <td>148</td>\n",
       "      <td>9</td>\n",
       "      <td>861</td>\n",
       "      <td>11</td>\n",
       "      <td>405</td>\n",
       "      <td>0</td>\n",
       "      <td>0</td>\n",
       "      <td>167</td>\n",
       "      <td>1</td>\n",
       "      <td>5</td>\n",
       "    </tr>\n",
       "  </tbody>\n",
       "</table>\n",
       "<p>5 rows × 36 columns</p>\n",
       "</div>"
      ],
      "text/plain": [
       "       JJS   VBZ  RBR    MD   CD   WDT   NNS   EX   UH  WRB  ...   VBG    WP  \\\n",
       "6407   491  2454  324  3133  788  1899  6976  290   99  871  ...  2595  1420   \n",
       "20719  187  1264  122  1705  568   503  2957  173  116  607  ...  1563   389   \n",
       "12725  294   855  220  1576  530   673  3607  181  115  441  ...  1537   459   \n",
       "24104   13   201   18   300  199    79   905   98    7   78  ...   289    45   \n",
       "30004    6    57   10   112   91    24   345   13    4   25  ...   148     9   \n",
       "\n",
       "          IN  JJR   PRP  LS  NNPS   VBN   FW  subjects  \n",
       "6407   24414  552  9756   0     1  5329  143         3  \n",
       "20719  10167  202  6812   0     1  1961   49         4  \n",
       "12725  12342  284  5261   0     1  3392   45         3  \n",
       "24104   1860   36  1111   0     0   425    8         5  \n",
       "30004    861   11   405   0     0   167    1         5  \n",
       "\n",
       "[5 rows x 36 columns]"
      ]
     },
     "execution_count": 12,
     "metadata": {},
     "output_type": "execute_result"
    }
   ],
   "source": [
    "train_df.head()"
   ]
  },
  {
   "cell_type": "code",
   "execution_count": 13,
   "id": "a150a661",
   "metadata": {},
   "outputs": [
    {
     "data": {
      "text/plain": [
       "5    1231\n",
       "1     378\n",
       "2     318\n",
       "4     296\n",
       "6     258\n",
       "3     241\n",
       "Name: subjects, dtype: int64"
      ]
     },
     "execution_count": 13,
     "metadata": {},
     "output_type": "execute_result"
    }
   ],
   "source": [
    "train_df['subjects'].value_counts()"
   ]
  },
  {
   "cell_type": "code",
   "execution_count": 14,
   "id": "8c643e9a",
   "metadata": {},
   "outputs": [
    {
     "data": {
      "text/html": [
       "<div>\n",
       "<style scoped>\n",
       "    .dataframe tbody tr th:only-of-type {\n",
       "        vertical-align: middle;\n",
       "    }\n",
       "\n",
       "    .dataframe tbody tr th {\n",
       "        vertical-align: top;\n",
       "    }\n",
       "\n",
       "    .dataframe thead th {\n",
       "        text-align: right;\n",
       "    }\n",
       "</style>\n",
       "<table border=\"1\" class=\"dataframe\">\n",
       "  <thead>\n",
       "    <tr style=\"text-align: right;\">\n",
       "      <th></th>\n",
       "      <th>JJS</th>\n",
       "      <th>VBZ</th>\n",
       "      <th>RBR</th>\n",
       "      <th>MD</th>\n",
       "      <th>CD</th>\n",
       "      <th>WDT</th>\n",
       "      <th>NNS</th>\n",
       "      <th>EX</th>\n",
       "      <th>UH</th>\n",
       "      <th>WRB</th>\n",
       "      <th>...</th>\n",
       "      <th>VBG</th>\n",
       "      <th>WP</th>\n",
       "      <th>IN</th>\n",
       "      <th>JJR</th>\n",
       "      <th>PRP</th>\n",
       "      <th>LS</th>\n",
       "      <th>NNPS</th>\n",
       "      <th>VBN</th>\n",
       "      <th>FW</th>\n",
       "      <th>subjects</th>\n",
       "    </tr>\n",
       "  </thead>\n",
       "  <tbody>\n",
       "    <tr>\n",
       "      <th>10002</th>\n",
       "      <td>48</td>\n",
       "      <td>464</td>\n",
       "      <td>119</td>\n",
       "      <td>551</td>\n",
       "      <td>329</td>\n",
       "      <td>331</td>\n",
       "      <td>1910</td>\n",
       "      <td>185</td>\n",
       "      <td>13</td>\n",
       "      <td>221</td>\n",
       "      <td>...</td>\n",
       "      <td>1191</td>\n",
       "      <td>100</td>\n",
       "      <td>7533</td>\n",
       "      <td>183</td>\n",
       "      <td>2277</td>\n",
       "      <td>0</td>\n",
       "      <td>0</td>\n",
       "      <td>1574</td>\n",
       "      <td>5</td>\n",
       "      <td>5</td>\n",
       "    </tr>\n",
       "    <tr>\n",
       "      <th>10094</th>\n",
       "      <td>170</td>\n",
       "      <td>875</td>\n",
       "      <td>125</td>\n",
       "      <td>1293</td>\n",
       "      <td>652</td>\n",
       "      <td>469</td>\n",
       "      <td>3435</td>\n",
       "      <td>264</td>\n",
       "      <td>92</td>\n",
       "      <td>521</td>\n",
       "      <td>...</td>\n",
       "      <td>1392</td>\n",
       "      <td>492</td>\n",
       "      <td>10667</td>\n",
       "      <td>221</td>\n",
       "      <td>5931</td>\n",
       "      <td>0</td>\n",
       "      <td>11</td>\n",
       "      <td>2509</td>\n",
       "      <td>58</td>\n",
       "      <td>3</td>\n",
       "    </tr>\n",
       "    <tr>\n",
       "      <th>10124</th>\n",
       "      <td>75</td>\n",
       "      <td>836</td>\n",
       "      <td>43</td>\n",
       "      <td>695</td>\n",
       "      <td>385</td>\n",
       "      <td>165</td>\n",
       "      <td>1882</td>\n",
       "      <td>105</td>\n",
       "      <td>35</td>\n",
       "      <td>257</td>\n",
       "      <td>...</td>\n",
       "      <td>831</td>\n",
       "      <td>234</td>\n",
       "      <td>4911</td>\n",
       "      <td>99</td>\n",
       "      <td>3110</td>\n",
       "      <td>0</td>\n",
       "      <td>0</td>\n",
       "      <td>1175</td>\n",
       "      <td>49</td>\n",
       "      <td>6</td>\n",
       "    </tr>\n",
       "    <tr>\n",
       "      <th>10234</th>\n",
       "      <td>89</td>\n",
       "      <td>1047</td>\n",
       "      <td>76</td>\n",
       "      <td>1015</td>\n",
       "      <td>660</td>\n",
       "      <td>314</td>\n",
       "      <td>2973</td>\n",
       "      <td>180</td>\n",
       "      <td>176</td>\n",
       "      <td>336</td>\n",
       "      <td>...</td>\n",
       "      <td>1334</td>\n",
       "      <td>343</td>\n",
       "      <td>7867</td>\n",
       "      <td>153</td>\n",
       "      <td>4424</td>\n",
       "      <td>0</td>\n",
       "      <td>0</td>\n",
       "      <td>1536</td>\n",
       "      <td>233</td>\n",
       "      <td>3</td>\n",
       "    </tr>\n",
       "    <tr>\n",
       "      <th>10372</th>\n",
       "      <td>196</td>\n",
       "      <td>1433</td>\n",
       "      <td>105</td>\n",
       "      <td>1429</td>\n",
       "      <td>637</td>\n",
       "      <td>305</td>\n",
       "      <td>3567</td>\n",
       "      <td>127</td>\n",
       "      <td>104</td>\n",
       "      <td>473</td>\n",
       "      <td>...</td>\n",
       "      <td>1201</td>\n",
       "      <td>510</td>\n",
       "      <td>9264</td>\n",
       "      <td>240</td>\n",
       "      <td>6487</td>\n",
       "      <td>0</td>\n",
       "      <td>0</td>\n",
       "      <td>2278</td>\n",
       "      <td>98</td>\n",
       "      <td>6</td>\n",
       "    </tr>\n",
       "  </tbody>\n",
       "</table>\n",
       "<p>5 rows × 36 columns</p>\n",
       "</div>"
      ],
      "text/plain": [
       "       JJS   VBZ  RBR    MD   CD  WDT   NNS   EX   UH  WRB  ...   VBG   WP  \\\n",
       "10002   48   464  119   551  329  331  1910  185   13  221  ...  1191  100   \n",
       "10094  170   875  125  1293  652  469  3435  264   92  521  ...  1392  492   \n",
       "10124   75   836   43   695  385  165  1882  105   35  257  ...   831  234   \n",
       "10234   89  1047   76  1015  660  314  2973  180  176  336  ...  1334  343   \n",
       "10372  196  1433  105  1429  637  305  3567  127  104  473  ...  1201  510   \n",
       "\n",
       "          IN  JJR   PRP  LS  NNPS   VBN   FW  subjects  \n",
       "10002   7533  183  2277   0     0  1574    5         5  \n",
       "10094  10667  221  5931   0    11  2509   58         3  \n",
       "10124   4911   99  3110   0     0  1175   49         6  \n",
       "10234   7867  153  4424   0     0  1536  233         3  \n",
       "10372   9264  240  6487   0     0  2278   98         6  \n",
       "\n",
       "[5 rows x 36 columns]"
      ]
     },
     "execution_count": 14,
     "metadata": {},
     "output_type": "execute_result"
    }
   ],
   "source": [
    "test_df.head()"
   ]
  },
  {
   "cell_type": "code",
   "execution_count": 15,
   "id": "80d2355d",
   "metadata": {},
   "outputs": [
    {
     "data": {
      "text/plain": [
       "5    511\n",
       "2    151\n",
       "1    145\n",
       "4    131\n",
       "6    116\n",
       "3    113\n",
       "Name: subjects, dtype: int64"
      ]
     },
     "execution_count": 15,
     "metadata": {},
     "output_type": "execute_result"
    }
   ],
   "source": [
    "test_df['subjects'].value_counts()"
   ]
  },
  {
   "cell_type": "code",
   "execution_count": 16,
   "id": "dec7fe5c",
   "metadata": {},
   "outputs": [],
   "source": [
    "features_col = train_df.iloc[:,:-1]\n",
    "sparse = {}\n",
    "for feature in features_col.columns:\n",
    "    sparse[feature] = ((features_col[feature] == 0).sum()/len(features_col))*100\n",
    "non_sparse = [x for x in sparse.keys() if sparse[x] <= 80]"
   ]
  },
  {
   "cell_type": "code",
   "execution_count": 17,
   "id": "faab9541",
   "metadata": {},
   "outputs": [
    {
     "data": {
      "text/html": [
       "<div>\n",
       "<style scoped>\n",
       "    .dataframe tbody tr th:only-of-type {\n",
       "        vertical-align: middle;\n",
       "    }\n",
       "\n",
       "    .dataframe tbody tr th {\n",
       "        vertical-align: top;\n",
       "    }\n",
       "\n",
       "    .dataframe thead th {\n",
       "        text-align: right;\n",
       "    }\n",
       "</style>\n",
       "<table border=\"1\" class=\"dataframe\">\n",
       "  <thead>\n",
       "    <tr style=\"text-align: right;\">\n",
       "      <th></th>\n",
       "      <th>JJS</th>\n",
       "      <th>VBZ</th>\n",
       "      <th>RBR</th>\n",
       "      <th>MD</th>\n",
       "      <th>CD</th>\n",
       "      <th>WDT</th>\n",
       "      <th>NNS</th>\n",
       "      <th>EX</th>\n",
       "      <th>UH</th>\n",
       "      <th>WRB</th>\n",
       "      <th>...</th>\n",
       "      <th>RB</th>\n",
       "      <th>VBG</th>\n",
       "      <th>WP</th>\n",
       "      <th>IN</th>\n",
       "      <th>JJR</th>\n",
       "      <th>PRP</th>\n",
       "      <th>LS</th>\n",
       "      <th>NNPS</th>\n",
       "      <th>VBN</th>\n",
       "      <th>FW</th>\n",
       "    </tr>\n",
       "  </thead>\n",
       "  <tbody>\n",
       "    <tr>\n",
       "      <th>6407</th>\n",
       "      <td>491</td>\n",
       "      <td>2454</td>\n",
       "      <td>324</td>\n",
       "      <td>3133</td>\n",
       "      <td>788</td>\n",
       "      <td>1899</td>\n",
       "      <td>6976</td>\n",
       "      <td>290</td>\n",
       "      <td>99</td>\n",
       "      <td>871</td>\n",
       "      <td>...</td>\n",
       "      <td>9130</td>\n",
       "      <td>2595</td>\n",
       "      <td>1420</td>\n",
       "      <td>24414</td>\n",
       "      <td>552</td>\n",
       "      <td>9756</td>\n",
       "      <td>0</td>\n",
       "      <td>1</td>\n",
       "      <td>5329</td>\n",
       "      <td>143</td>\n",
       "    </tr>\n",
       "    <tr>\n",
       "      <th>20719</th>\n",
       "      <td>187</td>\n",
       "      <td>1264</td>\n",
       "      <td>122</td>\n",
       "      <td>1705</td>\n",
       "      <td>568</td>\n",
       "      <td>503</td>\n",
       "      <td>2957</td>\n",
       "      <td>173</td>\n",
       "      <td>116</td>\n",
       "      <td>607</td>\n",
       "      <td>...</td>\n",
       "      <td>5879</td>\n",
       "      <td>1563</td>\n",
       "      <td>389</td>\n",
       "      <td>10167</td>\n",
       "      <td>202</td>\n",
       "      <td>6812</td>\n",
       "      <td>0</td>\n",
       "      <td>1</td>\n",
       "      <td>1961</td>\n",
       "      <td>49</td>\n",
       "    </tr>\n",
       "    <tr>\n",
       "      <th>12725</th>\n",
       "      <td>294</td>\n",
       "      <td>855</td>\n",
       "      <td>220</td>\n",
       "      <td>1576</td>\n",
       "      <td>530</td>\n",
       "      <td>673</td>\n",
       "      <td>3607</td>\n",
       "      <td>181</td>\n",
       "      <td>115</td>\n",
       "      <td>441</td>\n",
       "      <td>...</td>\n",
       "      <td>6561</td>\n",
       "      <td>1537</td>\n",
       "      <td>459</td>\n",
       "      <td>12342</td>\n",
       "      <td>284</td>\n",
       "      <td>5261</td>\n",
       "      <td>0</td>\n",
       "      <td>1</td>\n",
       "      <td>3392</td>\n",
       "      <td>45</td>\n",
       "    </tr>\n",
       "    <tr>\n",
       "      <th>24104</th>\n",
       "      <td>13</td>\n",
       "      <td>201</td>\n",
       "      <td>18</td>\n",
       "      <td>300</td>\n",
       "      <td>199</td>\n",
       "      <td>79</td>\n",
       "      <td>905</td>\n",
       "      <td>98</td>\n",
       "      <td>7</td>\n",
       "      <td>78</td>\n",
       "      <td>...</td>\n",
       "      <td>974</td>\n",
       "      <td>289</td>\n",
       "      <td>45</td>\n",
       "      <td>1860</td>\n",
       "      <td>36</td>\n",
       "      <td>1111</td>\n",
       "      <td>0</td>\n",
       "      <td>0</td>\n",
       "      <td>425</td>\n",
       "      <td>8</td>\n",
       "    </tr>\n",
       "    <tr>\n",
       "      <th>30004</th>\n",
       "      <td>6</td>\n",
       "      <td>57</td>\n",
       "      <td>10</td>\n",
       "      <td>112</td>\n",
       "      <td>91</td>\n",
       "      <td>24</td>\n",
       "      <td>345</td>\n",
       "      <td>13</td>\n",
       "      <td>4</td>\n",
       "      <td>25</td>\n",
       "      <td>...</td>\n",
       "      <td>273</td>\n",
       "      <td>148</td>\n",
       "      <td>9</td>\n",
       "      <td>861</td>\n",
       "      <td>11</td>\n",
       "      <td>405</td>\n",
       "      <td>0</td>\n",
       "      <td>0</td>\n",
       "      <td>167</td>\n",
       "      <td>1</td>\n",
       "    </tr>\n",
       "  </tbody>\n",
       "</table>\n",
       "<p>5 rows × 35 columns</p>\n",
       "</div>"
      ],
      "text/plain": [
       "       JJS   VBZ  RBR    MD   CD   WDT   NNS   EX   UH  WRB  ...    RB   VBG  \\\n",
       "6407   491  2454  324  3133  788  1899  6976  290   99  871  ...  9130  2595   \n",
       "20719  187  1264  122  1705  568   503  2957  173  116  607  ...  5879  1563   \n",
       "12725  294   855  220  1576  530   673  3607  181  115  441  ...  6561  1537   \n",
       "24104   13   201   18   300  199    79   905   98    7   78  ...   974   289   \n",
       "30004    6    57   10   112   91    24   345   13    4   25  ...   273   148   \n",
       "\n",
       "         WP     IN  JJR   PRP  LS  NNPS   VBN   FW  \n",
       "6407   1420  24414  552  9756   0     1  5329  143  \n",
       "20719   389  10167  202  6812   0     1  1961   49  \n",
       "12725   459  12342  284  5261   0     1  3392   45  \n",
       "24104    45   1860   36  1111   0     0   425    8  \n",
       "30004     9    861   11   405   0     0   167    1  \n",
       "\n",
       "[5 rows x 35 columns]"
      ]
     },
     "execution_count": 17,
     "metadata": {},
     "output_type": "execute_result"
    }
   ],
   "source": [
    "features_col.head()"
   ]
  },
  {
   "cell_type": "code",
   "execution_count": 18,
   "id": "03d4018c",
   "metadata": {},
   "outputs": [],
   "source": [
    "# remove sparse columns aka columns with 0 values more than 80%\n",
    "features_col = train_df.iloc[:, :-1]\n",
    "subjects = train_df.iloc[:, -1:]\n",
    "train_index = train_df.index\n",
    "sparse = {}\n",
    "for feature in features_col.columns:\n",
    "    sparse[feature] = ((features_col[feature] == 0).sum()/len(features_col))*100\n",
    "non_sparse = [x for x in sparse.keys() if sparse[x] <= 80]"
   ]
  },
  {
   "cell_type": "code",
   "execution_count": 19,
   "id": "2c170af1",
   "metadata": {},
   "outputs": [],
   "source": [
    "body_length = {}\n",
    "for entry in data_json:\n",
    "    body_length[entry['index']] = entry['body_length']"
   ]
  },
  {
   "cell_type": "code",
   "execution_count": 20,
   "id": "7271f05e",
   "metadata": {},
   "outputs": [
    {
     "data": {
      "text/plain": [
       "225019"
      ]
     },
     "execution_count": 20,
     "metadata": {},
     "output_type": "execute_result"
    }
   ],
   "source": [
    "body_length['6407']"
   ]
  },
  {
   "cell_type": "code",
   "execution_count": 21,
   "id": "858a7ceb",
   "metadata": {},
   "outputs": [
    {
     "data": {
      "text/plain": [
       "Index(['6407', '20719', '12725', '24104', '30004', '29060', '2789', '22540',\n",
       "       '2344', '20152'],\n",
       "      dtype='object')"
      ]
     },
     "execution_count": 21,
     "metadata": {},
     "output_type": "execute_result"
    }
   ],
   "source": [
    "train_index[:10]"
   ]
  },
  {
   "cell_type": "code",
   "execution_count": 22,
   "id": "5d488d9d",
   "metadata": {},
   "outputs": [],
   "source": [
    "# rescale the data by dividing it with row sum then standardize it\n",
    "from sklearn.preprocessing import StandardScaler\n",
    "\n",
    "train_df = train_df[non_sparse]\n",
    "for number in train_index:\n",
    "    train_df.loc[number,:] = train_df.loc[number,:].div(int(body_length[number]))\n",
    "train_df['subjects'] = subjects"
   ]
  },
  {
   "cell_type": "code",
   "execution_count": 23,
   "id": "27e39de8",
   "metadata": {},
   "outputs": [
    {
     "data": {
      "text/html": [
       "<div>\n",
       "<style scoped>\n",
       "    .dataframe tbody tr th:only-of-type {\n",
       "        vertical-align: middle;\n",
       "    }\n",
       "\n",
       "    .dataframe tbody tr th {\n",
       "        vertical-align: top;\n",
       "    }\n",
       "\n",
       "    .dataframe thead th {\n",
       "        text-align: right;\n",
       "    }\n",
       "</style>\n",
       "<table border=\"1\" class=\"dataframe\">\n",
       "  <thead>\n",
       "    <tr style=\"text-align: right;\">\n",
       "      <th></th>\n",
       "      <th>JJS</th>\n",
       "      <th>VBZ</th>\n",
       "      <th>RBR</th>\n",
       "      <th>MD</th>\n",
       "      <th>CD</th>\n",
       "      <th>WDT</th>\n",
       "      <th>NNS</th>\n",
       "      <th>EX</th>\n",
       "      <th>UH</th>\n",
       "      <th>WRB</th>\n",
       "      <th>...</th>\n",
       "      <th>RB</th>\n",
       "      <th>VBG</th>\n",
       "      <th>WP</th>\n",
       "      <th>IN</th>\n",
       "      <th>JJR</th>\n",
       "      <th>PRP</th>\n",
       "      <th>NNPS</th>\n",
       "      <th>VBN</th>\n",
       "      <th>FW</th>\n",
       "      <th>subjects</th>\n",
       "    </tr>\n",
       "  </thead>\n",
       "  <tbody>\n",
       "    <tr>\n",
       "      <th>6407</th>\n",
       "      <td>0.002182</td>\n",
       "      <td>0.010906</td>\n",
       "      <td>0.001440</td>\n",
       "      <td>0.013923</td>\n",
       "      <td>0.003502</td>\n",
       "      <td>0.008439</td>\n",
       "      <td>0.031002</td>\n",
       "      <td>0.001289</td>\n",
       "      <td>0.000440</td>\n",
       "      <td>0.003871</td>\n",
       "      <td>...</td>\n",
       "      <td>0.040574</td>\n",
       "      <td>0.011532</td>\n",
       "      <td>0.006311</td>\n",
       "      <td>0.108498</td>\n",
       "      <td>0.002453</td>\n",
       "      <td>0.043356</td>\n",
       "      <td>0.000004</td>\n",
       "      <td>0.023682</td>\n",
       "      <td>0.000636</td>\n",
       "      <td>3</td>\n",
       "    </tr>\n",
       "    <tr>\n",
       "      <th>20719</th>\n",
       "      <td>0.001899</td>\n",
       "      <td>0.012834</td>\n",
       "      <td>0.001239</td>\n",
       "      <td>0.017312</td>\n",
       "      <td>0.005767</td>\n",
       "      <td>0.005107</td>\n",
       "      <td>0.030024</td>\n",
       "      <td>0.001757</td>\n",
       "      <td>0.001178</td>\n",
       "      <td>0.006163</td>\n",
       "      <td>...</td>\n",
       "      <td>0.059693</td>\n",
       "      <td>0.015870</td>\n",
       "      <td>0.003950</td>\n",
       "      <td>0.103231</td>\n",
       "      <td>0.002051</td>\n",
       "      <td>0.069166</td>\n",
       "      <td>0.000010</td>\n",
       "      <td>0.019911</td>\n",
       "      <td>0.000498</td>\n",
       "      <td>4</td>\n",
       "    </tr>\n",
       "    <tr>\n",
       "      <th>12725</th>\n",
       "      <td>0.002517</td>\n",
       "      <td>0.007320</td>\n",
       "      <td>0.001883</td>\n",
       "      <td>0.013492</td>\n",
       "      <td>0.004537</td>\n",
       "      <td>0.005762</td>\n",
       "      <td>0.030880</td>\n",
       "      <td>0.001550</td>\n",
       "      <td>0.000985</td>\n",
       "      <td>0.003775</td>\n",
       "      <td>...</td>\n",
       "      <td>0.056170</td>\n",
       "      <td>0.013159</td>\n",
       "      <td>0.003930</td>\n",
       "      <td>0.105662</td>\n",
       "      <td>0.002431</td>\n",
       "      <td>0.045040</td>\n",
       "      <td>0.000009</td>\n",
       "      <td>0.029040</td>\n",
       "      <td>0.000385</td>\n",
       "      <td>3</td>\n",
       "    </tr>\n",
       "    <tr>\n",
       "      <th>24104</th>\n",
       "      <td>0.000641</td>\n",
       "      <td>0.009917</td>\n",
       "      <td>0.000888</td>\n",
       "      <td>0.014802</td>\n",
       "      <td>0.009818</td>\n",
       "      <td>0.003898</td>\n",
       "      <td>0.044652</td>\n",
       "      <td>0.004835</td>\n",
       "      <td>0.000345</td>\n",
       "      <td>0.003848</td>\n",
       "      <td>...</td>\n",
       "      <td>0.048056</td>\n",
       "      <td>0.014259</td>\n",
       "      <td>0.002220</td>\n",
       "      <td>0.091770</td>\n",
       "      <td>0.001776</td>\n",
       "      <td>0.054815</td>\n",
       "      <td>0.000000</td>\n",
       "      <td>0.020969</td>\n",
       "      <td>0.000395</td>\n",
       "      <td>5</td>\n",
       "    </tr>\n",
       "    <tr>\n",
       "      <th>30004</th>\n",
       "      <td>0.000773</td>\n",
       "      <td>0.007347</td>\n",
       "      <td>0.001289</td>\n",
       "      <td>0.014437</td>\n",
       "      <td>0.011730</td>\n",
       "      <td>0.003094</td>\n",
       "      <td>0.044470</td>\n",
       "      <td>0.001676</td>\n",
       "      <td>0.000516</td>\n",
       "      <td>0.003222</td>\n",
       "      <td>...</td>\n",
       "      <td>0.035189</td>\n",
       "      <td>0.019077</td>\n",
       "      <td>0.001160</td>\n",
       "      <td>0.110982</td>\n",
       "      <td>0.001418</td>\n",
       "      <td>0.052204</td>\n",
       "      <td>0.000000</td>\n",
       "      <td>0.021526</td>\n",
       "      <td>0.000129</td>\n",
       "      <td>5</td>\n",
       "    </tr>\n",
       "  </tbody>\n",
       "</table>\n",
       "<p>5 rows × 35 columns</p>\n",
       "</div>"
      ],
      "text/plain": [
       "            JJS       VBZ       RBR        MD        CD       WDT       NNS  \\\n",
       "6407   0.002182  0.010906  0.001440  0.013923  0.003502  0.008439  0.031002   \n",
       "20719  0.001899  0.012834  0.001239  0.017312  0.005767  0.005107  0.030024   \n",
       "12725  0.002517  0.007320  0.001883  0.013492  0.004537  0.005762  0.030880   \n",
       "24104  0.000641  0.009917  0.000888  0.014802  0.009818  0.003898  0.044652   \n",
       "30004  0.000773  0.007347  0.001289  0.014437  0.011730  0.003094  0.044470   \n",
       "\n",
       "             EX        UH       WRB  ...        RB       VBG        WP  \\\n",
       "6407   0.001289  0.000440  0.003871  ...  0.040574  0.011532  0.006311   \n",
       "20719  0.001757  0.001178  0.006163  ...  0.059693  0.015870  0.003950   \n",
       "12725  0.001550  0.000985  0.003775  ...  0.056170  0.013159  0.003930   \n",
       "24104  0.004835  0.000345  0.003848  ...  0.048056  0.014259  0.002220   \n",
       "30004  0.001676  0.000516  0.003222  ...  0.035189  0.019077  0.001160   \n",
       "\n",
       "             IN       JJR       PRP      NNPS       VBN        FW  subjects  \n",
       "6407   0.108498  0.002453  0.043356  0.000004  0.023682  0.000636         3  \n",
       "20719  0.103231  0.002051  0.069166  0.000010  0.019911  0.000498         4  \n",
       "12725  0.105662  0.002431  0.045040  0.000009  0.029040  0.000385         3  \n",
       "24104  0.091770  0.001776  0.054815  0.000000  0.020969  0.000395         5  \n",
       "30004  0.110982  0.001418  0.052204  0.000000  0.021526  0.000129         5  \n",
       "\n",
       "[5 rows x 35 columns]"
      ]
     },
     "execution_count": 23,
     "metadata": {},
     "output_type": "execute_result"
    }
   ],
   "source": [
    "train_df.head()"
   ]
  },
  {
   "cell_type": "code",
   "execution_count": 24,
   "id": "0ec8d738",
   "metadata": {},
   "outputs": [
    {
     "data": {
      "text/html": [
       "<style>#sk-container-id-1 {color: black;background-color: white;}#sk-container-id-1 pre{padding: 0;}#sk-container-id-1 div.sk-toggleable {background-color: white;}#sk-container-id-1 label.sk-toggleable__label {cursor: pointer;display: block;width: 100%;margin-bottom: 0;padding: 0.3em;box-sizing: border-box;text-align: center;}#sk-container-id-1 label.sk-toggleable__label-arrow:before {content: \"▸\";float: left;margin-right: 0.25em;color: #696969;}#sk-container-id-1 label.sk-toggleable__label-arrow:hover:before {color: black;}#sk-container-id-1 div.sk-estimator:hover label.sk-toggleable__label-arrow:before {color: black;}#sk-container-id-1 div.sk-toggleable__content {max-height: 0;max-width: 0;overflow: hidden;text-align: left;background-color: #f0f8ff;}#sk-container-id-1 div.sk-toggleable__content pre {margin: 0.2em;color: black;border-radius: 0.25em;background-color: #f0f8ff;}#sk-container-id-1 input.sk-toggleable__control:checked~div.sk-toggleable__content {max-height: 200px;max-width: 100%;overflow: auto;}#sk-container-id-1 input.sk-toggleable__control:checked~label.sk-toggleable__label-arrow:before {content: \"▾\";}#sk-container-id-1 div.sk-estimator input.sk-toggleable__control:checked~label.sk-toggleable__label {background-color: #d4ebff;}#sk-container-id-1 div.sk-label input.sk-toggleable__control:checked~label.sk-toggleable__label {background-color: #d4ebff;}#sk-container-id-1 input.sk-hidden--visually {border: 0;clip: rect(1px 1px 1px 1px);clip: rect(1px, 1px, 1px, 1px);height: 1px;margin: -1px;overflow: hidden;padding: 0;position: absolute;width: 1px;}#sk-container-id-1 div.sk-estimator {font-family: monospace;background-color: #f0f8ff;border: 1px dotted black;border-radius: 0.25em;box-sizing: border-box;margin-bottom: 0.5em;}#sk-container-id-1 div.sk-estimator:hover {background-color: #d4ebff;}#sk-container-id-1 div.sk-parallel-item::after {content: \"\";width: 100%;border-bottom: 1px solid gray;flex-grow: 1;}#sk-container-id-1 div.sk-label:hover label.sk-toggleable__label {background-color: #d4ebff;}#sk-container-id-1 div.sk-serial::before {content: \"\";position: absolute;border-left: 1px solid gray;box-sizing: border-box;top: 0;bottom: 0;left: 50%;z-index: 0;}#sk-container-id-1 div.sk-serial {display: flex;flex-direction: column;align-items: center;background-color: white;padding-right: 0.2em;padding-left: 0.2em;position: relative;}#sk-container-id-1 div.sk-item {position: relative;z-index: 1;}#sk-container-id-1 div.sk-parallel {display: flex;align-items: stretch;justify-content: center;background-color: white;position: relative;}#sk-container-id-1 div.sk-item::before, #sk-container-id-1 div.sk-parallel-item::before {content: \"\";position: absolute;border-left: 1px solid gray;box-sizing: border-box;top: 0;bottom: 0;left: 50%;z-index: -1;}#sk-container-id-1 div.sk-parallel-item {display: flex;flex-direction: column;z-index: 1;position: relative;background-color: white;}#sk-container-id-1 div.sk-parallel-item:first-child::after {align-self: flex-end;width: 50%;}#sk-container-id-1 div.sk-parallel-item:last-child::after {align-self: flex-start;width: 50%;}#sk-container-id-1 div.sk-parallel-item:only-child::after {width: 0;}#sk-container-id-1 div.sk-dashed-wrapped {border: 1px dashed gray;margin: 0 0.4em 0.5em 0.4em;box-sizing: border-box;padding-bottom: 0.4em;background-color: white;}#sk-container-id-1 div.sk-label label {font-family: monospace;font-weight: bold;display: inline-block;line-height: 1.2em;}#sk-container-id-1 div.sk-label-container {text-align: center;}#sk-container-id-1 div.sk-container {/* jupyter's `normalize.less` sets `[hidden] { display: none; }` but bootstrap.min.css set `[hidden] { display: none !important; }` so we also need the `!important` here to be able to override the default hidden behavior on the sphinx rendered scikit-learn.org. See: https://github.com/scikit-learn/scikit-learn/issues/21755 */display: inline-block !important;position: relative;}#sk-container-id-1 div.sk-text-repr-fallback {display: none;}</style><div id=\"sk-container-id-1\" class=\"sk-top-container\"><div class=\"sk-text-repr-fallback\"><pre>SVC(kernel=&#x27;linear&#x27;)</pre><b>In a Jupyter environment, please rerun this cell to show the HTML representation or trust the notebook. <br />On GitHub, the HTML representation is unable to render, please try loading this page with nbviewer.org.</b></div><div class=\"sk-container\" hidden><div class=\"sk-item\"><div class=\"sk-estimator sk-toggleable\"><input class=\"sk-toggleable__control sk-hidden--visually\" id=\"sk-estimator-id-1\" type=\"checkbox\" checked><label for=\"sk-estimator-id-1\" class=\"sk-toggleable__label sk-toggleable__label-arrow\">SVC</label><div class=\"sk-toggleable__content\"><pre>SVC(kernel=&#x27;linear&#x27;)</pre></div></div></div></div></div>"
      ],
      "text/plain": [
       "SVC(kernel='linear')"
      ]
     },
     "execution_count": 24,
     "metadata": {},
     "output_type": "execute_result"
    }
   ],
   "source": [
    "from sklearn import svm\n",
    "from matplotlib import pyplot as plt\n",
    "\n",
    "X = train_df.iloc[:, :-1].to_numpy()\n",
    "y = train_df.iloc[:, -1:].to_numpy().flatten()\n",
    "\n",
    "clf = svm.SVC(kernel='linear')\n",
    "clf.fit(X, y)"
   ]
  },
  {
   "cell_type": "code",
   "execution_count": 25,
   "id": "42e9fc84",
   "metadata": {},
   "outputs": [
    {
     "data": {
      "text/html": [
       "<style>#sk-container-id-2 {color: black;background-color: white;}#sk-container-id-2 pre{padding: 0;}#sk-container-id-2 div.sk-toggleable {background-color: white;}#sk-container-id-2 label.sk-toggleable__label {cursor: pointer;display: block;width: 100%;margin-bottom: 0;padding: 0.3em;box-sizing: border-box;text-align: center;}#sk-container-id-2 label.sk-toggleable__label-arrow:before {content: \"▸\";float: left;margin-right: 0.25em;color: #696969;}#sk-container-id-2 label.sk-toggleable__label-arrow:hover:before {color: black;}#sk-container-id-2 div.sk-estimator:hover label.sk-toggleable__label-arrow:before {color: black;}#sk-container-id-2 div.sk-toggleable__content {max-height: 0;max-width: 0;overflow: hidden;text-align: left;background-color: #f0f8ff;}#sk-container-id-2 div.sk-toggleable__content pre {margin: 0.2em;color: black;border-radius: 0.25em;background-color: #f0f8ff;}#sk-container-id-2 input.sk-toggleable__control:checked~div.sk-toggleable__content {max-height: 200px;max-width: 100%;overflow: auto;}#sk-container-id-2 input.sk-toggleable__control:checked~label.sk-toggleable__label-arrow:before {content: \"▾\";}#sk-container-id-2 div.sk-estimator input.sk-toggleable__control:checked~label.sk-toggleable__label {background-color: #d4ebff;}#sk-container-id-2 div.sk-label input.sk-toggleable__control:checked~label.sk-toggleable__label {background-color: #d4ebff;}#sk-container-id-2 input.sk-hidden--visually {border: 0;clip: rect(1px 1px 1px 1px);clip: rect(1px, 1px, 1px, 1px);height: 1px;margin: -1px;overflow: hidden;padding: 0;position: absolute;width: 1px;}#sk-container-id-2 div.sk-estimator {font-family: monospace;background-color: #f0f8ff;border: 1px dotted black;border-radius: 0.25em;box-sizing: border-box;margin-bottom: 0.5em;}#sk-container-id-2 div.sk-estimator:hover {background-color: #d4ebff;}#sk-container-id-2 div.sk-parallel-item::after {content: \"\";width: 100%;border-bottom: 1px solid gray;flex-grow: 1;}#sk-container-id-2 div.sk-label:hover label.sk-toggleable__label {background-color: #d4ebff;}#sk-container-id-2 div.sk-serial::before {content: \"\";position: absolute;border-left: 1px solid gray;box-sizing: border-box;top: 0;bottom: 0;left: 50%;z-index: 0;}#sk-container-id-2 div.sk-serial {display: flex;flex-direction: column;align-items: center;background-color: white;padding-right: 0.2em;padding-left: 0.2em;position: relative;}#sk-container-id-2 div.sk-item {position: relative;z-index: 1;}#sk-container-id-2 div.sk-parallel {display: flex;align-items: stretch;justify-content: center;background-color: white;position: relative;}#sk-container-id-2 div.sk-item::before, #sk-container-id-2 div.sk-parallel-item::before {content: \"\";position: absolute;border-left: 1px solid gray;box-sizing: border-box;top: 0;bottom: 0;left: 50%;z-index: -1;}#sk-container-id-2 div.sk-parallel-item {display: flex;flex-direction: column;z-index: 1;position: relative;background-color: white;}#sk-container-id-2 div.sk-parallel-item:first-child::after {align-self: flex-end;width: 50%;}#sk-container-id-2 div.sk-parallel-item:last-child::after {align-self: flex-start;width: 50%;}#sk-container-id-2 div.sk-parallel-item:only-child::after {width: 0;}#sk-container-id-2 div.sk-dashed-wrapped {border: 1px dashed gray;margin: 0 0.4em 0.5em 0.4em;box-sizing: border-box;padding-bottom: 0.4em;background-color: white;}#sk-container-id-2 div.sk-label label {font-family: monospace;font-weight: bold;display: inline-block;line-height: 1.2em;}#sk-container-id-2 div.sk-label-container {text-align: center;}#sk-container-id-2 div.sk-container {/* jupyter's `normalize.less` sets `[hidden] { display: none; }` but bootstrap.min.css set `[hidden] { display: none !important; }` so we also need the `!important` here to be able to override the default hidden behavior on the sphinx rendered scikit-learn.org. See: https://github.com/scikit-learn/scikit-learn/issues/21755 */display: inline-block !important;position: relative;}#sk-container-id-2 div.sk-text-repr-fallback {display: none;}</style><div id=\"sk-container-id-2\" class=\"sk-top-container\"><div class=\"sk-text-repr-fallback\"><pre>LinearSVC(loss=&#x27;hinge&#x27;, max_iter=100000)</pre><b>In a Jupyter environment, please rerun this cell to show the HTML representation or trust the notebook. <br />On GitHub, the HTML representation is unable to render, please try loading this page with nbviewer.org.</b></div><div class=\"sk-container\" hidden><div class=\"sk-item\"><div class=\"sk-estimator sk-toggleable\"><input class=\"sk-toggleable__control sk-hidden--visually\" id=\"sk-estimator-id-2\" type=\"checkbox\" checked><label for=\"sk-estimator-id-2\" class=\"sk-toggleable__label sk-toggleable__label-arrow\">LinearSVC</label><div class=\"sk-toggleable__content\"><pre>LinearSVC(loss=&#x27;hinge&#x27;, max_iter=100000)</pre></div></div></div></div></div>"
      ],
      "text/plain": [
       "LinearSVC(loss='hinge', max_iter=100000)"
      ]
     },
     "execution_count": 25,
     "metadata": {},
     "output_type": "execute_result"
    }
   ],
   "source": [
    "clf2 = svm.LinearSVC(loss='hinge', max_iter=100000)\n",
    "clf2.fit(X, y)"
   ]
  },
  {
   "cell_type": "code",
   "execution_count": 26,
   "id": "667ed11d",
   "metadata": {},
   "outputs": [
    {
     "data": {
      "text/html": [
       "<style>#sk-container-id-3 {color: black;background-color: white;}#sk-container-id-3 pre{padding: 0;}#sk-container-id-3 div.sk-toggleable {background-color: white;}#sk-container-id-3 label.sk-toggleable__label {cursor: pointer;display: block;width: 100%;margin-bottom: 0;padding: 0.3em;box-sizing: border-box;text-align: center;}#sk-container-id-3 label.sk-toggleable__label-arrow:before {content: \"▸\";float: left;margin-right: 0.25em;color: #696969;}#sk-container-id-3 label.sk-toggleable__label-arrow:hover:before {color: black;}#sk-container-id-3 div.sk-estimator:hover label.sk-toggleable__label-arrow:before {color: black;}#sk-container-id-3 div.sk-toggleable__content {max-height: 0;max-width: 0;overflow: hidden;text-align: left;background-color: #f0f8ff;}#sk-container-id-3 div.sk-toggleable__content pre {margin: 0.2em;color: black;border-radius: 0.25em;background-color: #f0f8ff;}#sk-container-id-3 input.sk-toggleable__control:checked~div.sk-toggleable__content {max-height: 200px;max-width: 100%;overflow: auto;}#sk-container-id-3 input.sk-toggleable__control:checked~label.sk-toggleable__label-arrow:before {content: \"▾\";}#sk-container-id-3 div.sk-estimator input.sk-toggleable__control:checked~label.sk-toggleable__label {background-color: #d4ebff;}#sk-container-id-3 div.sk-label input.sk-toggleable__control:checked~label.sk-toggleable__label {background-color: #d4ebff;}#sk-container-id-3 input.sk-hidden--visually {border: 0;clip: rect(1px 1px 1px 1px);clip: rect(1px, 1px, 1px, 1px);height: 1px;margin: -1px;overflow: hidden;padding: 0;position: absolute;width: 1px;}#sk-container-id-3 div.sk-estimator {font-family: monospace;background-color: #f0f8ff;border: 1px dotted black;border-radius: 0.25em;box-sizing: border-box;margin-bottom: 0.5em;}#sk-container-id-3 div.sk-estimator:hover {background-color: #d4ebff;}#sk-container-id-3 div.sk-parallel-item::after {content: \"\";width: 100%;border-bottom: 1px solid gray;flex-grow: 1;}#sk-container-id-3 div.sk-label:hover label.sk-toggleable__label {background-color: #d4ebff;}#sk-container-id-3 div.sk-serial::before {content: \"\";position: absolute;border-left: 1px solid gray;box-sizing: border-box;top: 0;bottom: 0;left: 50%;z-index: 0;}#sk-container-id-3 div.sk-serial {display: flex;flex-direction: column;align-items: center;background-color: white;padding-right: 0.2em;padding-left: 0.2em;position: relative;}#sk-container-id-3 div.sk-item {position: relative;z-index: 1;}#sk-container-id-3 div.sk-parallel {display: flex;align-items: stretch;justify-content: center;background-color: white;position: relative;}#sk-container-id-3 div.sk-item::before, #sk-container-id-3 div.sk-parallel-item::before {content: \"\";position: absolute;border-left: 1px solid gray;box-sizing: border-box;top: 0;bottom: 0;left: 50%;z-index: -1;}#sk-container-id-3 div.sk-parallel-item {display: flex;flex-direction: column;z-index: 1;position: relative;background-color: white;}#sk-container-id-3 div.sk-parallel-item:first-child::after {align-self: flex-end;width: 50%;}#sk-container-id-3 div.sk-parallel-item:last-child::after {align-self: flex-start;width: 50%;}#sk-container-id-3 div.sk-parallel-item:only-child::after {width: 0;}#sk-container-id-3 div.sk-dashed-wrapped {border: 1px dashed gray;margin: 0 0.4em 0.5em 0.4em;box-sizing: border-box;padding-bottom: 0.4em;background-color: white;}#sk-container-id-3 div.sk-label label {font-family: monospace;font-weight: bold;display: inline-block;line-height: 1.2em;}#sk-container-id-3 div.sk-label-container {text-align: center;}#sk-container-id-3 div.sk-container {/* jupyter's `normalize.less` sets `[hidden] { display: none; }` but bootstrap.min.css set `[hidden] { display: none !important; }` so we also need the `!important` here to be able to override the default hidden behavior on the sphinx rendered scikit-learn.org. See: https://github.com/scikit-learn/scikit-learn/issues/21755 */display: inline-block !important;position: relative;}#sk-container-id-3 div.sk-text-repr-fallback {display: none;}</style><div id=\"sk-container-id-3\" class=\"sk-top-container\"><div class=\"sk-text-repr-fallback\"><pre>SVC(class_weight=&#x27;balanced&#x27;, kernel=&#x27;linear&#x27;)</pre><b>In a Jupyter environment, please rerun this cell to show the HTML representation or trust the notebook. <br />On GitHub, the HTML representation is unable to render, please try loading this page with nbviewer.org.</b></div><div class=\"sk-container\" hidden><div class=\"sk-item\"><div class=\"sk-estimator sk-toggleable\"><input class=\"sk-toggleable__control sk-hidden--visually\" id=\"sk-estimator-id-3\" type=\"checkbox\" checked><label for=\"sk-estimator-id-3\" class=\"sk-toggleable__label sk-toggleable__label-arrow\">SVC</label><div class=\"sk-toggleable__content\"><pre>SVC(class_weight=&#x27;balanced&#x27;, kernel=&#x27;linear&#x27;)</pre></div></div></div></div></div>"
      ],
      "text/plain": [
       "SVC(class_weight='balanced', kernel='linear')"
      ]
     },
     "execution_count": 26,
     "metadata": {},
     "output_type": "execute_result"
    }
   ],
   "source": [
    "clf3 = svm.SVC(kernel='linear', class_weight='balanced')\n",
    "clf3.fit(X, y)"
   ]
  },
  {
   "cell_type": "code",
   "execution_count": 27,
   "id": "77f4c769",
   "metadata": {},
   "outputs": [
    {
     "data": {
      "text/html": [
       "<style>#sk-container-id-4 {color: black;background-color: white;}#sk-container-id-4 pre{padding: 0;}#sk-container-id-4 div.sk-toggleable {background-color: white;}#sk-container-id-4 label.sk-toggleable__label {cursor: pointer;display: block;width: 100%;margin-bottom: 0;padding: 0.3em;box-sizing: border-box;text-align: center;}#sk-container-id-4 label.sk-toggleable__label-arrow:before {content: \"▸\";float: left;margin-right: 0.25em;color: #696969;}#sk-container-id-4 label.sk-toggleable__label-arrow:hover:before {color: black;}#sk-container-id-4 div.sk-estimator:hover label.sk-toggleable__label-arrow:before {color: black;}#sk-container-id-4 div.sk-toggleable__content {max-height: 0;max-width: 0;overflow: hidden;text-align: left;background-color: #f0f8ff;}#sk-container-id-4 div.sk-toggleable__content pre {margin: 0.2em;color: black;border-radius: 0.25em;background-color: #f0f8ff;}#sk-container-id-4 input.sk-toggleable__control:checked~div.sk-toggleable__content {max-height: 200px;max-width: 100%;overflow: auto;}#sk-container-id-4 input.sk-toggleable__control:checked~label.sk-toggleable__label-arrow:before {content: \"▾\";}#sk-container-id-4 div.sk-estimator input.sk-toggleable__control:checked~label.sk-toggleable__label {background-color: #d4ebff;}#sk-container-id-4 div.sk-label input.sk-toggleable__control:checked~label.sk-toggleable__label {background-color: #d4ebff;}#sk-container-id-4 input.sk-hidden--visually {border: 0;clip: rect(1px 1px 1px 1px);clip: rect(1px, 1px, 1px, 1px);height: 1px;margin: -1px;overflow: hidden;padding: 0;position: absolute;width: 1px;}#sk-container-id-4 div.sk-estimator {font-family: monospace;background-color: #f0f8ff;border: 1px dotted black;border-radius: 0.25em;box-sizing: border-box;margin-bottom: 0.5em;}#sk-container-id-4 div.sk-estimator:hover {background-color: #d4ebff;}#sk-container-id-4 div.sk-parallel-item::after {content: \"\";width: 100%;border-bottom: 1px solid gray;flex-grow: 1;}#sk-container-id-4 div.sk-label:hover label.sk-toggleable__label {background-color: #d4ebff;}#sk-container-id-4 div.sk-serial::before {content: \"\";position: absolute;border-left: 1px solid gray;box-sizing: border-box;top: 0;bottom: 0;left: 50%;z-index: 0;}#sk-container-id-4 div.sk-serial {display: flex;flex-direction: column;align-items: center;background-color: white;padding-right: 0.2em;padding-left: 0.2em;position: relative;}#sk-container-id-4 div.sk-item {position: relative;z-index: 1;}#sk-container-id-4 div.sk-parallel {display: flex;align-items: stretch;justify-content: center;background-color: white;position: relative;}#sk-container-id-4 div.sk-item::before, #sk-container-id-4 div.sk-parallel-item::before {content: \"\";position: absolute;border-left: 1px solid gray;box-sizing: border-box;top: 0;bottom: 0;left: 50%;z-index: -1;}#sk-container-id-4 div.sk-parallel-item {display: flex;flex-direction: column;z-index: 1;position: relative;background-color: white;}#sk-container-id-4 div.sk-parallel-item:first-child::after {align-self: flex-end;width: 50%;}#sk-container-id-4 div.sk-parallel-item:last-child::after {align-self: flex-start;width: 50%;}#sk-container-id-4 div.sk-parallel-item:only-child::after {width: 0;}#sk-container-id-4 div.sk-dashed-wrapped {border: 1px dashed gray;margin: 0 0.4em 0.5em 0.4em;box-sizing: border-box;padding-bottom: 0.4em;background-color: white;}#sk-container-id-4 div.sk-label label {font-family: monospace;font-weight: bold;display: inline-block;line-height: 1.2em;}#sk-container-id-4 div.sk-label-container {text-align: center;}#sk-container-id-4 div.sk-container {/* jupyter's `normalize.less` sets `[hidden] { display: none; }` but bootstrap.min.css set `[hidden] { display: none !important; }` so we also need the `!important` here to be able to override the default hidden behavior on the sphinx rendered scikit-learn.org. See: https://github.com/scikit-learn/scikit-learn/issues/21755 */display: inline-block !important;position: relative;}#sk-container-id-4 div.sk-text-repr-fallback {display: none;}</style><div id=\"sk-container-id-4\" class=\"sk-top-container\"><div class=\"sk-text-repr-fallback\"><pre>LinearSVC(class_weight=&#x27;balanced&#x27;, loss=&#x27;hinge&#x27;, max_iter=100000)</pre><b>In a Jupyter environment, please rerun this cell to show the HTML representation or trust the notebook. <br />On GitHub, the HTML representation is unable to render, please try loading this page with nbviewer.org.</b></div><div class=\"sk-container\" hidden><div class=\"sk-item\"><div class=\"sk-estimator sk-toggleable\"><input class=\"sk-toggleable__control sk-hidden--visually\" id=\"sk-estimator-id-4\" type=\"checkbox\" checked><label for=\"sk-estimator-id-4\" class=\"sk-toggleable__label sk-toggleable__label-arrow\">LinearSVC</label><div class=\"sk-toggleable__content\"><pre>LinearSVC(class_weight=&#x27;balanced&#x27;, loss=&#x27;hinge&#x27;, max_iter=100000)</pre></div></div></div></div></div>"
      ],
      "text/plain": [
       "LinearSVC(class_weight='balanced', loss='hinge', max_iter=100000)"
      ]
     },
     "execution_count": 27,
     "metadata": {},
     "output_type": "execute_result"
    }
   ],
   "source": [
    "clf4 = svm.LinearSVC(loss='hinge', class_weight='balanced', max_iter=100000)\n",
    "clf4.fit(X, y)"
   ]
  },
  {
   "cell_type": "code",
   "execution_count": 28,
   "id": "c14116bc",
   "metadata": {
    "scrolled": true
   },
   "outputs": [
    {
     "data": {
      "image/png": "[encoded data removed]",
      "text/plain": [
       "<Figure size 432x288 with 1 Axes>"
      ]
     },
     "metadata": {
      "needs_background": "light"
     },
     "output_type": "display_data"
    }
   ],
   "source": [
    "# check feature importance\n",
    "\n",
    "def f_importances(coef, names):\n",
    "    imp = coef\n",
    "    imp, names = zip(*sorted(zip(imp, names)))\n",
    "    plt.barh(range(10), imp[-10:], align='center')\n",
    "    plt.yticks(range(10), names[-10:])\n",
    "    plt.show()\n",
    "    \n",
    "f_importances(clf.coef_[0], non_sparse)"
   ]
  },
  {
   "cell_type": "code",
   "execution_count": 29,
   "id": "539e8ea4",
   "metadata": {},
   "outputs": [
    {
     "data": {
      "image/png": "[encoded data removed]",
      "text/plain": [
       "<Figure size 432x288 with 1 Axes>"
      ]
     },
     "metadata": {
      "needs_background": "light"
     },
     "output_type": "display_data"
    }
   ],
   "source": [
    "# check feature importance\n",
    "\n",
    "def f_importances(coef, names):\n",
    "    imp = coef\n",
    "    imp, names = zip(*sorted(zip(imp, names)))\n",
    "    plt.barh(range(10), imp[:10], align='center')\n",
    "    plt.yticks(range(10), names[:10])\n",
    "    plt.show()\n",
    "    \n",
    "f_importances(clf.coef_[0], non_sparse)"
   ]
  },
  {
   "cell_type": "code",
   "execution_count": 30,
   "id": "3d9683c4",
   "metadata": {},
   "outputs": [
    {
     "data": {
      "text/plain": [
       "(6, 34)"
      ]
     },
     "execution_count": 30,
     "metadata": {},
     "output_type": "execute_result"
    }
   ],
   "source": [
    "clf2.coef_.shape"
   ]
  },
  {
   "cell_type": "code",
   "execution_count": 31,
   "id": "daf9a15c",
   "metadata": {},
   "outputs": [],
   "source": [
    "# preprocess test data\n",
    "test_subjects = test_df['subjects']\n",
    "test_index = test_df.index\n",
    "test_df = test_df[non_sparse]\n",
    "#test_df = test_df.div(test_df.sum(axis=1), axis=0)\n",
    "for number in test_index:\n",
    "    test_df.loc[number,:] = test_df.loc[number,:].div(int(body_length[number]))\n",
    "test_df['subjects'] = test_subjects"
   ]
  },
  {
   "cell_type": "code",
   "execution_count": 32,
   "id": "28ec25b7",
   "metadata": {},
   "outputs": [
    {
     "data": {
      "text/html": [
       "<div>\n",
       "<style scoped>\n",
       "    .dataframe tbody tr th:only-of-type {\n",
       "        vertical-align: middle;\n",
       "    }\n",
       "\n",
       "    .dataframe tbody tr th {\n",
       "        vertical-align: top;\n",
       "    }\n",
       "\n",
       "    .dataframe thead th {\n",
       "        text-align: right;\n",
       "    }\n",
       "</style>\n",
       "<table border=\"1\" class=\"dataframe\">\n",
       "  <thead>\n",
       "    <tr style=\"text-align: right;\">\n",
       "      <th></th>\n",
       "      <th>JJS</th>\n",
       "      <th>VBZ</th>\n",
       "      <th>RBR</th>\n",
       "      <th>MD</th>\n",
       "      <th>CD</th>\n",
       "      <th>WDT</th>\n",
       "      <th>NNS</th>\n",
       "      <th>EX</th>\n",
       "      <th>UH</th>\n",
       "      <th>WRB</th>\n",
       "      <th>...</th>\n",
       "      <th>RB</th>\n",
       "      <th>VBG</th>\n",
       "      <th>WP</th>\n",
       "      <th>IN</th>\n",
       "      <th>JJR</th>\n",
       "      <th>PRP</th>\n",
       "      <th>NNPS</th>\n",
       "      <th>VBN</th>\n",
       "      <th>FW</th>\n",
       "      <th>subjects</th>\n",
       "    </tr>\n",
       "  </thead>\n",
       "  <tbody>\n",
       "    <tr>\n",
       "      <th>10002</th>\n",
       "      <td>0.000730</td>\n",
       "      <td>0.007058</td>\n",
       "      <td>0.001810</td>\n",
       "      <td>0.008381</td>\n",
       "      <td>0.005004</td>\n",
       "      <td>0.005035</td>\n",
       "      <td>0.029052</td>\n",
       "      <td>0.002814</td>\n",
       "      <td>0.000198</td>\n",
       "      <td>0.003362</td>\n",
       "      <td>...</td>\n",
       "      <td>0.061892</td>\n",
       "      <td>0.018116</td>\n",
       "      <td>0.001521</td>\n",
       "      <td>0.114581</td>\n",
       "      <td>0.002784</td>\n",
       "      <td>0.034634</td>\n",
       "      <td>0.000000</td>\n",
       "      <td>0.023941</td>\n",
       "      <td>0.000076</td>\n",
       "      <td>5</td>\n",
       "    </tr>\n",
       "    <tr>\n",
       "      <th>10094</th>\n",
       "      <td>0.001688</td>\n",
       "      <td>0.008690</td>\n",
       "      <td>0.001241</td>\n",
       "      <td>0.012841</td>\n",
       "      <td>0.006475</td>\n",
       "      <td>0.004658</td>\n",
       "      <td>0.034115</td>\n",
       "      <td>0.002622</td>\n",
       "      <td>0.000914</td>\n",
       "      <td>0.005174</td>\n",
       "      <td>...</td>\n",
       "      <td>0.049429</td>\n",
       "      <td>0.013825</td>\n",
       "      <td>0.004886</td>\n",
       "      <td>0.105939</td>\n",
       "      <td>0.002195</td>\n",
       "      <td>0.058904</td>\n",
       "      <td>0.000109</td>\n",
       "      <td>0.024918</td>\n",
       "      <td>0.000576</td>\n",
       "      <td>3</td>\n",
       "    </tr>\n",
       "    <tr>\n",
       "      <th>10124</th>\n",
       "      <td>0.001313</td>\n",
       "      <td>0.014637</td>\n",
       "      <td>0.000753</td>\n",
       "      <td>0.012168</td>\n",
       "      <td>0.006741</td>\n",
       "      <td>0.002889</td>\n",
       "      <td>0.032950</td>\n",
       "      <td>0.001838</td>\n",
       "      <td>0.000613</td>\n",
       "      <td>0.004500</td>\n",
       "      <td>...</td>\n",
       "      <td>0.055062</td>\n",
       "      <td>0.014549</td>\n",
       "      <td>0.004097</td>\n",
       "      <td>0.085981</td>\n",
       "      <td>0.001733</td>\n",
       "      <td>0.054450</td>\n",
       "      <td>0.000000</td>\n",
       "      <td>0.020572</td>\n",
       "      <td>0.000858</td>\n",
       "      <td>6</td>\n",
       "    </tr>\n",
       "    <tr>\n",
       "      <th>10234</th>\n",
       "      <td>0.000988</td>\n",
       "      <td>0.011620</td>\n",
       "      <td>0.000844</td>\n",
       "      <td>0.011265</td>\n",
       "      <td>0.007325</td>\n",
       "      <td>0.003485</td>\n",
       "      <td>0.032997</td>\n",
       "      <td>0.001998</td>\n",
       "      <td>0.001953</td>\n",
       "      <td>0.003729</td>\n",
       "      <td>...</td>\n",
       "      <td>0.045527</td>\n",
       "      <td>0.014806</td>\n",
       "      <td>0.003807</td>\n",
       "      <td>0.087314</td>\n",
       "      <td>0.001698</td>\n",
       "      <td>0.049101</td>\n",
       "      <td>0.000000</td>\n",
       "      <td>0.017048</td>\n",
       "      <td>0.002586</td>\n",
       "      <td>3</td>\n",
       "    </tr>\n",
       "    <tr>\n",
       "      <th>10372</th>\n",
       "      <td>0.001734</td>\n",
       "      <td>0.012678</td>\n",
       "      <td>0.000929</td>\n",
       "      <td>0.012643</td>\n",
       "      <td>0.005636</td>\n",
       "      <td>0.002698</td>\n",
       "      <td>0.031559</td>\n",
       "      <td>0.001124</td>\n",
       "      <td>0.000920</td>\n",
       "      <td>0.004185</td>\n",
       "      <td>...</td>\n",
       "      <td>0.046432</td>\n",
       "      <td>0.010626</td>\n",
       "      <td>0.004512</td>\n",
       "      <td>0.081963</td>\n",
       "      <td>0.002123</td>\n",
       "      <td>0.057394</td>\n",
       "      <td>0.000000</td>\n",
       "      <td>0.020155</td>\n",
       "      <td>0.000867</td>\n",
       "      <td>6</td>\n",
       "    </tr>\n",
       "  </tbody>\n",
       "</table>\n",
       "<p>5 rows × 35 columns</p>\n",
       "</div>"
      ],
      "text/plain": [
       "            JJS       VBZ       RBR        MD        CD       WDT       NNS  \\\n",
       "10002  0.000730  0.007058  0.001810  0.008381  0.005004  0.005035  0.029052   \n",
       "10094  0.001688  0.008690  0.001241  0.012841  0.006475  0.004658  0.034115   \n",
       "10124  0.001313  0.014637  0.000753  0.012168  0.006741  0.002889  0.032950   \n",
       "10234  0.000988  0.011620  0.000844  0.011265  0.007325  0.003485  0.032997   \n",
       "10372  0.001734  0.012678  0.000929  0.012643  0.005636  0.002698  0.031559   \n",
       "\n",
       "             EX        UH       WRB  ...        RB       VBG        WP  \\\n",
       "10002  0.002814  0.000198  0.003362  ...  0.061892  0.018116  0.001521   \n",
       "10094  0.002622  0.000914  0.005174  ...  0.049429  0.013825  0.004886   \n",
       "10124  0.001838  0.000613  0.004500  ...  0.055062  0.014549  0.004097   \n",
       "10234  0.001998  0.001953  0.003729  ...  0.045527  0.014806  0.003807   \n",
       "10372  0.001124  0.000920  0.004185  ...  0.046432  0.010626  0.004512   \n",
       "\n",
       "             IN       JJR       PRP      NNPS       VBN        FW  subjects  \n",
       "10002  0.114581  0.002784  0.034634  0.000000  0.023941  0.000076         5  \n",
       "10094  0.105939  0.002195  0.058904  0.000109  0.024918  0.000576         3  \n",
       "10124  0.085981  0.001733  0.054450  0.000000  0.020572  0.000858         6  \n",
       "10234  0.087314  0.001698  0.049101  0.000000  0.017048  0.002586         3  \n",
       "10372  0.081963  0.002123  0.057394  0.000000  0.020155  0.000867         6  \n",
       "\n",
       "[5 rows x 35 columns]"
      ]
     },
     "execution_count": 32,
     "metadata": {},
     "output_type": "execute_result"
    }
   ],
   "source": [
    "test_df.head()"
   ]
  },
  {
   "cell_type": "code",
   "execution_count": 33,
   "id": "1e15fd64",
   "metadata": {},
   "outputs": [],
   "source": [
    "# make prediction\n",
    "\n",
    "X_test = test_df.iloc[:, :-1].to_numpy()\n",
    "y_test = test_df.iloc[:, -1:].to_numpy().flatten()\n",
    "\n",
    "pred = clf.predict(X_test)"
   ]
  },
  {
   "cell_type": "code",
   "execution_count": 34,
   "id": "45bbac71",
   "metadata": {},
   "outputs": [
    {
     "data": {
      "text/plain": [
       "array([5, 5, 5, ..., 5, 5, 5])"
      ]
     },
     "execution_count": 34,
     "metadata": {},
     "output_type": "execute_result"
    }
   ],
   "source": [
    "pred"
   ]
  },
  {
   "cell_type": "code",
   "execution_count": 35,
   "id": "d5f0a264",
   "metadata": {},
   "outputs": [],
   "source": [
    "# confusion matrix\n",
    "from sklearn import metrics\n",
    "import matplotlib.pyplot as plt\n",
    "# import seaborn as sns\n",
    "\n",
    "cm = metrics.confusion_matrix(y_test, pred)\n",
    "cm_df = pd.DataFrame(cm, index = [1,2,3,4,5,6], columns = [1,2,3,4,5,6])\n",
    "#plt.figure()\n",
    "#sns.heatmap(cm_df, annot=True)\n",
    "#plt.title('Confusion Matrix')\n",
    "#plt.ylabel('Actual Values')\n",
    "#plt.xlabel('Predicted Values')\n",
    "#plt.show()"
   ]
  },
  {
   "cell_type": "code",
   "execution_count": 36,
   "id": "c97de39c",
   "metadata": {
    "scrolled": true
   },
   "outputs": [
    {
     "data": {
      "text/plain": [
       "array([[  0,   0,   0,   0, 145,   0],\n",
       "       [  0,   0,   0,   0, 151,   0],\n",
       "       [  0,   0,   0,   0, 113,   0],\n",
       "       [  0,   0,   0,   0, 131,   0],\n",
       "       [  0,   0,   0,   0, 511,   0],\n",
       "       [  0,   0,   0,   0, 116,   0]])"
      ]
     },
     "execution_count": 36,
     "metadata": {},
     "output_type": "execute_result"
    }
   ],
   "source": [
    "cm"
   ]
  },
  {
   "cell_type": "code",
   "execution_count": 37,
   "id": "1aeb10e3",
   "metadata": {},
   "outputs": [
    {
     "data": {
      "text/plain": [
       "array([0., 0., 0., 0., 1., 0.])"
      ]
     },
     "execution_count": 37,
     "metadata": {},
     "output_type": "execute_result"
    }
   ],
   "source": [
    "cm.diagonal()/cm.sum(axis=1)"
   ]
  },
  {
   "cell_type": "code",
   "execution_count": 38,
   "id": "75edd28e",
   "metadata": {},
   "outputs": [
    {
     "name": "stdout",
     "output_type": "stream",
     "text": [
      "                               precision    recall  f1-score   support\n",
      "\n",
      "            Adventure stories      0.000     0.000     0.000       145\n",
      "Detective and mystery stories      0.000     0.000     0.000       151\n",
      "           Historical fiction      0.000     0.000     0.000       113\n",
      "                 Love stories      0.000     0.000     0.000       131\n",
      "              Science fiction      0.438     1.000     0.609       511\n",
      "              Western stories      0.000     0.000     0.000       116\n",
      "\n",
      "                     accuracy                          0.438      1167\n",
      "                    macro avg      0.073     0.167     0.102      1167\n",
      "                 weighted avg      0.192     0.438     0.267      1167\n",
      "\n"
     ]
    },
    {
     "name": "stderr",
     "output_type": "stream",
     "text": [
      "/home/kathyij74/.local/lib/python3.10/site-packages/sklearn/metrics/_classification.py:1334: UndefinedMetricWarning: Precision and F-score are ill-defined and being set to 0.0 in labels with no predicted samples. Use `zero_division` parameter to control this behavior.\n",
      "  _warn_prf(average, modifier, msg_start, len(result))\n",
      "/home/kathyij74/.local/lib/python3.10/site-packages/sklearn/metrics/_classification.py:1334: UndefinedMetricWarning: Precision and F-score are ill-defined and being set to 0.0 in labels with no predicted samples. Use `zero_division` parameter to control this behavior.\n",
      "  _warn_prf(average, modifier, msg_start, len(result))\n",
      "/home/kathyij74/.local/lib/python3.10/site-packages/sklearn/metrics/_classification.py:1334: UndefinedMetricWarning: Precision and F-score are ill-defined and being set to 0.0 in labels with no predicted samples. Use `zero_division` parameter to control this behavior.\n",
      "  _warn_prf(average, modifier, msg_start, len(result))\n"
     ]
    }
   ],
   "source": [
    "from sklearn.metrics import classification_report\n",
    "\n",
    "print(classification_report(y_test, pred, target_names=['Adventure stories','Detective and mystery stories','Historical fiction',\n",
    "                                                        'Love stories','Science fiction','Western stories'], digits=3))"
   ]
  },
  {
   "cell_type": "code",
   "execution_count": null,
   "id": "f6b8f0ef",
   "metadata": {},
   "outputs": [],
   "source": []
  },
  {
   "cell_type": "code",
   "execution_count": 39,
   "id": "b2d7a4ae",
   "metadata": {},
   "outputs": [],
   "source": [
    "# make prediction\n",
    "\n",
    "X_test = test_df.iloc[:, :-1].to_numpy()\n",
    "y_test = test_df.iloc[:, -1:].to_numpy().flatten()\n",
    "\n",
    "pred2 = clf2.predict(X_test)"
   ]
  },
  {
   "cell_type": "code",
   "execution_count": 40,
   "id": "81aa2bca",
   "metadata": {},
   "outputs": [
    {
     "data": {
      "text/plain": [
       "array([5, 3, 5, ..., 4, 5, 5])"
      ]
     },
     "execution_count": 40,
     "metadata": {},
     "output_type": "execute_result"
    }
   ],
   "source": [
    "pred2"
   ]
  },
  {
   "cell_type": "code",
   "execution_count": 41,
   "id": "0634831c",
   "metadata": {},
   "outputs": [],
   "source": [
    "# confusion matrix\n",
    "from sklearn import metrics\n",
    "import matplotlib.pyplot as plt\n",
    "# import seaborn as sns\n",
    "\n",
    "cm2 = metrics.confusion_matrix(y_test, pred2)\n",
    "cm_df2 = pd.DataFrame(cm2, index = [1,2,3,4,5,6], columns = [1,2,3,4,5,6])\n",
    "#plt.figure()\n",
    "#sns.heatmap(cm_df, annot=True)\n",
    "#plt.title('Confusion Matrix')\n",
    "#plt.ylabel('Actual Values')\n",
    "#plt.xlabel('Predicted Values')\n",
    "#plt.show()"
   ]
  },
  {
   "cell_type": "code",
   "execution_count": 42,
   "id": "5b59abe5",
   "metadata": {
    "scrolled": true
   },
   "outputs": [
    {
     "data": {
      "text/plain": [
       "array([[  7,   8,   4,   5, 118,   3],\n",
       "       [  0,  12,   2,  22, 115,   0],\n",
       "       [  2,   0,   6,   4, 100,   1],\n",
       "       [  0,   4,   1,  39,  86,   1],\n",
       "       [  2,   2,   0,   4, 503,   0],\n",
       "       [  1,   2,   0,   5,  99,   9]])"
      ]
     },
     "execution_count": 42,
     "metadata": {},
     "output_type": "execute_result"
    }
   ],
   "source": [
    "cm2"
   ]
  },
  {
   "cell_type": "code",
   "execution_count": 43,
   "id": "3269211c",
   "metadata": {},
   "outputs": [
    {
     "data": {
      "text/plain": [
       "array([0.04827586, 0.0794702 , 0.05309735, 0.29770992, 0.98434442,\n",
       "       0.07758621])"
      ]
     },
     "execution_count": 43,
     "metadata": {},
     "output_type": "execute_result"
    }
   ],
   "source": [
    "cm2.diagonal()/cm2.sum(axis=1)"
   ]
  },
  {
   "cell_type": "code",
   "execution_count": 44,
   "id": "e407c244",
   "metadata": {},
   "outputs": [
    {
     "name": "stdout",
     "output_type": "stream",
     "text": [
      "                               precision    recall  f1-score   support\n",
      "\n",
      "            Adventure stories      0.583     0.048     0.089       145\n",
      "Detective and mystery stories      0.429     0.079     0.134       151\n",
      "           Historical fiction      0.462     0.053     0.095       113\n",
      "                 Love stories      0.494     0.298     0.371       131\n",
      "              Science fiction      0.493     0.984     0.657       511\n",
      "              Western stories      0.643     0.078     0.138       116\n",
      "\n",
      "                     accuracy                          0.494      1167\n",
      "                    macro avg      0.517     0.257     0.248      1167\n",
      "                 weighted avg      0.508     0.494     0.381      1167\n",
      "\n"
     ]
    }
   ],
   "source": [
    "from sklearn.metrics import classification_report\n",
    "\n",
    "print(classification_report(y_test, pred2, target_names=['Adventure stories','Detective and mystery stories','Historical fiction',\n",
    "                                                        'Love stories','Science fiction','Western stories'], digits=3))"
   ]
  },
  {
   "cell_type": "code",
   "execution_count": null,
   "id": "0ee7379b",
   "metadata": {},
   "outputs": [],
   "source": []
  },
  {
   "cell_type": "code",
   "execution_count": 45,
   "id": "68d57638",
   "metadata": {},
   "outputs": [],
   "source": [
    "# make prediction\n",
    "\n",
    "X_test = test_df.iloc[:, :-1].to_numpy()\n",
    "y_test = test_df.iloc[:, -1:].to_numpy().flatten()\n",
    "\n",
    "pred3 = clf3.predict(X_test)"
   ]
  },
  {
   "cell_type": "code",
   "execution_count": 46,
   "id": "c7fe563a",
   "metadata": {},
   "outputs": [
    {
     "data": {
      "text/plain": [
       "array([6, 6, 6, ..., 6, 6, 6])"
      ]
     },
     "execution_count": 46,
     "metadata": {},
     "output_type": "execute_result"
    }
   ],
   "source": [
    "pred3"
   ]
  },
  {
   "cell_type": "code",
   "execution_count": 47,
   "id": "c1bdd3c7",
   "metadata": {},
   "outputs": [],
   "source": [
    "# confusion matrix\n",
    "from sklearn import metrics\n",
    "import matplotlib.pyplot as plt\n",
    "# import seaborn as sns\n",
    "\n",
    "cm3 = metrics.confusion_matrix(y_test, pred3)\n",
    "cm_df3 = pd.DataFrame(cm3, index = [1,2,3,4,5,6], columns = [1,2,3,4,5,6])\n",
    "#plt.figure()\n",
    "#sns.heatmap(cm_df, annot=True)\n",
    "#plt.title('Confusion Matrix')\n",
    "#plt.ylabel('Actual Values')\n",
    "#plt.xlabel('Predicted Values')\n",
    "#plt.show()"
   ]
  },
  {
   "cell_type": "code",
   "execution_count": 48,
   "id": "0e1ba643",
   "metadata": {
    "scrolled": true
   },
   "outputs": [
    {
     "data": {
      "text/plain": [
       "array([[  0,   0,   0,   0,   1, 144],\n",
       "       [  0,   0,   0,   0,   1, 150],\n",
       "       [  0,   0,   0,   0,  10, 103],\n",
       "       [  0,   0,   0,   0,   2, 129],\n",
       "       [  0,   0,   0,   0, 220, 291],\n",
       "       [  0,   0,   0,   0,   6, 110]])"
      ]
     },
     "execution_count": 48,
     "metadata": {},
     "output_type": "execute_result"
    }
   ],
   "source": [
    "cm3"
   ]
  },
  {
   "cell_type": "code",
   "execution_count": 49,
   "id": "df1a204a",
   "metadata": {},
   "outputs": [
    {
     "data": {
      "text/plain": [
       "array([0.        , 0.        , 0.        , 0.        , 0.43052838,\n",
       "       0.94827586])"
      ]
     },
     "execution_count": 49,
     "metadata": {},
     "output_type": "execute_result"
    }
   ],
   "source": [
    "cm3.diagonal()/cm3.sum(axis=1)"
   ]
  },
  {
   "cell_type": "code",
   "execution_count": 50,
   "id": "3864af5d",
   "metadata": {},
   "outputs": [
    {
     "name": "stdout",
     "output_type": "stream",
     "text": [
      "                               precision    recall  f1-score   support\n",
      "\n",
      "            Adventure stories      0.000     0.000     0.000       145\n",
      "Detective and mystery stories      0.000     0.000     0.000       151\n",
      "           Historical fiction      0.000     0.000     0.000       113\n",
      "                 Love stories      0.000     0.000     0.000       131\n",
      "              Science fiction      0.917     0.431     0.586       511\n",
      "              Western stories      0.119     0.948     0.211       116\n",
      "\n",
      "                     accuracy                          0.283      1167\n",
      "                    macro avg      0.173     0.230     0.133      1167\n",
      "                 weighted avg      0.413     0.283     0.278      1167\n",
      "\n"
     ]
    },
    {
     "name": "stderr",
     "output_type": "stream",
     "text": [
      "/home/kathyij74/.local/lib/python3.10/site-packages/sklearn/metrics/_classification.py:1334: UndefinedMetricWarning: Precision and F-score are ill-defined and being set to 0.0 in labels with no predicted samples. Use `zero_division` parameter to control this behavior.\n",
      "  _warn_prf(average, modifier, msg_start, len(result))\n",
      "/home/kathyij74/.local/lib/python3.10/site-packages/sklearn/metrics/_classification.py:1334: UndefinedMetricWarning: Precision and F-score are ill-defined and being set to 0.0 in labels with no predicted samples. Use `zero_division` parameter to control this behavior.\n",
      "  _warn_prf(average, modifier, msg_start, len(result))\n",
      "/home/kathyij74/.local/lib/python3.10/site-packages/sklearn/metrics/_classification.py:1334: UndefinedMetricWarning: Precision and F-score are ill-defined and being set to 0.0 in labels with no predicted samples. Use `zero_division` parameter to control this behavior.\n",
      "  _warn_prf(average, modifier, msg_start, len(result))\n"
     ]
    }
   ],
   "source": [
    "from sklearn.metrics import classification_report\n",
    "\n",
    "print(classification_report(y_test, pred3, target_names=['Adventure stories','Detective and mystery stories','Historical fiction',\n",
    "                                                        'Love stories','Science fiction','Western stories'], digits=3))"
   ]
  },
  {
   "cell_type": "code",
   "execution_count": null,
   "id": "5513f1e9",
   "metadata": {},
   "outputs": [],
   "source": []
  },
  {
   "cell_type": "code",
   "execution_count": null,
   "id": "b36a089c",
   "metadata": {},
   "outputs": [],
   "source": []
  },
  {
   "cell_type": "code",
   "execution_count": 51,
   "id": "09d5b97e",
   "metadata": {},
   "outputs": [],
   "source": [
    "# make prediction\n",
    "\n",
    "X_test = test_df.iloc[:, :-1].to_numpy()\n",
    "y_test = test_df.iloc[:, -1:].to_numpy().flatten()\n",
    "\n",
    "pred4 = clf4.predict(X_test)"
   ]
  },
  {
   "cell_type": "code",
   "execution_count": 52,
   "id": "5c0fbc30",
   "metadata": {},
   "outputs": [
    {
     "data": {
      "text/plain": [
       "array([2, 3, 5, ..., 4, 4, 5])"
      ]
     },
     "execution_count": 52,
     "metadata": {},
     "output_type": "execute_result"
    }
   ],
   "source": [
    "pred4"
   ]
  },
  {
   "cell_type": "code",
   "execution_count": 53,
   "id": "c7ba6066",
   "metadata": {},
   "outputs": [],
   "source": [
    "# confusion matrix\n",
    "from sklearn import metrics\n",
    "import matplotlib.pyplot as plt\n",
    "# import seaborn as sns\n",
    "\n",
    "cm4 = metrics.confusion_matrix(y_test, pred4)\n",
    "cm_df4 = pd.DataFrame(cm4, index = [1,2,3,4,5,6], columns = [1,2,3,4,5,6])\n",
    "#plt.figure()\n",
    "#sns.heatmap(cm_df, annot=True)\n",
    "#plt.title('Confusion Matrix')\n",
    "#plt.ylabel('Actual Values')\n",
    "#plt.xlabel('Predicted Values')\n",
    "#plt.show()"
   ]
  },
  {
   "cell_type": "code",
   "execution_count": 54,
   "id": "ae6bcacb",
   "metadata": {
    "scrolled": true
   },
   "outputs": [
    {
     "data": {
      "text/plain": [
       "array([[ 16,  16,  40,  21,  45,   7],\n",
       "       [  3,  49,  16,  51,  25,   7],\n",
       "       [  2,   1,  38,  16,  51,   5],\n",
       "       [  4,   3,   6,  79,  35,   4],\n",
       "       [ 12,  11,   2,  11, 466,   9],\n",
       "       [  1,  11,  10,  30,  37,  27]])"
      ]
     },
     "execution_count": 54,
     "metadata": {},
     "output_type": "execute_result"
    }
   ],
   "source": [
    "cm4"
   ]
  },
  {
   "cell_type": "code",
   "execution_count": 55,
   "id": "e54aca36",
   "metadata": {},
   "outputs": [
    {
     "data": {
      "text/plain": [
       "array([0.11034483, 0.32450331, 0.33628319, 0.60305344, 0.91193738,\n",
       "       0.23275862])"
      ]
     },
     "execution_count": 55,
     "metadata": {},
     "output_type": "execute_result"
    }
   ],
   "source": [
    "cm4.diagonal()/cm4.sum(axis=1)"
   ]
  },
  {
   "cell_type": "code",
   "execution_count": 56,
   "id": "ce85a77a",
   "metadata": {},
   "outputs": [
    {
     "name": "stdout",
     "output_type": "stream",
     "text": [
      "                               precision    recall  f1-score   support\n",
      "\n",
      "            Adventure stories      0.421     0.110     0.175       145\n",
      "Detective and mystery stories      0.538     0.325     0.405       151\n",
      "           Historical fiction      0.339     0.336     0.338       113\n",
      "                 Love stories      0.380     0.603     0.466       131\n",
      "              Science fiction      0.707     0.912     0.797       511\n",
      "              Western stories      0.458     0.233     0.309       116\n",
      "\n",
      "                     accuracy                          0.578      1167\n",
      "                    macro avg      0.474     0.420     0.415      1167\n",
      "                 weighted avg      0.553     0.578     0.539      1167\n",
      "\n"
     ]
    }
   ],
   "source": [
    "from sklearn.metrics import classification_report\n",
    "\n",
    "print(classification_report(y_test, pred4, target_names=['Adventure stories','Detective and mystery stories','Historical fiction',\n",
    "                                                        'Love stories','Science fiction','Western stories'], digits=3))"
   ]
  },
  {
   "cell_type": "code",
   "execution_count": null,
   "id": "6b887c6f",
   "metadata": {},
   "outputs": [],
   "source": []
  }
 ],
 "metadata": {
  "kernelspec": {
   "display_name": "Python 3 (ipykernel)",
   "language": "python",
   "name": "python3"
  },
  "language_info": {
   "codemirror_mode": {
    "name": "ipython",
    "version": 3
   },
   "file_extension": ".py",
   "mimetype": "text/x-python",
   "name": "python",
   "nbconvert_exporter": "python",
   "pygments_lexer": "ipython3",
   "version": "3.10.4"
  }
 },
 "nbformat": 4,
 "nbformat_minor": 5
}
